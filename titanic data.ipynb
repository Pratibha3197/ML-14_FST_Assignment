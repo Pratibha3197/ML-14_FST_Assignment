{
 "cells": [
  {
   "cell_type": "markdown",
   "metadata": {},
   "source": [
    "## Skill Activity:4\n",
    "* Date: 24-07-2021\n",
    "* Name: Pratibha S. Gupta.\n",
    "* Email_id : gpratibha970@gmail.com\n",
    "* Module Code: ML14\n",
    "* Time taken to complete the activity?\n",
    "   5 hours ."
   ]
  },
  {
   "cell_type": "markdown",
   "metadata": {},
   "source": [
    "Read **Titanic data** given in the data set folder\n",
    "1. Create the user defined function to handle null values.\n",
    "2. Handle null values using sklearn imputer package\n",
    "3. change categorical values to numeric using:  np.where(), label encoder, get dummies, one hot encoder and column transformation\n",
    "4. check if data is clean and ready to implement algorithm\n",
    "5. implement leave one out , k-fold, stratified k-fold, train test split\n",
    "6. scale the data (Standard scaler, MinMax ...etc... )\n",
    "7. Implement suitable machine learning algorithm.\n",
    "8. compare different algorithm"
   ]
  },
  {
   "cell_type": "markdown",
   "metadata": {},
   "source": [
    "**Variable Information**\n",
    "- survival:\tSurvival\t0 = No, 1 = Yes\n",
    "- pclass:\tTicket class\t1 = 1st, 2 = 2nd, 3 = 3rd\n",
    "- sex:\tSex\t\n",
    "- Age:\tAge in years\t\n",
    "- sibsp:\t# of siblings / spouses aboard the Titanic\t\n",
    "- parch:\t# of parents / children aboard the Titanic\t\n",
    "- ticket:\tTicket number\t\n",
    "- fare:\tPassenger fare\t\n",
    "- cabin:\tCabin number\t\n",
    "- embarked:\tPort of Embarkation\tC = Cherbourg, Q = Queenstown, S = Southampton\n",
    "\n",
    "**Import Data and it's information**"
   ]
  },
  {
   "cell_type": "code",
   "execution_count": 1,
   "metadata": {},
   "outputs": [],
   "source": [
    "#import necessary libraries\n",
    "import numpy as np\n",
    "import pandas as pd\n",
    "import matplotlib.pyplot as plt\n",
    "import seaborn as sns\n",
    "import warnings\n",
    "warnings.filterwarnings(\"ignore\")"
   ]
  },
  {
   "cell_type": "code",
   "execution_count": 2,
   "metadata": {},
   "outputs": [
    {
     "data": {
      "text/html": [
       "<div>\n",
       "<style scoped>\n",
       "    .dataframe tbody tr th:only-of-type {\n",
       "        vertical-align: middle;\n",
       "    }\n",
       "\n",
       "    .dataframe tbody tr th {\n",
       "        vertical-align: top;\n",
       "    }\n",
       "\n",
       "    .dataframe thead th {\n",
       "        text-align: right;\n",
       "    }\n",
       "</style>\n",
       "<table border=\"1\" class=\"dataframe\">\n",
       "  <thead>\n",
       "    <tr style=\"text-align: right;\">\n",
       "      <th></th>\n",
       "      <th>PassengerId</th>\n",
       "      <th>Survived</th>\n",
       "      <th>Pclass</th>\n",
       "      <th>Name</th>\n",
       "      <th>Sex</th>\n",
       "      <th>Age</th>\n",
       "      <th>SibSp</th>\n",
       "      <th>Parch</th>\n",
       "      <th>Ticket</th>\n",
       "      <th>Fare</th>\n",
       "      <th>Cabin</th>\n",
       "      <th>Embarked</th>\n",
       "    </tr>\n",
       "  </thead>\n",
       "  <tbody>\n",
       "    <tr>\n",
       "      <th>0</th>\n",
       "      <td>1</td>\n",
       "      <td>0</td>\n",
       "      <td>3</td>\n",
       "      <td>Braund, Mr. Owen Harris</td>\n",
       "      <td>male</td>\n",
       "      <td>22.0</td>\n",
       "      <td>1</td>\n",
       "      <td>0</td>\n",
       "      <td>A/5 21171</td>\n",
       "      <td>7.2500</td>\n",
       "      <td>NaN</td>\n",
       "      <td>S</td>\n",
       "    </tr>\n",
       "    <tr>\n",
       "      <th>1</th>\n",
       "      <td>2</td>\n",
       "      <td>1</td>\n",
       "      <td>1</td>\n",
       "      <td>Cumings, Mrs. John Bradley (Florence Briggs Th...</td>\n",
       "      <td>female</td>\n",
       "      <td>38.0</td>\n",
       "      <td>1</td>\n",
       "      <td>0</td>\n",
       "      <td>PC 17599</td>\n",
       "      <td>71.2833</td>\n",
       "      <td>C85</td>\n",
       "      <td>C</td>\n",
       "    </tr>\n",
       "  </tbody>\n",
       "</table>\n",
       "</div>"
      ],
      "text/plain": [
       "   PassengerId  Survived  Pclass  \\\n",
       "0            1         0       3   \n",
       "1            2         1       1   \n",
       "\n",
       "                                                Name     Sex   Age  SibSp  \\\n",
       "0                            Braund, Mr. Owen Harris    male  22.0      1   \n",
       "1  Cumings, Mrs. John Bradley (Florence Briggs Th...  female  38.0      1   \n",
       "\n",
       "   Parch     Ticket     Fare Cabin Embarked  \n",
       "0      0  A/5 21171   7.2500   NaN        S  \n",
       "1      0   PC 17599  71.2833   C85        C  "
      ]
     },
     "execution_count": 2,
     "metadata": {},
     "output_type": "execute_result"
    }
   ],
   "source": [
    "data_train=pd.read_csv('titanic_train.csv')    ##import data\n",
    "data_train.head(2)"
   ]
  },
  {
   "cell_type": "code",
   "execution_count": 3,
   "metadata": {},
   "outputs": [
    {
     "name": "stdout",
     "output_type": "stream",
     "text": [
      "(891, 12)\n"
     ]
    }
   ],
   "source": [
    "print(data_train.shape)     ##print the dimension of the data"
   ]
  },
  {
   "cell_type": "code",
   "execution_count": 4,
   "metadata": {},
   "outputs": [
    {
     "data": {
      "text/plain": [
       "PassengerId      0\n",
       "Survived         0\n",
       "Pclass           0\n",
       "Name             0\n",
       "Sex              0\n",
       "Age            177\n",
       "SibSp            0\n",
       "Parch            0\n",
       "Ticket           0\n",
       "Fare             0\n",
       "Cabin          687\n",
       "Embarked         2\n",
       "dtype: int64"
      ]
     },
     "execution_count": 4,
     "metadata": {},
     "output_type": "execute_result"
    }
   ],
   "source": [
    "data_train.isnull().sum()  ##checking missing values"
   ]
  },
  {
   "cell_type": "markdown",
   "metadata": {},
   "source": [
    "'Age' variable has 177 Missing information, 'Cabin' Variable has 687 missing information, 'Embarked' has 2 missing observation."
   ]
  },
  {
   "cell_type": "code",
   "execution_count": 5,
   "metadata": {},
   "outputs": [
    {
     "name": "stdout",
     "output_type": "stream",
     "text": [
      "<class 'pandas.core.frame.DataFrame'>\n",
      "RangeIndex: 891 entries, 0 to 890\n",
      "Data columns (total 12 columns):\n",
      " #   Column       Non-Null Count  Dtype  \n",
      "---  ------       --------------  -----  \n",
      " 0   PassengerId  891 non-null    int64  \n",
      " 1   Survived     891 non-null    int64  \n",
      " 2   Pclass       891 non-null    int64  \n",
      " 3   Name         891 non-null    object \n",
      " 4   Sex          891 non-null    object \n",
      " 5   Age          714 non-null    float64\n",
      " 6   SibSp        891 non-null    int64  \n",
      " 7   Parch        891 non-null    int64  \n",
      " 8   Ticket       891 non-null    object \n",
      " 9   Fare         891 non-null    float64\n",
      " 10  Cabin        204 non-null    object \n",
      " 11  Embarked     889 non-null    object \n",
      "dtypes: float64(2), int64(5), object(5)\n",
      "memory usage: 83.7+ KB\n"
     ]
    }
   ],
   "source": [
    "data_train.info()     ##data information (data type, without missing observation count,dimension of the data)"
   ]
  },
  {
   "cell_type": "markdown",
   "metadata": {},
   "source": [
    "- The variables 'PassengerId', 'Survived', 'Pclass', 'Sibsp', 'Parch' has integer datatype. \n",
    "- Variables 'Age' and 'Fare' has Float datatype. \n",
    "- Variables 'Name', 'Sex', 'Ticket', 'Cabin', 'Embarked' has string datatype."
   ]
  },
  {
   "cell_type": "markdown",
   "metadata": {},
   "source": [
    "**Data Preprocessing**"
   ]
  },
  {
   "cell_type": "code",
   "execution_count": 6,
   "metadata": {},
   "outputs": [
    {
     "data": {
      "text/html": [
       "<div>\n",
       "<style scoped>\n",
       "    .dataframe tbody tr th:only-of-type {\n",
       "        vertical-align: middle;\n",
       "    }\n",
       "\n",
       "    .dataframe tbody tr th {\n",
       "        vertical-align: top;\n",
       "    }\n",
       "\n",
       "    .dataframe thead th {\n",
       "        text-align: right;\n",
       "    }\n",
       "</style>\n",
       "<table border=\"1\" class=\"dataframe\">\n",
       "  <thead>\n",
       "    <tr style=\"text-align: right;\">\n",
       "      <th></th>\n",
       "      <th>Survived</th>\n",
       "      <th>Pclass</th>\n",
       "      <th>Sex</th>\n",
       "      <th>Age</th>\n",
       "      <th>SibSp</th>\n",
       "      <th>Parch</th>\n",
       "      <th>Fare</th>\n",
       "      <th>Cabin</th>\n",
       "      <th>Embarked</th>\n",
       "    </tr>\n",
       "  </thead>\n",
       "  <tbody>\n",
       "    <tr>\n",
       "      <th>count</th>\n",
       "      <td>891.000000</td>\n",
       "      <td>891.000000</td>\n",
       "      <td>891</td>\n",
       "      <td>714.000000</td>\n",
       "      <td>891.000000</td>\n",
       "      <td>891.000000</td>\n",
       "      <td>891.000000</td>\n",
       "      <td>204</td>\n",
       "      <td>889</td>\n",
       "    </tr>\n",
       "    <tr>\n",
       "      <th>unique</th>\n",
       "      <td>NaN</td>\n",
       "      <td>NaN</td>\n",
       "      <td>2</td>\n",
       "      <td>NaN</td>\n",
       "      <td>NaN</td>\n",
       "      <td>NaN</td>\n",
       "      <td>NaN</td>\n",
       "      <td>147</td>\n",
       "      <td>3</td>\n",
       "    </tr>\n",
       "    <tr>\n",
       "      <th>top</th>\n",
       "      <td>NaN</td>\n",
       "      <td>NaN</td>\n",
       "      <td>male</td>\n",
       "      <td>NaN</td>\n",
       "      <td>NaN</td>\n",
       "      <td>NaN</td>\n",
       "      <td>NaN</td>\n",
       "      <td>G6</td>\n",
       "      <td>S</td>\n",
       "    </tr>\n",
       "    <tr>\n",
       "      <th>freq</th>\n",
       "      <td>NaN</td>\n",
       "      <td>NaN</td>\n",
       "      <td>577</td>\n",
       "      <td>NaN</td>\n",
       "      <td>NaN</td>\n",
       "      <td>NaN</td>\n",
       "      <td>NaN</td>\n",
       "      <td>4</td>\n",
       "      <td>644</td>\n",
       "    </tr>\n",
       "    <tr>\n",
       "      <th>mean</th>\n",
       "      <td>0.383838</td>\n",
       "      <td>2.308642</td>\n",
       "      <td>NaN</td>\n",
       "      <td>29.699118</td>\n",
       "      <td>0.523008</td>\n",
       "      <td>0.381594</td>\n",
       "      <td>32.204208</td>\n",
       "      <td>NaN</td>\n",
       "      <td>NaN</td>\n",
       "    </tr>\n",
       "    <tr>\n",
       "      <th>std</th>\n",
       "      <td>0.486592</td>\n",
       "      <td>0.836071</td>\n",
       "      <td>NaN</td>\n",
       "      <td>14.526497</td>\n",
       "      <td>1.102743</td>\n",
       "      <td>0.806057</td>\n",
       "      <td>49.693429</td>\n",
       "      <td>NaN</td>\n",
       "      <td>NaN</td>\n",
       "    </tr>\n",
       "    <tr>\n",
       "      <th>min</th>\n",
       "      <td>0.000000</td>\n",
       "      <td>1.000000</td>\n",
       "      <td>NaN</td>\n",
       "      <td>0.420000</td>\n",
       "      <td>0.000000</td>\n",
       "      <td>0.000000</td>\n",
       "      <td>0.000000</td>\n",
       "      <td>NaN</td>\n",
       "      <td>NaN</td>\n",
       "    </tr>\n",
       "    <tr>\n",
       "      <th>25%</th>\n",
       "      <td>0.000000</td>\n",
       "      <td>2.000000</td>\n",
       "      <td>NaN</td>\n",
       "      <td>20.125000</td>\n",
       "      <td>0.000000</td>\n",
       "      <td>0.000000</td>\n",
       "      <td>7.910400</td>\n",
       "      <td>NaN</td>\n",
       "      <td>NaN</td>\n",
       "    </tr>\n",
       "    <tr>\n",
       "      <th>50%</th>\n",
       "      <td>0.000000</td>\n",
       "      <td>3.000000</td>\n",
       "      <td>NaN</td>\n",
       "      <td>28.000000</td>\n",
       "      <td>0.000000</td>\n",
       "      <td>0.000000</td>\n",
       "      <td>14.454200</td>\n",
       "      <td>NaN</td>\n",
       "      <td>NaN</td>\n",
       "    </tr>\n",
       "    <tr>\n",
       "      <th>75%</th>\n",
       "      <td>1.000000</td>\n",
       "      <td>3.000000</td>\n",
       "      <td>NaN</td>\n",
       "      <td>38.000000</td>\n",
       "      <td>1.000000</td>\n",
       "      <td>0.000000</td>\n",
       "      <td>31.000000</td>\n",
       "      <td>NaN</td>\n",
       "      <td>NaN</td>\n",
       "    </tr>\n",
       "    <tr>\n",
       "      <th>max</th>\n",
       "      <td>1.000000</td>\n",
       "      <td>3.000000</td>\n",
       "      <td>NaN</td>\n",
       "      <td>80.000000</td>\n",
       "      <td>8.000000</td>\n",
       "      <td>6.000000</td>\n",
       "      <td>512.329200</td>\n",
       "      <td>NaN</td>\n",
       "      <td>NaN</td>\n",
       "    </tr>\n",
       "  </tbody>\n",
       "</table>\n",
       "</div>"
      ],
      "text/plain": [
       "          Survived      Pclass   Sex         Age       SibSp       Parch  \\\n",
       "count   891.000000  891.000000   891  714.000000  891.000000  891.000000   \n",
       "unique         NaN         NaN     2         NaN         NaN         NaN   \n",
       "top            NaN         NaN  male         NaN         NaN         NaN   \n",
       "freq           NaN         NaN   577         NaN         NaN         NaN   \n",
       "mean      0.383838    2.308642   NaN   29.699118    0.523008    0.381594   \n",
       "std       0.486592    0.836071   NaN   14.526497    1.102743    0.806057   \n",
       "min       0.000000    1.000000   NaN    0.420000    0.000000    0.000000   \n",
       "25%       0.000000    2.000000   NaN   20.125000    0.000000    0.000000   \n",
       "50%       0.000000    3.000000   NaN   28.000000    0.000000    0.000000   \n",
       "75%       1.000000    3.000000   NaN   38.000000    1.000000    0.000000   \n",
       "max       1.000000    3.000000   NaN   80.000000    8.000000    6.000000   \n",
       "\n",
       "              Fare Cabin Embarked  \n",
       "count   891.000000   204      889  \n",
       "unique         NaN   147        3  \n",
       "top            NaN    G6        S  \n",
       "freq           NaN     4      644  \n",
       "mean     32.204208   NaN      NaN  \n",
       "std      49.693429   NaN      NaN  \n",
       "min       0.000000   NaN      NaN  \n",
       "25%       7.910400   NaN      NaN  \n",
       "50%      14.454200   NaN      NaN  \n",
       "75%      31.000000   NaN      NaN  \n",
       "max     512.329200   NaN      NaN  "
      ]
     },
     "execution_count": 6,
     "metadata": {},
     "output_type": "execute_result"
    }
   ],
   "source": [
    "# Deleting/droping unnecessary variables\n",
    "col=['Name','PassengerId','Ticket']\n",
    "data_train.drop(columns=col,axis=0, inplace=True)\n",
    "data_train.describe(include='all')"
   ]
  },
  {
   "cell_type": "markdown",
   "metadata": {},
   "source": [
    "From the above description we can say that:\n",
    "- Variables 'Sex', 'Cabin', and  'Embarked' has 2,147 and 3 unique values respectively.\n",
    " \n",
    " \n",
    "- In titanic data frequency of males are more than female i.e 577 males are there in titanic, frequency of cabin number B96 B98 (4) are more than others, and frequency of use of Southampton(644) Embarked is more than other types of Embarked.\n",
    "\n",
    "\n",
    "- Mean age of Passenger in titanic was 29.69=~ in between 29-30 year and it may vary by (+-)14.52=~ (+-)14-15 year.Minimum age of passengers are 0.42(about 4 months kid) that means kids are there in titanic data and Maximum age of passengers are of 80 year.\n",
    "\n",
    "\n",
    "- Mean fare of Passenger is 32.21 and it may vary by (+-) 49.69=~ (+-) 49-50. Minimum Fare of passengers are '0' and Maximum Fare of passengers are 512.3292=~ 512.\n",
    "\n",
    "\n",
    "- Ticket class of passengers are on an average 2.31=~ 2 family memeber in a family and it may vary by (+-) 0.837=~ (+-)1. This indicates that Most of the passengers have taken tickets of Second class on an average.\n",
    "\n",
    "\n",
    "- Maximum number of family members in a family is 6."
   ]
  },
  {
   "cell_type": "code",
   "execution_count": 7,
   "metadata": {},
   "outputs": [
    {
     "name": "stdout",
     "output_type": "stream",
     "text": [
      "[3 1 2]\n",
      "[nan 'C85' 'C123' 'E46' 'G6' 'C103' 'D56' 'A6' 'C23 C25 C27' 'B78' 'D33'\n",
      " 'B30' 'C52' 'B28' 'C83' 'F33' 'F G73' 'E31' 'A5' 'D10 D12' 'D26' 'C110'\n",
      " 'B58 B60' 'E101' 'F E69' 'D47' 'B86' 'F2' 'C2' 'E33' 'B19' 'A7' 'C49'\n",
      " 'F4' 'A32' 'B4' 'B80' 'A31' 'D36' 'D15' 'C93' 'C78' 'D35' 'C87' 'B77'\n",
      " 'E67' 'B94' 'C125' 'C99' 'C118' 'D7' 'A19' 'B49' 'D' 'C22 C26' 'C106'\n",
      " 'C65' 'E36' 'C54' 'B57 B59 B63 B66' 'C7' 'E34' 'C32' 'B18' 'C124' 'C91'\n",
      " 'E40' 'T' 'C128' 'D37' 'B35' 'E50' 'C82' 'B96 B98' 'E10' 'E44' 'A34'\n",
      " 'C104' 'C111' 'C92' 'E38' 'D21' 'E12' 'E63' 'A14' 'B37' 'C30' 'D20' 'B79'\n",
      " 'E25' 'D46' 'B73' 'C95' 'B38' 'B39' 'B22' 'C86' 'C70' 'A16' 'C101' 'C68'\n",
      " 'A10' 'E68' 'B41' 'A20' 'D19' 'D50' 'D9' 'A23' 'B50' 'A26' 'D48' 'E58'\n",
      " 'C126' 'B71' 'B51 B53 B55' 'D49' 'B5' 'B20' 'F G63' 'C62 C64' 'E24' 'C90'\n",
      " 'C45' 'E8' 'B101' 'D45' 'C46' 'D30' 'E121' 'D11' 'E77' 'F38' 'B3' 'D6'\n",
      " 'B82 B84' 'D17' 'A36' 'B102' 'B69' 'E49' 'C47' 'D28' 'E17' 'A24' 'C50'\n",
      " 'B42' 'C148']\n",
      "['S' 'C' 'Q' nan]\n"
     ]
    }
   ],
   "source": [
    "#Checking unique observations in categorical data.\n",
    "print(data_train['Pclass'].unique())\n",
    "print(data_train['Cabin'].unique())\n",
    "print(data_train['Embarked'].unique())"
   ]
  },
  {
   "cell_type": "code",
   "execution_count": 8,
   "metadata": {},
   "outputs": [],
   "source": [
    "##Function to fill numerical missing observation i.e 'Age'\n",
    "def age_approx(cols):\n",
    "    Age =cols[0]\n",
    "    Pclass=cols[1]\n",
    "    if pd.isnull(Age):\n",
    "        if Pclass == 1:\n",
    "            return 37\n",
    "        elif Pclass == 2:\n",
    "            return 29\n",
    "        else:\n",
    "            return 24\n",
    "    else:\n",
    "        return Age"
   ]
  },
  {
   "cell_type": "code",
   "execution_count": 9,
   "metadata": {},
   "outputs": [],
   "source": [
    "data_train['Age'] = data_train[['Age', 'Pclass']].apply(age_approx, axis=1)  ## implementing function to the data"
   ]
  },
  {
   "cell_type": "code",
   "execution_count": 10,
   "metadata": {},
   "outputs": [],
   "source": [
    "## Function to fill categorical missing observations.\n",
    "def missing_cat_fill(dataframe):\n",
    "    na_cols = [col for col in data_train.columns if data_train[col].isnull().sum() > 0 and data_train[col].dtype == \"O\"]\n",
    "    for col in na_cols:\n",
    "        dataframe[col] = dataframe[col].fillna(dataframe[col].mode()[0])\n",
    "        return dataframe.head()"
   ]
  },
  {
   "cell_type": "code",
   "execution_count": 11,
   "metadata": {},
   "outputs": [
    {
     "name": "stdout",
     "output_type": "stream",
     "text": [
      "   Survived  Pclass     Sex   Age  SibSp  Parch     Fare    Cabin Embarked\n",
      "0         0       3    male  22.0      1      0   7.2500  B96 B98        S\n",
      "1         1       1  female  38.0      1      0  71.2833      C85        C\n",
      "2         1       3  female  26.0      0      0   7.9250  B96 B98        S\n",
      "3         1       1  female  35.0      1      0  53.1000     C123        S\n",
      "4         0       3    male  35.0      0      0   8.0500  B96 B98        S\n",
      "   Survived  Pclass     Sex   Age  SibSp  Parch     Fare    Cabin Embarked\n",
      "0         0       3    male  22.0      1      0   7.2500  B96 B98        S\n",
      "1         1       1  female  38.0      1      0  71.2833      C85        C\n",
      "2         1       3  female  26.0      0      0   7.9250  B96 B98        S\n",
      "3         1       1  female  35.0      1      0  53.1000     C123        S\n",
      "4         0       3    male  35.0      0      0   8.0500  B96 B98        S\n"
     ]
    }
   ],
   "source": [
    "# Implementing function to the data.\n",
    "print(missing_cat_fill(data_train))  \n",
    "print(missing_cat_fill(data_train))"
   ]
  },
  {
   "cell_type": "code",
   "execution_count": 12,
   "metadata": {},
   "outputs": [
    {
     "data": {
      "text/plain": [
       "Survived    0\n",
       "Pclass      0\n",
       "Sex         0\n",
       "Age         0\n",
       "SibSp       0\n",
       "Parch       0\n",
       "Fare        0\n",
       "Cabin       0\n",
       "Embarked    0\n",
       "dtype: int64"
      ]
     },
     "execution_count": 12,
     "metadata": {},
     "output_type": "execute_result"
    }
   ],
   "source": [
    "#Checking missing observation\n",
    "data_train.isnull().sum()"
   ]
  },
  {
   "cell_type": "code",
   "execution_count": 13,
   "metadata": {},
   "outputs": [
    {
     "data": {
      "image/png": "[encoded data removed]",
      "text/plain": [
       "<Figure size 1080x720 with 6 Axes>"
      ]
     },
     "metadata": {
      "needs_background": "light"
     },
     "output_type": "display_data"
    }
   ],
   "source": [
    "## Histogram of the data\n",
    "data_train.hist(figsize=(15,10))\n",
    "plt.show()"
   ]
  },
  {
   "cell_type": "markdown",
   "metadata": {},
   "source": [
    "- From the above histogram graph we can say that data is not normal as this graph doesn't follow the property of symmetricity or normal curve.\n",
    "- Variables 'Survived' and 'Pclass' is categorical data."
   ]
  },
  {
   "cell_type": "code",
   "execution_count": 14,
   "metadata": {},
   "outputs": [
    {
     "data": {
      "text/plain": [
       "<AxesSubplot:>"
      ]
     },
     "execution_count": 14,
     "metadata": {},
     "output_type": "execute_result"
    },
    {
     "data": {
      "image/png": "[encoded data removed]",
      "text/plain": [
       "<Figure size 1440x576 with 2 Axes>"
      ]
     },
     "metadata": {
      "needs_background": "light"
     },
     "output_type": "display_data"
    }
   ],
   "source": [
    "# Correlation plot of the data.\n",
    "plt.subplots(figsize=(20,8))\n",
    "sns.set(font_scale=1.2)\n",
    "mask = np.triu(data_train.corr())\n",
    "sns.heatmap(data_train.corr(),annot=True,vmin=-1, vmax=1, center= 0,mask=mask)"
   ]
  },
  {
   "cell_type": "markdown",
   "metadata": {},
   "source": [
    "From the above correlation plot we can say that 'correlation between variable survived(dependent variable) and variables 'Fare', 'parch', 'age', 'Pclass' (Independent Variables) are very less'."
   ]
  },
  {
   "cell_type": "code",
   "execution_count": 15,
   "metadata": {},
   "outputs": [],
   "source": [
    "#Encoding categorical variable to numerical variable\n",
    "from sklearn import preprocessing\n",
    "  \n",
    "label_encoder = preprocessing.LabelEncoder()\n",
    "  \n",
    "data_train['Sex']= label_encoder.fit_transform(data_train['Sex'])\n",
    "data_train['Cabin']= label_encoder.fit_transform(data_train['Cabin'])\n",
    "data_train['Embarked']= label_encoder.fit_transform(data_train['Embarked'])"
   ]
  },
  {
   "cell_type": "code",
   "execution_count": 16,
   "metadata": {},
   "outputs": [
    {
     "name": "stdout",
     "output_type": "stream",
     "text": [
      "<class 'pandas.core.frame.DataFrame'>\n",
      "RangeIndex: 891 entries, 0 to 890\n",
      "Data columns (total 9 columns):\n",
      " #   Column    Non-Null Count  Dtype  \n",
      "---  ------    --------------  -----  \n",
      " 0   Survived  891 non-null    int64  \n",
      " 1   Pclass    891 non-null    int64  \n",
      " 2   Sex       891 non-null    int32  \n",
      " 3   Age       891 non-null    float64\n",
      " 4   SibSp     891 non-null    int64  \n",
      " 5   Parch     891 non-null    int64  \n",
      " 6   Fare      891 non-null    float64\n",
      " 7   Cabin     891 non-null    int32  \n",
      " 8   Embarked  891 non-null    int32  \n",
      "dtypes: float64(2), int32(3), int64(4)\n",
      "memory usage: 52.3 KB\n"
     ]
    }
   ],
   "source": [
    "data_train.info()"
   ]
  },
  {
   "cell_type": "code",
   "execution_count": 17,
   "metadata": {},
   "outputs": [
    {
     "name": "stdout",
     "output_type": "stream",
     "text": [
      "Shapiro Normality Test\n",
      "\n",
      "\n",
      "Null Hypothesis : Sample data of the variable is from from Normal distribution\n",
      "Alternative Hypothesis : Sample data of the variable is not from from Normal distribution\n",
      "\n",
      "\n",
      "     Survived  Pclass  Sex   Age  SibSp  Parch     Fare  Cabin  Embarked\n",
      "0           0       3    1  22.0      1      0   7.2500     47         2\n",
      "1           1       1    0  38.0      1      0  71.2833     81         0\n",
      "2           1       3    0  26.0      0      0   7.9250     47         2\n",
      "3           1       1    0  35.0      1      0  53.1000     55         2\n",
      "4           0       3    1  35.0      0      0   8.0500     47         2\n",
      "..        ...     ...  ...   ...    ...    ...      ...    ...       ...\n",
      "886         0       2    1  27.0      0      0  13.0000     47         2\n",
      "887         1       1    0  19.0      0      0  30.0000     30         2\n",
      "888         0       3    0  24.0      1      2  23.4500     47         2\n",
      "889         1       1    1  26.0      0      0  30.0000     60         0\n",
      "890         0       3    1  32.0      0      0   7.7500     47         1\n",
      "\n",
      "[891 rows x 9 columns]  Shapiro statistic : 0.521728, p value : 0.000000\n",
      "     Survived  Pclass  Sex   Age  SibSp  Parch     Fare  Cabin  Embarked\n",
      "0           0       3    1  22.0      1      0   7.2500     47         2\n",
      "1           1       1    0  38.0      1      0  71.2833     81         0\n",
      "2           1       3    0  26.0      0      0   7.9250     47         2\n",
      "3           1       1    0  35.0      1      0  53.1000     55         2\n",
      "4           0       3    1  35.0      0      0   8.0500     47         2\n",
      "..        ...     ...  ...   ...    ...    ...      ...    ...       ...\n",
      "886         0       2    1  27.0      0      0  13.0000     47         2\n",
      "887         1       1    0  19.0      0      0  30.0000     30         2\n",
      "888         0       3    0  24.0      1      2  23.4500     47         2\n",
      "889         1       1    1  26.0      0      0  30.0000     60         0\n",
      "890         0       3    1  32.0      0      0   7.7500     47         1\n",
      "\n",
      "[891 rows x 9 columns] variable data is not from Normal Distribution (reject H0)\n"
     ]
    }
   ],
   "source": [
    "# Normality test of the data by using shapiro test\n",
    "from scipy.stats import shapiro\n",
    "\n",
    "print(\"Shapiro Normality Test\")\n",
    "print(\"\\n\")\n",
    "print(\"Null Hypothesis : Sample data of the variable is from from Normal distribution\")\n",
    "print(\"Alternative Hypothesis : Sample data of the variable is not from from Normal distribution\")\n",
    "print(\"\\n\")\n",
    "\n",
    "#perform Shapiro-Wilk test\n",
    "statistic, p_value=shapiro(data_train.iloc[:,0:6])\n",
    "\n",
    "print(data_train ,\" Shapiro statistic : %.6f, p value : %.6f\" % (statistic, p_value))\n",
    "alpha = 0.05\n",
    "if p_value > alpha:\n",
    "    print(data_train,\"variable data\" ,\"is from Normal Distribution (fail to reject H0)\")\n",
    "else:\n",
    "    print(data_train,\"variable data\",\"is not from Normal Distribution (reject H0)\")"
   ]
  },
  {
   "cell_type": "code",
   "execution_count": 18,
   "metadata": {},
   "outputs": [
    {
     "name": "stdout",
     "output_type": "stream",
     "text": [
      "[115.031 372.406   1.99    1.111   5.963  63.031  28.315  25.717]\n",
      "[[ 3.     1.     7.25  47.   ]\n",
      " [ 1.     0.    71.283 81.   ]\n",
      " [ 3.     0.     7.925 47.   ]\n",
      " [ 1.     0.    53.1   55.   ]\n",
      " [ 3.     1.     8.05  47.   ]]\n"
     ]
    }
   ],
   "source": [
    "#Feature Selection\n",
    "from sklearn.feature_selection import SelectKBest\n",
    "from sklearn.feature_selection import f_classif\n",
    "from numpy import set_printoptions\n",
    "\n",
    "# feature extraction\n",
    "test = SelectKBest(score_func=f_classif, k=4)\n",
    "fit1 = test.fit(data_train.iloc[:,1:], data_train.iloc[:,0])\n",
    "# summarize scores\n",
    "set_printoptions(precision=3)\n",
    "print(fit1.scores_)\n",
    "features = fit1.transform(data_train.iloc[:,1:])\n",
    "# summarize selected features\n",
    "features\n",
    "print(features[0:5,:])"
   ]
  },
  {
   "cell_type": "markdown",
   "metadata": {},
   "source": [
    "- The scores of 4 attributes chosen those with the highest scores. Specifically features with indexes 1(Pclass),2(Sex),5(Parch),6(Fare),7(Cabin),8(Embarked)"
   ]
  },
  {
   "cell_type": "code",
   "execution_count": 19,
   "metadata": {},
   "outputs": [],
   "source": [
    "# Droping variables as per low feature values\n",
    "#col=['Age','Sex']\n",
    "#data_train.drop(columns=col,axis=0,inplace=True)"
   ]
  },
  {
   "cell_type": "markdown",
   "metadata": {},
   "source": [
    "- Removing feature 'Age' and 'Sex' decreased the Accuracy of training model, so we have selected all the features to train the model effectively.\n",
    "\n",
    "\n",
    "**MinMax Scaler**"
   ]
  },
  {
   "cell_type": "code",
   "execution_count": 20,
   "metadata": {},
   "outputs": [
    {
     "name": "stdout",
     "output_type": "stream",
     "text": [
      "MinMaxScaler()\n",
      "[[0.    1.    1.    ... 0.014 0.322 1.   ]\n",
      " [1.    0.    0.    ... 0.139 0.555 0.   ]\n",
      " [1.    1.    0.    ... 0.015 0.322 1.   ]\n",
      " ...\n",
      " [0.    1.    0.    ... 0.046 0.322 1.   ]\n",
      " [1.    0.    1.    ... 0.059 0.411 0.   ]\n",
      " [0.    1.    1.    ... 0.015 0.322 0.5  ]]\n"
     ]
    }
   ],
   "source": [
    "# Normalizing the data using minmax scaler\n",
    "from sklearn.preprocessing import MinMaxScaler\n",
    "scaler = MinMaxScaler()\n",
    "print(scaler.fit(data_train))\n",
    "print(scaler.transform(data_train))"
   ]
  },
  {
   "cell_type": "markdown",
   "metadata": {},
   "source": [
    "### Analysis"
   ]
  },
  {
   "cell_type": "code",
   "execution_count": 21,
   "metadata": {},
   "outputs": [],
   "source": [
    "#importing necessary libraries for analysis\n",
    "from sklearn.metrics import confusion_matrix, classification_report, accuracy_score, classification_report, roc_curve, auc\n",
    "from sklearn.model_selection import train_test_split, KFold, cross_val_score\n",
    "from sklearn.linear_model import LogisticRegression\n",
    "from sklearn.neighbors import KNeighborsClassifier\n",
    "from sklearn.naive_bayes import GaussianNB, MultinomialNB\n",
    "from sklearn.tree import DecisionTreeClassifier\n",
    "from sklearn.ensemble import RandomForestClassifier\n",
    "from sklearn.cluster import KMeans"
   ]
  },
  {
   "cell_type": "code",
   "execution_count": 22,
   "metadata": {},
   "outputs": [],
   "source": [
    "# deciding X and Y features for models\n",
    "X=data_train.iloc[:,1:7]\n",
    "Y=data_train.iloc[:,0]"
   ]
  },
  {
   "cell_type": "code",
   "execution_count": 23,
   "metadata": {},
   "outputs": [],
   "source": [
    "#Splitting the data into 70-30 and defining k-fold\n",
    "X_train, X_test, y_train, y_test = train_test_split(X, Y, test_size=0.3, random_state=12)\n",
    "cv = KFold(n_splits=15, random_state=10, shuffle=True)"
   ]
  },
  {
   "cell_type": "markdown",
   "metadata": {},
   "source": [
    "**1. Logistics Regression**"
   ]
  },
  {
   "cell_type": "code",
   "execution_count": 24,
   "metadata": {},
   "outputs": [],
   "source": [
    "# Building Logistic regression model.\n",
    "lm=LogisticRegression().fit(X_train,y_train.values)"
   ]
  },
  {
   "cell_type": "code",
   "execution_count": 25,
   "metadata": {},
   "outputs": [],
   "source": [
    "#Prediction of logistic regression model\n",
    "y_pred=lm.predict(X_test)"
   ]
  },
  {
   "cell_type": "code",
   "execution_count": 26,
   "metadata": {},
   "outputs": [
    {
     "name": "stdout",
     "output_type": "stream",
     "text": [
      "[4.62] [[-1.077e+00 -2.646e+00 -3.534e-02 -3.155e-01  2.969e-02  2.510e-03]]\n"
     ]
    }
   ],
   "source": [
    "## Print intercept and  coefficients of independent variables.\n",
    "print(lm.intercept_,lm.coef_)"
   ]
  },
  {
   "cell_type": "markdown",
   "metadata": {},
   "source": [
    "**Logistic Regression Model is:** \\\n",
    "Y= a+b1*x1+b2*x2+b3*x3+b4*x4+b5*x5+b6*x6 \\\n",
    "Y= 0.436-0.655*x1-0.131*x2+0.386*x3+0.004*x4+0.012*x5-0.199*x6 \\\n",
    "Where, x1=Pclass , x2= Sex,X3=Age, x4=SibSp, x5=Parch, x6=Fare, x7=Cabin , x8=Embarked, and  y=survived."
   ]
  },
  {
   "cell_type": "code",
   "execution_count": 27,
   "metadata": {},
   "outputs": [
    {
     "name": "stdout",
     "output_type": "stream",
     "text": [
      "Training set score:0.804\n",
      "Test set score:0.784\n"
     ]
    }
   ],
   "source": [
    "# Print Accuracy score of logistic regression model\n",
    "print(\"Training set score:{:.3f}\".format(lm.score(X_train,y_train)))\n",
    "print(\"Test set score:{:.3f}\".format(lm.score(X_test,y_test)))"
   ]
  },
  {
   "cell_type": "code",
   "execution_count": 28,
   "metadata": {},
   "outputs": [
    {
     "name": "stdout",
     "output_type": "stream",
     "text": [
      "0.8026325977545491\n"
     ]
    }
   ],
   "source": [
    "## True Positive rate, False positive rate and AUC of logistic model\n",
    "log_fpr,log_tpr,threshold=roc_curve(y_test,y_pred)\n",
    "auc_log=auc(log_fpr,log_tpr)\n",
    "## Cross validation score of logistic regression model.\n",
    "SVCCV = (cross_val_score(lm, X_train, y_train, cv=cv, n_jobs=1, scoring = 'accuracy').mean())\n",
    "print(SVCCV)"
   ]
  },
  {
   "cell_type": "markdown",
   "metadata": {},
   "source": [
    "- Accuracy score in training dataset is 80.4% and in testing dataset is 78.40%. CrossValidation Score is 80.26%.\n",
    "\n",
    "\n",
    "**2. KNN Classifier**"
   ]
  },
  {
   "cell_type": "code",
   "execution_count": 29,
   "metadata": {},
   "outputs": [],
   "source": [
    "# Building KNN Classifier model\n",
    "KNN = KNeighborsClassifier(n_neighbors=7).fit(X_train,y_train)"
   ]
  },
  {
   "cell_type": "code",
   "execution_count": 30,
   "metadata": {},
   "outputs": [],
   "source": [
    "# Prediction of KNN model\n",
    "y_predknn = KNN.predict(X_test)"
   ]
  },
  {
   "cell_type": "code",
   "execution_count": 31,
   "metadata": {},
   "outputs": [
    {
     "name": "stdout",
     "output_type": "stream",
     "text": [
      "Training set score:0.778\n",
      "Test set score:0.642\n"
     ]
    }
   ],
   "source": [
    "# Print accuracy score of KNN model\n",
    "print(\"Training set score:{:.3f}\".format(KNN.score(X_train,y_train)))\n",
    "print(\"Test set score:{:.3f}\".format(KNN.score(X_test,y_test)))"
   ]
  },
  {
   "cell_type": "code",
   "execution_count": 32,
   "metadata": {},
   "outputs": [
    {
     "name": "stdout",
     "output_type": "stream",
     "text": [
      "0.6917537746806038\n"
     ]
    }
   ],
   "source": [
    "## True Positive rate, False positive rate and AUC of KNN model\n",
    "knn_fpr,knn_tpr,threshold=roc_curve(y_test,y_predknn)\n",
    "auc_knn=auc(knn_fpr,knn_tpr)\n",
    "## Cross validation score of KNN model.\n",
    "SVCCV = (cross_val_score(KNN, X_train, y_train, cv=cv, n_jobs=1, scoring = 'accuracy').mean())\n",
    "print(SVCCV)"
   ]
  },
  {
   "cell_type": "markdown",
   "metadata": {},
   "source": [
    "- Accuracy score in training dataset is 77.8% and in testing dataset is 64.20%. CrossValidation Score is 69.175%.\n",
    "\n",
    "\n",
    "\n",
    "**3. Support Vector Classifier (RBF Kernel)** "
   ]
  },
  {
   "cell_type": "code",
   "execution_count": 33,
   "metadata": {},
   "outputs": [],
   "source": [
    "# BUilding SVC(rbf) kernel model\n",
    "from sklearn import svm\n",
    "Svc_classifier = svm.SVC(kernel = 'rbf', gamma='auto').fit(X_train, y_train)"
   ]
  },
  {
   "cell_type": "code",
   "execution_count": 34,
   "metadata": {},
   "outputs": [],
   "source": [
    "# Predicting SVC model\n",
    "y_predsvc = Svc_classifier.predict(X_test)"
   ]
  },
  {
   "cell_type": "code",
   "execution_count": 35,
   "metadata": {},
   "outputs": [
    {
     "name": "stdout",
     "output_type": "stream",
     "text": [
      "Training set score:0.918\n",
      "Test set score:0.679\n"
     ]
    }
   ],
   "source": [
    "#Printing accuracy score of svc classifier model\n",
    "print(\"Training set score:{:.3f}\".format(Svc_classifier.score(X_train,y_train)))\n",
    "print(\"Test set score:{:.3f}\".format(Svc_classifier.score(X_test,y_test)))"
   ]
  },
  {
   "cell_type": "code",
   "execution_count": 36,
   "metadata": {},
   "outputs": [
    {
     "name": "stdout",
     "output_type": "stream",
     "text": [
      "0.7093302361595044\n"
     ]
    }
   ],
   "source": [
    "## True Positive rate, False positive rate and AUC of SVC classifier model\n",
    "svc_fpr,svc_tpr,threshold=roc_curve(y_test,y_predsvc)\n",
    "auc_svc=auc(svc_fpr,svc_tpr)\n",
    "## Cross validation score of SVC Classifier model.\n",
    "SVCCV = (cross_val_score(Svc_classifier, X_train, y_train, cv=cv, n_jobs=1, scoring = 'accuracy').mean())\n",
    "print(SVCCV)"
   ]
  },
  {
   "cell_type": "markdown",
   "metadata": {},
   "source": [
    "- Accuracy score in training dataset is 91.8% and in testing dataset is 67.90%. CrossValidation Score is 70.933%.\n",
    "\n",
    "\n",
    "**4. Random Forest Classifier**"
   ]
  },
  {
   "cell_type": "code",
   "execution_count": 37,
   "metadata": {},
   "outputs": [],
   "source": [
    "#Building Random Forest Classifier model\n",
    "rfc = RandomForestClassifier(n_estimators=500,random_state=120).fit(X_train,y_train)\n",
    "#Predicting Random forest model \n",
    "y_predrfc = rfc.predict(X_test)"
   ]
  },
  {
   "cell_type": "code",
   "execution_count": 38,
   "metadata": {},
   "outputs": [
    {
     "name": "stdout",
     "output_type": "stream",
     "text": [
      "Training set score:0.984\n",
      "Test set score:0.799\n"
     ]
    }
   ],
   "source": [
    "#Printing accuracy score of Random Forest classifier model\n",
    "print(\"Training set score:{:.3f}\".format(rfc.score(X_train,y_train)))\n",
    "print(\"Test set score:{:.3f}\".format(rfc.score(X_test,y_test)))"
   ]
  },
  {
   "cell_type": "code",
   "execution_count": 39,
   "metadata": {},
   "outputs": [
    {
     "name": "stdout",
     "output_type": "stream",
     "text": [
      "0.8344560588463029\n"
     ]
    }
   ],
   "source": [
    "## True Positive rate, False positive rate and AUC of Random Forest classifier model\n",
    "rfc_fpr,rfc_tpr,threshold=roc_curve(y_test,y_predrfc)\n",
    "auc_rfc=auc(rfc_fpr,rfc_tpr)\n",
    "## Cross validation score of Random Forest Classifier model.\n",
    "SVCCV = (cross_val_score(rfc, X_train, y_train, cv=cv, n_jobs=1, scoring = 'accuracy').mean())\n",
    "print(SVCCV)"
   ]
  },
  {
   "cell_type": "markdown",
   "metadata": {},
   "source": [
    "- Accuracy score in training dataset is 98.4% and in testing dataset is 79.90%. CrossValidation Score is 83.45%.\n",
    "\n",
    "\n",
    "**5. Decision Tree Classifier**"
   ]
  },
  {
   "cell_type": "code",
   "execution_count": 40,
   "metadata": {},
   "outputs": [],
   "source": [
    "# Building Decision Tree Classifier\n",
    "dec = DecisionTreeClassifier(random_state=42).fit(X_train,y_train)\n",
    "# Predicting decision tree classifer model\n",
    "y_preddec = dec.predict(X_test)"
   ]
  },
  {
   "cell_type": "code",
   "execution_count": 41,
   "metadata": {},
   "outputs": [
    {
     "name": "stdout",
     "output_type": "stream",
     "text": [
      "Training set score:0.984\n",
      "Test set score:0.769\n"
     ]
    }
   ],
   "source": [
    "# Printing Accuracy score of Decision tree classifier model\n",
    "print(\"Training set score:{:.3f}\".format(dec.score(X_train,y_train)))\n",
    "print(\"Test set score:{:.3f}\".format(dec.score(X_test,y_test)))"
   ]
  },
  {
   "cell_type": "code",
   "execution_count": 42,
   "metadata": {},
   "outputs": [
    {
     "name": "stdout",
     "output_type": "stream",
     "text": [
      "0.8087108013937283\n"
     ]
    }
   ],
   "source": [
    "## True Positive rate, False positive rate and AUC of Decision Tree classifier model\n",
    "dec_fpr,dec_tpr,threshold=roc_curve(y_test,y_preddec)\n",
    "auc_dec=auc(dec_fpr,dec_tpr)\n",
    "## Cross validation score of Decision Tree Classifier model\n",
    "SVCCV = (cross_val_score(dec, X_train, y_train, cv=cv, n_jobs=1, scoring = 'accuracy').mean())\n",
    "print(SVCCV)"
   ]
  },
  {
   "cell_type": "markdown",
   "metadata": {},
   "source": [
    "- Accuracy score in training dataset is 98.4% and in testing dataset is 76.90%. CrossValidation Score is 80.87%.\n",
    "\n",
    "\n",
    "**XG-Boost**"
   ]
  },
  {
   "cell_type": "code",
   "execution_count": 43,
   "metadata": {},
   "outputs": [
    {
     "name": "stdout",
     "output_type": "stream",
     "text": [
      "[09:41:23] WARNING: C:/Users/Administrator/workspace/xgboost-win64_release_1.4.0/src/learner.cc:1095: Starting in XGBoost 1.3.0, the default evaluation metric used with the objective 'binary:logistic' was changed from 'error' to 'logloss'. Explicitly set eval_metric if you'd like to restore the old behavior.\n"
     ]
    }
   ],
   "source": [
    "from xgboost import XGBClassifier\n",
    "model_xg= XGBClassifier(n_estimators=20,random_state=42).fit(X_train, y_train)\n",
    "y_predxgb= model_xg.predict(X_test)"
   ]
  },
  {
   "cell_type": "code",
   "execution_count": 44,
   "metadata": {},
   "outputs": [
    {
     "name": "stdout",
     "output_type": "stream",
     "text": [
      "Training set score:0.923\n",
      "Test set score:0.802\n"
     ]
    }
   ],
   "source": [
    "# Printing Accuracy score of Decision tree classifier model\n",
    "print(\"Training set score:{:.3f}\".format(model_xg.score(X_train,y_train)))\n",
    "print(\"Test set score:{:.3f}\".format(model_xg.score(X_test,y_test)))"
   ]
  },
  {
   "cell_type": "code",
   "execution_count": 45,
   "metadata": {},
   "outputs": [
    {
     "name": "stdout",
     "output_type": "stream",
     "text": [
      "[09:41:24] WARNING: C:/Users/Administrator/workspace/xgboost-win64_release_1.4.0/src/learner.cc:1095: Starting in XGBoost 1.3.0, the default evaluation metric used with the objective 'binary:logistic' was changed from 'error' to 'logloss'. Explicitly set eval_metric if you'd like to restore the old behavior.\n",
      "[09:41:24] WARNING: C:/Users/Administrator/workspace/xgboost-win64_release_1.4.0/src/learner.cc:1095: Starting in XGBoost 1.3.0, the default evaluation metric used with the objective 'binary:logistic' was changed from 'error' to 'logloss'. Explicitly set eval_metric if you'd like to restore the old behavior.\n",
      "[09:41:24] WARNING: C:/Users/Administrator/workspace/xgboost-win64_release_1.4.0/src/learner.cc:1095: Starting in XGBoost 1.3.0, the default evaluation metric used with the objective 'binary:logistic' was changed from 'error' to 'logloss'. Explicitly set eval_metric if you'd like to restore the old behavior.\n",
      "[09:41:24] WARNING: C:/Users/Administrator/workspace/xgboost-win64_release_1.4.0/src/learner.cc:1095: Starting in XGBoost 1.3.0, the default evaluation metric used with the objective 'binary:logistic' was changed from 'error' to 'logloss'. Explicitly set eval_metric if you'd like to restore the old behavior.\n",
      "[09:41:24] WARNING: C:/Users/Administrator/workspace/xgboost-win64_release_1.4.0/src/learner.cc:1095: Starting in XGBoost 1.3.0, the default evaluation metric used with the objective 'binary:logistic' was changed from 'error' to 'logloss'. Explicitly set eval_metric if you'd like to restore the old behavior.\n",
      "[09:41:24] WARNING: C:/Users/Administrator/workspace/xgboost-win64_release_1.4.0/src/learner.cc:1095: Starting in XGBoost 1.3.0, the default evaluation metric used with the objective 'binary:logistic' was changed from 'error' to 'logloss'. Explicitly set eval_metric if you'd like to restore the old behavior.\n",
      "[09:41:24] WARNING: C:/Users/Administrator/workspace/xgboost-win64_release_1.4.0/src/learner.cc:1095: Starting in XGBoost 1.3.0, the default evaluation metric used with the objective 'binary:logistic' was changed from 'error' to 'logloss'. Explicitly set eval_metric if you'd like to restore the old behavior.\n",
      "[09:41:24] WARNING: C:/Users/Administrator/workspace/xgboost-win64_release_1.4.0/src/learner.cc:1095: Starting in XGBoost 1.3.0, the default evaluation metric used with the objective 'binary:logistic' was changed from 'error' to 'logloss'. Explicitly set eval_metric if you'd like to restore the old behavior.\n",
      "[09:41:24] WARNING: C:/Users/Administrator/workspace/xgboost-win64_release_1.4.0/src/learner.cc:1095: Starting in XGBoost 1.3.0, the default evaluation metric used with the objective 'binary:logistic' was changed from 'error' to 'logloss'. Explicitly set eval_metric if you'd like to restore the old behavior.\n",
      "[09:41:25] WARNING: C:/Users/Administrator/workspace/xgboost-win64_release_1.4.0/src/learner.cc:1095: Starting in XGBoost 1.3.0, the default evaluation metric used with the objective 'binary:logistic' was changed from 'error' to 'logloss'. Explicitly set eval_metric if you'd like to restore the old behavior.\n",
      "[09:41:25] WARNING: C:/Users/Administrator/workspace/xgboost-win64_release_1.4.0/src/learner.cc:1095: Starting in XGBoost 1.3.0, the default evaluation metric used with the objective 'binary:logistic' was changed from 'error' to 'logloss'. Explicitly set eval_metric if you'd like to restore the old behavior.\n",
      "[09:41:25] WARNING: C:/Users/Administrator/workspace/xgboost-win64_release_1.4.0/src/learner.cc:1095: Starting in XGBoost 1.3.0, the default evaluation metric used with the objective 'binary:logistic' was changed from 'error' to 'logloss'. Explicitly set eval_metric if you'd like to restore the old behavior.\n",
      "[09:41:25] WARNING: C:/Users/Administrator/workspace/xgboost-win64_release_1.4.0/src/learner.cc:1095: Starting in XGBoost 1.3.0, the default evaluation metric used with the objective 'binary:logistic' was changed from 'error' to 'logloss'. Explicitly set eval_metric if you'd like to restore the old behavior.\n",
      "[09:41:25] WARNING: C:/Users/Administrator/workspace/xgboost-win64_release_1.4.0/src/learner.cc:1095: Starting in XGBoost 1.3.0, the default evaluation metric used with the objective 'binary:logistic' was changed from 'error' to 'logloss'. Explicitly set eval_metric if you'd like to restore the old behavior.\n",
      "[09:41:25] WARNING: C:/Users/Administrator/workspace/xgboost-win64_release_1.4.0/src/learner.cc:1095: Starting in XGBoost 1.3.0, the default evaluation metric used with the objective 'binary:logistic' was changed from 'error' to 'logloss'. Explicitly set eval_metric if you'd like to restore the old behavior.\n",
      "0.8539295392953931\n"
     ]
    }
   ],
   "source": [
    "## True Positive rate, False positive rate and AUC of Decision Tree classifier model\n",
    "xg_fpr,xg_tpr,threshold=roc_curve(y_test,y_predxgb)\n",
    "auc_xgb=auc(xg_fpr,xg_tpr)\n",
    "## Cross validation score of Decision Tree Classifier model\n",
    "SVCCV = (cross_val_score(model_xg, X_train, y_train, cv=cv, n_jobs=1, scoring = 'accuracy').mean())\n",
    "print(SVCCV)"
   ]
  },
  {
   "cell_type": "markdown",
   "metadata": {},
   "source": [
    "- Accuracy score in training dataset is 92.3% and in testing dataset is 80.20%. CrossValidation Score is 85.39%.\n",
    "\n",
    "\n",
    "**Light-GBM Classifier**"
   ]
  },
  {
   "cell_type": "code",
   "execution_count": 46,
   "metadata": {},
   "outputs": [],
   "source": [
    "from lightgbm import LGBMClassifier\n",
    "model_lgb = LGBMClassifier(learning_rate=0.1,n_estimators=100).fit(X_train, y_train)\n",
    "y_predlgb= model_lgb.predict(X_test)"
   ]
  },
  {
   "cell_type": "code",
   "execution_count": 47,
   "metadata": {},
   "outputs": [
    {
     "name": "stdout",
     "output_type": "stream",
     "text": [
      "Training set score:0.950\n",
      "Test set score:0.813\n"
     ]
    }
   ],
   "source": [
    "# Printing Accuracy score of Decision tree classifier model\n",
    "print(\"Training set score:{:.3f}\".format(model_lgb.score(X_train,y_train)))\n",
    "print(\"Test set score:{:.3f}\".format(model_lgb.score(X_test,y_test)))"
   ]
  },
  {
   "cell_type": "code",
   "execution_count": 48,
   "metadata": {},
   "outputs": [
    {
     "name": "stdout",
     "output_type": "stream",
     "text": [
      "0.8379790940766552\n"
     ]
    }
   ],
   "source": [
    "## True Positive rate, False positive rate and AUC of Decision Tree classifier model\n",
    "lg_fpr,lg_tpr,threshold=roc_curve(y_test,y_predlgb)\n",
    "auc_lgb=auc(lg_fpr,lg_tpr)\n",
    "## Cross validation score of Decision Tree Classifier model\n",
    "SVCCV = (cross_val_score(model_lgb, X_train, y_train, cv=cv, n_jobs=1, scoring = 'accuracy').mean())\n",
    "print(SVCCV)"
   ]
  },
  {
   "cell_type": "markdown",
   "metadata": {},
   "source": [
    "- Accuracy score in training dataset is 95% and in testing dataset is 81.3%. CrossValidation Score is 83.80%.\n",
    "\n",
    "\\\n",
    "\\\n",
    "\\\n",
    "\n",
    "\n",
    "\n",
    "**Confusion Matrix And Classification Report** \n",
    "- Accuracy of test data= [TP+FN]/[TP+FP+FN+TN]\n",
    "- Precision= [TP]/[TP+FP]\n",
    "- Recall/ Sensitivity = [TP]/[TP+FN]\n",
    "- Specificity = [TN]/[TN+FP]     \n",
    "- F1- score= 2*[(Precision * Recall)/(Precision+Recall)]     \n",
    "\n",
    " where, TP: When Both actual class and predicted class of observation of data is 1. \\\n",
    "FP: When actual class is 0 and predicted class of observation of data is 1. \\\n",
    "TN: When Both actual class and predicted class of observation of data is 0. \\\n",
    "FN: When actual class is 1 and predicted class of observation of data is 0. \\\n"
   ]
  },
  {
   "cell_type": "code",
   "execution_count": 49,
   "metadata": {},
   "outputs": [
    {
     "data": {
      "image/png": "[encoded data removed]",
      "text/plain": [
       "<Figure size 1440x360 with 6 Axes>"
      ]
     },
     "metadata": {},
     "output_type": "display_data"
    },
    {
     "data": {
      "image/png": "[encoded data removed]",
      "text/plain": [
       "<Figure size 1440x360 with 8 Axes>"
      ]
     },
     "metadata": {},
     "output_type": "display_data"
    }
   ],
   "source": [
    "# Confusion Matrix of all classifier models\n",
    "fig, (ax1, ax2,ax3) = plt.subplots(nrows = 1, ncols = 3, figsize = (20, 5))\n",
    "cm = confusion_matrix(y_test, y_pred) \n",
    "sns.heatmap(cm, annot=True, ax=ax1)\n",
    "ax1.set_xlabel('Predicted label', fontsize=15)\n",
    "ax1.set_ylabel('True label', fontsize=15)\n",
    "ax1.set_title('Logistics Regression model Accuracy:{0:.4f}'.format(accuracy_score(y_test, y_pred)), fontsize=15)\n",
    "ax1.tick_params(labelsize=15)\n",
    "\n",
    "\n",
    "cm = confusion_matrix(y_test, y_predknn) \n",
    "sns.heatmap(cm, annot=True, ax=ax2)\n",
    "ax2.set_xlabel('Predicted label', fontsize=15)\n",
    "ax2.set_ylabel('True label', fontsize=15)\n",
    "ax2.set_title('KNN classification model Accuracy:{0:.4f}'.format(accuracy_score(y_test, y_predknn)), fontsize=15)\n",
    "ax2.tick_params(labelsize=15)\n",
    "\n",
    "cm = confusion_matrix(y_test, y_predsvc) \n",
    "sns.heatmap(cm, annot=True, ax=ax3)\n",
    "ax3.set_xlabel('Predicted label', fontsize=15)\n",
    "ax3.set_ylabel('True label', fontsize=15)\n",
    "ax3.set_title('SVM(rbf) model Accuracy:{0:.4f}'.format(accuracy_score(y_test, y_predsvc)), fontsize=15)\n",
    "ax3.tick_params(labelsize=20)\n",
    "\n",
    "fig, (ax4, ax5, ax6,ax7) = plt.subplots(nrows = 1, ncols = 4, figsize = (20, 5))\n",
    "\n",
    "cm = confusion_matrix(y_test, y_predrfc) \n",
    "sns.heatmap(cm, annot=True, ax=ax4)\n",
    "ax4.set_xlabel('Predicted label', fontsize=15)\n",
    "ax4.set_ylabel('True label', fontsize=15)\n",
    "ax4.set_title('Random Forest Classifier model Accuracy:{0:.4f}'.format(accuracy_score(y_test, y_predrfc)), fontsize=15)\n",
    "ax4.tick_params(labelsize=20)\n",
    "\n",
    "cm = confusion_matrix(y_test, y_preddec) \n",
    "sns.heatmap(cm, annot=True, ax=ax5)\n",
    "ax5.set_xlabel('Predicted label', fontsize=15)\n",
    "ax5.set_ylabel('True label', fontsize=15)\n",
    "ax5.set_title('Decision Tree Classifier model Accuracy:{0:.4f}'.format(accuracy_score(y_test, y_preddec)), fontsize=15)\n",
    "ax5.tick_params(labelsize=20)\n",
    "\n",
    "\n",
    "cm = confusion_matrix(y_test, y_predxgb) \n",
    "sns.heatmap(cm, annot=True, ax=ax6)\n",
    "ax6.set_xlabel('Predicted label', fontsize=15)\n",
    "ax6.set_ylabel('True label', fontsize=15)\n",
    "ax6.set_title('XG-Boost Classifier model Accuracy:{0:.4f}'.format(accuracy_score(y_test, y_predxgb)), fontsize=15)\n",
    "ax6.tick_params(labelsize=20)\n",
    "\n",
    "cm = confusion_matrix(y_test, y_predlgb) \n",
    "sns.heatmap(cm, annot=True, ax=ax7)\n",
    "ax7.set_xlabel('Predicted label', fontsize=15)\n",
    "ax7.set_ylabel('True label', fontsize=15)\n",
    "ax7.set_title('Light GBM Classifier model Accuracy:{0:.4f}'.format(accuracy_score(y_test, y_predlgb)), fontsize=15)\n",
    "ax7.tick_params(labelsize=20)\n",
    "\n",
    "plt.subplots_adjust(wspace=1)\n",
    "plt.tight_layout()"
   ]
  },
  {
   "cell_type": "markdown",
   "metadata": {},
   "source": [
    "1. Logistic Regression Confusion Matrix: In confusion matrix of logistic regression, TP,FP,TN, and FN values are 71,22,140, and 36.\n",
    "2. KNN Classification Confusion Matrix: In confusion matrix of KNN Classification, TP,FP,TN, and FN values are 58,47,110, and 49.\n",
    "3. SVC(RBF) Confusion Matrix: In confusion matrix of SVC(RBF) , TP,FP,TN, and FN values are 65,44,120, and 42.\n",
    "4. Random Forest Classification Confusion Matrix: In confusion matrix of Random Forest Classification, TP,FP,TN, and FN values are 76,23,140, and 31.\n",
    "5. Decision Tree classifier Confusion Matrix: In confusion matrix of Decision Tree Classifier, TP,FP,TN, and FN values are 73,28,130, and 34.\n",
    "6. XG-Boost Classifier Confusion Matrix: In confusion matrix of XG-Boost Classifier, TP,FP,TN, and FN values are 70,16,140, and 37.\n",
    "7. Light-GBM Classifier Confusion Matrix: In confusion matrix of Light-GBM Classifier, TP,FP,TN, and FN values are 75,18,140, and 32.\n"
   ]
  },
  {
   "cell_type": "code",
   "execution_count": 50,
   "metadata": {},
   "outputs": [
    {
     "name": "stdout",
     "output_type": "stream",
     "text": [
      "Report on Logistic Regression: \n",
      "               precision    recall  f1-score   support\n",
      "\n",
      "           0       0.79      0.86      0.83       161\n",
      "           1       0.76      0.66      0.71       107\n",
      "\n",
      "    accuracy                           0.78       268\n",
      "   macro avg       0.78      0.76      0.77       268\n",
      "weighted avg       0.78      0.78      0.78       268\n",
      "\n",
      "Report on KNN: \n",
      "               precision    recall  f1-score   support\n",
      "\n",
      "           0       0.70      0.71      0.70       161\n",
      "           1       0.55      0.54      0.55       107\n",
      "\n",
      "    accuracy                           0.64       268\n",
      "   macro avg       0.63      0.63      0.63       268\n",
      "weighted avg       0.64      0.64      0.64       268\n",
      "\n",
      "Report on SVC(rbf): \n",
      "               precision    recall  f1-score   support\n",
      "\n",
      "           0       0.74      0.73      0.73       161\n",
      "           1       0.60      0.61      0.60       107\n",
      "\n",
      "    accuracy                           0.68       268\n",
      "   macro avg       0.67      0.67      0.67       268\n",
      "weighted avg       0.68      0.68      0.68       268\n",
      "\n",
      "Report on Random Forest Classifier: \n",
      "               precision    recall  f1-score   support\n",
      "\n",
      "           0       0.82      0.86      0.84       161\n",
      "           1       0.77      0.71      0.74       107\n",
      "\n",
      "    accuracy                           0.80       268\n",
      "   macro avg       0.79      0.78      0.79       268\n",
      "weighted avg       0.80      0.80      0.80       268\n",
      "\n",
      "Report on Decision Tree Classifier: \n",
      "               precision    recall  f1-score   support\n",
      "\n",
      "           0       0.80      0.83      0.81       161\n",
      "           1       0.72      0.68      0.70       107\n",
      "\n",
      "    accuracy                           0.77       268\n",
      "   macro avg       0.76      0.75      0.76       268\n",
      "weighted avg       0.77      0.77      0.77       268\n",
      "\n",
      "Report on XG-Boost Classifier: \n",
      "               precision    recall  f1-score   support\n",
      "\n",
      "           0       0.80      0.90      0.85       161\n",
      "           1       0.81      0.65      0.73       107\n",
      "\n",
      "    accuracy                           0.80       268\n",
      "   macro avg       0.81      0.78      0.79       268\n",
      "weighted avg       0.80      0.80      0.80       268\n",
      "\n",
      "Report on Light-GBM Classifier: \n",
      "               precision    recall  f1-score   support\n",
      "\n",
      "           0       0.82      0.89      0.85       161\n",
      "           1       0.81      0.70      0.75       107\n",
      "\n",
      "    accuracy                           0.81       268\n",
      "   macro avg       0.81      0.79      0.80       268\n",
      "weighted avg       0.81      0.81      0.81       268\n",
      "\n"
     ]
    }
   ],
   "source": [
    "## Printing Classification report of all classifer models\n",
    "print('Report on Logistic Regression: \\n',classification_report(y_test,y_pred))\n",
    "print('Report on KNN: \\n',classification_report(y_test,y_predknn))\n",
    "print('Report on SVC(rbf): \\n',classification_report(y_test,y_predsvc))\n",
    "print('Report on Random Forest Classifier: \\n',classification_report(y_test,y_predrfc))\n",
    "print('Report on Decision Tree Classifier: \\n',classification_report(y_test,y_preddec))\n",
    "print('Report on XG-Boost Classifier: \\n',classification_report(y_test,y_predxgb))\n",
    "print('Report on Light-GBM Classifier: \\n',classification_report(y_test,y_predlgb))"
   ]
  },
  {
   "cell_type": "markdown",
   "metadata": {},
   "source": [
    "- In report, '0': Not Survived, '1': Survived, Random Forest and LightGBm model gives precision=0.82 for not survived that indicates it is correctly classified 82% time. while precision for survived(1) is0.81 (81% correctly classified for survival) in LGBM and 0.77 (77% correctly classified for survival) in Random Forest.\n",
    "\n",
    "- LGBM Model and Random Forest model has best precision and recall value as compare to other models, so these two models are best model for data."
   ]
  },
  {
   "cell_type": "markdown",
   "metadata": {},
   "source": [
    "**ROC-AUC Curve**\n",
    "ROC:\n",
    "[TPR: True Positive Rate]= [TP]/[TP+FN] \\\n",
    "[FPR: False Positive Rate]= [FP]/[FP+TN] \\\n",
    "\n",
    "AUC (Area Under Curve):\n",
    "- It give average measure of performance of classification model across various threshold points.\n",
    "- Higher AUC of model is the best model. "
   ]
  },
  {
   "cell_type": "code",
   "execution_count": 51,
   "metadata": {},
   "outputs": [
    {
     "data": {
      "image/png": "[encoded data removed]",
      "text/plain": [
       "<Figure size 1000x800 with 1 Axes>"
      ]
     },
     "metadata": {},
     "output_type": "display_data"
    },
    {
     "data": {
      "text/plain": [
       "<Figure size 432x288 with 0 Axes>"
      ]
     },
     "metadata": {},
     "output_type": "display_data"
    }
   ],
   "source": [
    "# ROC-AUC Curve of all models.\n",
    "plt.figure(figsize=(10,8),dpi=100)\n",
    "plt.plot(log_fpr,log_tpr,linestyle=\"-\",label='lm (auc=%0.3f)' %auc_log)\n",
    "plt.plot(svc_fpr,svc_tpr,marker='.',label='Svc_classifier(auc=%0.3f)' %auc_svc)\n",
    "plt.plot(rfc_fpr,rfc_tpr,marker='o',label='rfc (auc=%0.3f)' %auc_rfc)\n",
    "plt.plot(dec_fpr,dec_tpr,marker='.',label='dec(auc=%0.3f)' %auc_dec)\n",
    "plt.plot(knn_fpr,knn_tpr,marker='o',label='KNN (auc=%0.3f)' %auc_knn)\n",
    "plt.plot(xg_fpr,xg_tpr,marker='.',label='model_xg(auc=%0.3f)' %auc_xgb)\n",
    "plt.plot(lg_fpr,lg_tpr,marker='o',label='model_lgb (auc=%0.3f)' %auc_lgb)\n",
    "plt.xlabel('FPR--->')\n",
    "plt.ylabel('TPR--->')\n",
    "plt.title(\"ROC Curve of different classifer algorithms \")\n",
    "plt.legend()\n",
    "plt.show()\n",
    "plt.savefig('ROC Curve(different algorithms).png')"
   ]
  },
  {
   "cell_type": "markdown",
   "metadata": {},
   "source": [
    "1. Logistics Regression\n",
    "    - Model Accuracy: 80.4%\n",
    "    - Model Accuracy on test data: 78.40%\n",
    "    - CrossValidation Score: 80.26%\n",
    "    - AUC=76.3% \n",
    "2. KNN Classifier\n",
    "    - Model Accuracy: 77.8%\n",
    "    - Model Accuracy on test data: 64.20%\n",
    "    - Cross Validation Score:69.175%\n",
    "    - AUC:62.5%\n",
    "3. SVC (rbf)\n",
    "    - Model Accuracy: 91.8%\n",
    "    - Model Accuracy on test data: 67.9%\n",
    "    - CrossValidation Score: 70.93%\n",
    "    - AUC: 66.70%\n",
    "4. Random Forest Classifier\n",
    "    - Model Accuracy: 98.4%\n",
    "    - Model Accuracy on test data: 79.90%\n",
    "    - Cross Validation Score: 83.45%\n",
    "    - AUC: 78.40%\n",
    "5. Decision Tree Classifier\n",
    "    - Model Accuracy: 98.4%\n",
    "    - Model Accuracy on test data: 76.90%\n",
    "    - Cross Validation Score: 80.87%\n",
    "    - AUC: 75.40%\n",
    "    \n",
    "4. XG_Boost Classifier\n",
    "    - Model Accuracy: 92.3%\n",
    "    - Model Accuracy on test data: 80.20%\n",
    "    - Cross Validation Score: 85.39%\n",
    "    - AUC: 77.70%\n",
    "5. Light-GBM Classifier\n",
    "    - Model Accuracy: 95%\n",
    "    - Model Accuracy on test data: 81.30%\n",
    "    - Cross Validation Score: 83.80%\n",
    "    - AUC: 79.50%\n",
    "    \n",
    "- Random Forest Classifier  and Light-gbm gives higher AUC, that indicates Random Forest and Light-GBM is best model as compare to other models.\n",
    "- Best accuracy of model on test data is Light-GBM model with highest cross validation and AUC."
   ]
  },
  {
   "cell_type": "markdown",
   "metadata": {},
   "source": [
    "- https://developers.google.com/machine-learning/crash-course/classification/roc-and-auc#:~:text=T%20P%20R%20%3D%20T%20P%20T%20P,plots%20TPR%20vs.%20FPR%20at%20different%20classification%20thresholds."
   ]
  },
  {
   "cell_type": "code",
   "execution_count": null,
   "metadata": {},
   "outputs": [],
   "source": []
  }
 ],
 "metadata": {
  "colab": {
   "name": "Untitled-checkpoint.ipynb",
   "provenance": []
  },
  "kernelspec": {
   "display_name": "Python 3",
   "language": "python",
   "name": "python3"
  },
  "language_info": {
   "codemirror_mode": {
    "name": "ipython",
    "version": 3
   },
   "file_extension": ".py",
   "mimetype": "text/x-python",
   "name": "python",
   "nbconvert_exporter": "python",
   "pygments_lexer": "ipython3",
   "version": "3.8.8"
  }
 },
 "nbformat": 4,
 "nbformat_minor": 1
}
