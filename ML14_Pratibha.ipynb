{
 "cells": [
  {
   "cell_type": "markdown",
   "id": "7af3f86b",
   "metadata": {},
   "source": [
    "Q.1) Read two different .csv files ‘User Usage.csv’ & ‘User device.csv’.  Use the statistical skills to\n",
    " answer the following questions.       \n",
    " \n",
    "\ta) Perform any suitable method to combine these datasets (concat/Merge/ Join). Apply data pre-processing techniques on given data set.                                             \n",
    "\tb) Analyse your data using exploratory data analysis.      \n",
    "\tc) Draw your conclusions and comment on your findings.                                                                   \n",
    "______________________________________________________________________________________________________________________\n",
    "\n",
    "Q.2) Based on the above data frame, Use the programming skill to answer the following questions.                \\\n",
    "a)\tCreate the basket for discount on Monthly MB:                                                                \\             \n",
    "Monthly MB\tDiscount to attract users  \\\n",
    "Upto 50 MB:\t        10% extra on monthly MB  usage  \\\n",
    "51 MB- 1000 MB: \t4% extra on monthly MB usage    \\\n",
    "1001MB – 15000MB:\t3% extra on monthly MB usage    \\\n",
    "15001MB – 30000MB:\t2% extra on monthly MB usage   \\\n",
    "b)\tCreate the new column “Message” having message for user as mentioned below:    \\\n",
    "“Greetings, Your Monthly used data is 50MB. You will get 55 MB data to use for the next month.”     \\\n",
    "c)\tFind   \n",
    "\n",
    "    i)\tWhich platform user uses highest Monthly_mb used.    \n",
    "    ii)\tLeast used device.   \n",
    "    iii) Count of the IOS users  "
   ]
  },
  {
   "cell_type": "code",
   "execution_count": 1,
   "id": "623b5a88",
   "metadata": {},
   "outputs": [],
   "source": [
    "import numpy as np\n",
    "import pandas as pd\n",
    "import matplotlib.pyplot as plt\n",
    "import seaborn as sns"
   ]
  },
  {
   "cell_type": "code",
   "execution_count": 2,
   "id": "83fd962f",
   "metadata": {},
   "outputs": [
    {
     "name": "stdout",
     "output_type": "stream",
     "text": [
      "   outgoing_mins_per_month  outgoing_sms_per_month  monthly_mb  use_id\n",
      "0                    21.97                    4.82     1557.33   22787\n",
      "1                  1710.08                  136.88     7267.55   22788\n",
      "(240, 4)\n"
     ]
    }
   ],
   "source": [
    "usage=pd.read_csv('user_usage.csv')\n",
    "print(usage.head(2))\n",
    "print(usage.shape)"
   ]
  },
  {
   "cell_type": "code",
   "execution_count": 3,
   "id": "55fcb597",
   "metadata": {},
   "outputs": [
    {
     "name": "stdout",
     "output_type": "stream",
     "text": [
      "   use_id  user_id platform  platform_version     device  use_type_id\n",
      "0   22782    26980      ios              10.2  iPhone7,2            2\n",
      "1   22783    29628  android               6.0    Nexus 5            3\n",
      "(272, 6)\n"
     ]
    }
   ],
   "source": [
    "device=pd.read_csv('user_device.csv')\n",
    "print(device.head(2))\n",
    "print(device.shape)"
   ]
  },
  {
   "cell_type": "code",
   "execution_count": 4,
   "id": "1a66701c",
   "metadata": {},
   "outputs": [
    {
     "name": "stdout",
     "output_type": "stream",
     "text": [
      "[22782 22783 22784 22785 22786 22787 22788 22789 22790 22791 22792 22793\n",
      " 22794 22795 22796 22797 22798 22799 22800 22801 22802 22803 22804 22805\n",
      " 22806 22807 22808 22809 22810 22811 22812 22813 22814 22815 22816 22817\n",
      " 22818 22819 22820 22821 22822 22823 22824 22825 22826 22827 22828 22829\n",
      " 22830 22831 22832 22833 22834 22835 22836 22837 22838 22839 22840 22841\n",
      " 22842 22843 22844 22845 22846 22847 22848 22849 22850 22851 22852 22853\n",
      " 22854 22855 22856 22857 22858 22859 22860 22861 22862 22863 22864 22865\n",
      " 22866 22867 22868 22869 22870 22871 22872 22873 22874 22875 22876 22877\n",
      " 22878 22879 22880 22881 22882 22883 22884 22885 22886 22887 22888 22889\n",
      " 22890 22891 22892 22893 22894 22895 22896 22897 22898 22899 22900 22901\n",
      " 22902 22903 22904 22905 22906 22907 22908 22909 22910 22911 22912 22913\n",
      " 22914 22915 22916 22917 22918 22919 22920 22921 22922 22923 22924 22925\n",
      " 22926 22927 22928 22929 22930 22931 22932 22933 22934 22935 22936 22937\n",
      " 22938 22939 22940 22941 22942 22943 22944 22945 22946 22947 22948 22949\n",
      " 22950 22951 22952 22953 22954 22955 22956 22957 22958 22959 22960 22961\n",
      " 22962 22963 22964 22965 22966 22967 22968 22969 22970 22971 22972 22973\n",
      " 22974 22975 22976 22977 22978 22979 22980 22981 22982 22983 22984 22985\n",
      " 22986 22987 22988 22989 22990 22991 22992 22993 22994 22995 22996 22997\n",
      " 22998 22999 23000 23001 23002 23003 23004 23005 23006 23007 23008 23009\n",
      " 23010 23011 23012 23013 23014 23015 23016 23017 23018 23019 23020 23021\n",
      " 23022 23023 23024 23025 23026 23027 23028 23029 23030 23031 23032 23033\n",
      " 23034 23035 23036 23037 23038 23039 23040 23041 23042 23043 23044 23045\n",
      " 23046 23047 23048 23049 23050 23051 23052 23053]\n",
      "[22787 22788 22789 22790 22792 22793 22794 22795 22799 22801 22804 22805\n",
      " 22806 22808 22813 22814 22815 22816 22817 22819 22820 22822 22823 22824\n",
      " 22829 22830 22831 22832 22833 22839 22840 22849 22850 22852 22853 22854\n",
      " 22855 22856 22858 22861 22862 22863 22864 22865 22866 22871 22873 22874\n",
      " 22875 22876 22879 22880 22881 22882 22883 22884 22885 22886 22887 22888\n",
      " 22889 22890 22891 22892 22895 22896 22897 22902 22903 22907 22908 22909\n",
      " 22912 22916 22920 22921 22922 22926 22927 22931 22932 22933 22934 22935\n",
      " 22936 22937 22938 22939 22941 22942 22943 22944 22945 22946 22949 22950\n",
      " 22951 22955 22962 22963 22964 22965 22966 22967 22968 22969 22970 22971\n",
      " 22972 22974 22975 22977 22978 22979 22980 22981 22982 22985 22986 22987\n",
      " 22988 22989 22991 22992 22994 22995 22997 22998 22999 23002 23003 23005\n",
      " 23012 23013 23015 23016 23017 23018 23019 23020 23021 23023 23024 23026\n",
      " 23027 23028 23029 23030 23031 23032 23036 23039 23040 23041 23043 23044\n",
      " 23046 23049 23053 23057 23058 23059 23073 23083 23084 23142 23106 23116\n",
      " 23143 23183 23157 23205 23207 23211 23241 23301 23420 23429 23473 23482\n",
      " 23484 23536 23548 23591 23609 23676 23743 23823 23838 23844 23845 23847\n",
      " 23864 23882 23883 23888 23890 23910 23909 23981 23988 24006 24037 24180\n",
      " 24190 24198 24222 24277 24316 24317 24318 24319 24332 24333 24399 24436\n",
      " 24437 24438 24439 24445 24451 24455 24466 24545 24601 24602 24647 24653\n",
      " 24728 24761 24764 24766 24767 24885 24963 25008 25040 25046 25058 25220]\n"
     ]
    }
   ],
   "source": [
    "print(device['use_id'].unique())\n",
    "print(usage['use_id'].unique())"
   ]
  },
  {
   "cell_type": "code",
   "execution_count": 5,
   "id": "ae4f07e1",
   "metadata": {},
   "outputs": [
    {
     "data": {
      "text/html": [
       "<div>\n",
       "<style scoped>\n",
       "    .dataframe tbody tr th:only-of-type {\n",
       "        vertical-align: middle;\n",
       "    }\n",
       "\n",
       "    .dataframe tbody tr th {\n",
       "        vertical-align: top;\n",
       "    }\n",
       "\n",
       "    .dataframe thead th {\n",
       "        text-align: right;\n",
       "    }\n",
       "</style>\n",
       "<table border=\"1\" class=\"dataframe\">\n",
       "  <thead>\n",
       "    <tr style=\"text-align: right;\">\n",
       "      <th></th>\n",
       "      <th>outgoing_mins_per_month</th>\n",
       "      <th>outgoing_sms_per_month</th>\n",
       "      <th>monthly_mb</th>\n",
       "      <th>use_id</th>\n",
       "      <th>user_id</th>\n",
       "      <th>platform</th>\n",
       "      <th>platform_version</th>\n",
       "      <th>device</th>\n",
       "      <th>use_type_id</th>\n",
       "    </tr>\n",
       "  </thead>\n",
       "  <tbody>\n",
       "    <tr>\n",
       "      <th>0</th>\n",
       "      <td>21.97</td>\n",
       "      <td>4.82</td>\n",
       "      <td>1557.33</td>\n",
       "      <td>22787</td>\n",
       "      <td>12921.0</td>\n",
       "      <td>android</td>\n",
       "      <td>4.3</td>\n",
       "      <td>GT-I9505</td>\n",
       "      <td>1.0</td>\n",
       "    </tr>\n",
       "    <tr>\n",
       "      <th>1</th>\n",
       "      <td>1710.08</td>\n",
       "      <td>136.88</td>\n",
       "      <td>7267.55</td>\n",
       "      <td>22788</td>\n",
       "      <td>28714.0</td>\n",
       "      <td>android</td>\n",
       "      <td>6.0</td>\n",
       "      <td>SM-G930F</td>\n",
       "      <td>1.0</td>\n",
       "    </tr>\n",
       "    <tr>\n",
       "      <th>2</th>\n",
       "      <td>1710.08</td>\n",
       "      <td>136.88</td>\n",
       "      <td>7267.55</td>\n",
       "      <td>22789</td>\n",
       "      <td>28714.0</td>\n",
       "      <td>android</td>\n",
       "      <td>6.0</td>\n",
       "      <td>SM-G930F</td>\n",
       "      <td>1.0</td>\n",
       "    </tr>\n",
       "    <tr>\n",
       "      <th>3</th>\n",
       "      <td>94.46</td>\n",
       "      <td>35.17</td>\n",
       "      <td>519.12</td>\n",
       "      <td>22790</td>\n",
       "      <td>29592.0</td>\n",
       "      <td>android</td>\n",
       "      <td>5.1</td>\n",
       "      <td>D2303</td>\n",
       "      <td>1.0</td>\n",
       "    </tr>\n",
       "    <tr>\n",
       "      <th>4</th>\n",
       "      <td>71.59</td>\n",
       "      <td>79.26</td>\n",
       "      <td>1557.33</td>\n",
       "      <td>22792</td>\n",
       "      <td>28217.0</td>\n",
       "      <td>android</td>\n",
       "      <td>5.1</td>\n",
       "      <td>SM-G361F</td>\n",
       "      <td>1.0</td>\n",
       "    </tr>\n",
       "    <tr>\n",
       "      <th>...</th>\n",
       "      <td>...</td>\n",
       "      <td>...</td>\n",
       "      <td>...</td>\n",
       "      <td>...</td>\n",
       "      <td>...</td>\n",
       "      <td>...</td>\n",
       "      <td>...</td>\n",
       "      <td>...</td>\n",
       "      <td>...</td>\n",
       "    </tr>\n",
       "    <tr>\n",
       "      <th>348</th>\n",
       "      <td>NaN</td>\n",
       "      <td>NaN</td>\n",
       "      <td>NaN</td>\n",
       "      <td>23047</td>\n",
       "      <td>29720.0</td>\n",
       "      <td>ios</td>\n",
       "      <td>10.2</td>\n",
       "      <td>iPhone7,1</td>\n",
       "      <td>2.0</td>\n",
       "    </tr>\n",
       "    <tr>\n",
       "      <th>349</th>\n",
       "      <td>NaN</td>\n",
       "      <td>NaN</td>\n",
       "      <td>NaN</td>\n",
       "      <td>23048</td>\n",
       "      <td>29724.0</td>\n",
       "      <td>android</td>\n",
       "      <td>6.0</td>\n",
       "      <td>ONEPLUS A3003</td>\n",
       "      <td>3.0</td>\n",
       "    </tr>\n",
       "    <tr>\n",
       "      <th>350</th>\n",
       "      <td>NaN</td>\n",
       "      <td>NaN</td>\n",
       "      <td>NaN</td>\n",
       "      <td>23050</td>\n",
       "      <td>29726.0</td>\n",
       "      <td>ios</td>\n",
       "      <td>10.2</td>\n",
       "      <td>iPhone7,2</td>\n",
       "      <td>3.0</td>\n",
       "    </tr>\n",
       "    <tr>\n",
       "      <th>351</th>\n",
       "      <td>NaN</td>\n",
       "      <td>NaN</td>\n",
       "      <td>NaN</td>\n",
       "      <td>23051</td>\n",
       "      <td>29726.0</td>\n",
       "      <td>ios</td>\n",
       "      <td>10.2</td>\n",
       "      <td>iPhone7,2</td>\n",
       "      <td>3.0</td>\n",
       "    </tr>\n",
       "    <tr>\n",
       "      <th>352</th>\n",
       "      <td>NaN</td>\n",
       "      <td>NaN</td>\n",
       "      <td>NaN</td>\n",
       "      <td>23052</td>\n",
       "      <td>29727.0</td>\n",
       "      <td>ios</td>\n",
       "      <td>10.1</td>\n",
       "      <td>iPhone8,4</td>\n",
       "      <td>3.0</td>\n",
       "    </tr>\n",
       "  </tbody>\n",
       "</table>\n",
       "<p>353 rows × 9 columns</p>\n",
       "</div>"
      ],
      "text/plain": [
       "     outgoing_mins_per_month  outgoing_sms_per_month  monthly_mb  use_id  \\\n",
       "0                      21.97                    4.82     1557.33   22787   \n",
       "1                    1710.08                  136.88     7267.55   22788   \n",
       "2                    1710.08                  136.88     7267.55   22789   \n",
       "3                      94.46                   35.17      519.12   22790   \n",
       "4                      71.59                   79.26     1557.33   22792   \n",
       "..                       ...                     ...         ...     ...   \n",
       "348                      NaN                     NaN         NaN   23047   \n",
       "349                      NaN                     NaN         NaN   23048   \n",
       "350                      NaN                     NaN         NaN   23050   \n",
       "351                      NaN                     NaN         NaN   23051   \n",
       "352                      NaN                     NaN         NaN   23052   \n",
       "\n",
       "     user_id platform  platform_version         device  use_type_id  \n",
       "0    12921.0  android               4.3       GT-I9505          1.0  \n",
       "1    28714.0  android               6.0       SM-G930F          1.0  \n",
       "2    28714.0  android               6.0       SM-G930F          1.0  \n",
       "3    29592.0  android               5.1          D2303          1.0  \n",
       "4    28217.0  android               5.1       SM-G361F          1.0  \n",
       "..       ...      ...               ...            ...          ...  \n",
       "348  29720.0      ios              10.2      iPhone7,1          2.0  \n",
       "349  29724.0  android               6.0  ONEPLUS A3003          3.0  \n",
       "350  29726.0      ios              10.2      iPhone7,2          3.0  \n",
       "351  29726.0      ios              10.2      iPhone7,2          3.0  \n",
       "352  29727.0      ios              10.1      iPhone8,4          3.0  \n",
       "\n",
       "[353 rows x 9 columns]"
      ]
     },
     "execution_count": 5,
     "metadata": {},
     "output_type": "execute_result"
    }
   ],
   "source": [
    "data=pd.merge(usage,device, on='use_id', how='outer')\n",
    "data"
   ]
  },
  {
   "cell_type": "code",
   "execution_count": 6,
   "id": "768d0057",
   "metadata": {},
   "outputs": [
    {
     "data": {
      "text/plain": [
       "outgoing_mins_per_month    113\n",
       "outgoing_sms_per_month     113\n",
       "monthly_mb                 113\n",
       "use_id                       0\n",
       "user_id                     81\n",
       "platform                    81\n",
       "platform_version            81\n",
       "device                      81\n",
       "use_type_id                 81\n",
       "dtype: int64"
      ]
     },
     "execution_count": 6,
     "metadata": {},
     "output_type": "execute_result"
    }
   ],
   "source": [
    "data.isnull().sum()"
   ]
  },
  {
   "cell_type": "code",
   "execution_count": 7,
   "id": "52404dda",
   "metadata": {},
   "outputs": [
    {
     "data": {
      "text/html": [
       "<div>\n",
       "<style scoped>\n",
       "    .dataframe tbody tr th:only-of-type {\n",
       "        vertical-align: middle;\n",
       "    }\n",
       "\n",
       "    .dataframe tbody tr th {\n",
       "        vertical-align: top;\n",
       "    }\n",
       "\n",
       "    .dataframe thead th {\n",
       "        text-align: right;\n",
       "    }\n",
       "</style>\n",
       "<table border=\"1\" class=\"dataframe\">\n",
       "  <thead>\n",
       "    <tr style=\"text-align: right;\">\n",
       "      <th></th>\n",
       "      <th>outgoing_mins_per_month</th>\n",
       "      <th>outgoing_sms_per_month</th>\n",
       "      <th>monthly_mb</th>\n",
       "      <th>platform</th>\n",
       "      <th>platform_version</th>\n",
       "      <th>device</th>\n",
       "    </tr>\n",
       "  </thead>\n",
       "  <tbody>\n",
       "    <tr>\n",
       "      <th>0</th>\n",
       "      <td>21.97</td>\n",
       "      <td>4.82</td>\n",
       "      <td>1557.33</td>\n",
       "      <td>android</td>\n",
       "      <td>4.3</td>\n",
       "      <td>GT-I9505</td>\n",
       "    </tr>\n",
       "    <tr>\n",
       "      <th>1</th>\n",
       "      <td>1710.08</td>\n",
       "      <td>136.88</td>\n",
       "      <td>7267.55</td>\n",
       "      <td>android</td>\n",
       "      <td>6.0</td>\n",
       "      <td>SM-G930F</td>\n",
       "    </tr>\n",
       "  </tbody>\n",
       "</table>\n",
       "</div>"
      ],
      "text/plain": [
       "   outgoing_mins_per_month  outgoing_sms_per_month  monthly_mb platform  \\\n",
       "0                    21.97                    4.82     1557.33  android   \n",
       "1                  1710.08                  136.88     7267.55  android   \n",
       "\n",
       "   platform_version    device  \n",
       "0               4.3  GT-I9505  \n",
       "1               6.0  SM-G930F  "
      ]
     },
     "execution_count": 7,
     "metadata": {},
     "output_type": "execute_result"
    }
   ],
   "source": [
    "col=['user_id','use_type_id','use_id']\n",
    "data=data.drop(columns=col,axis=1)\n",
    "data.head(2)"
   ]
  },
  {
   "cell_type": "code",
   "execution_count": 8,
   "id": "93896528",
   "metadata": {},
   "outputs": [
    {
     "name": "stdout",
     "output_type": "stream",
     "text": [
      "274.55916666666667\n",
      "189.705\n",
      "0    677.02\n",
      "dtype: float64\n"
     ]
    }
   ],
   "source": [
    "print(data['outgoing_mins_per_month'].mean())\n",
    "print(data['outgoing_mins_per_month'].median())\n",
    "print(data['outgoing_mins_per_month'].mode())"
   ]
  },
  {
   "cell_type": "code",
   "execution_count": 9,
   "id": "8a2e9e1f",
   "metadata": {},
   "outputs": [
    {
     "name": "stdout",
     "output_type": "stream",
     "text": [
      "98.96829166666666\n",
      "70.775\n",
      "0    101.86\n",
      "dtype: float64\n"
     ]
    }
   ],
   "source": [
    "print(data['outgoing_sms_per_month'].mean())\n",
    "print(data['outgoing_sms_per_month'].median())\n",
    "print(data['outgoing_sms_per_month'].mode())"
   ]
  },
  {
   "cell_type": "code",
   "execution_count": 10,
   "id": "e4110225",
   "metadata": {},
   "outputs": [
    {
     "name": "stdout",
     "output_type": "stream",
     "text": [
      "3628.6020416666647\n",
      "1797.975\n",
      "0    1557.33\n",
      "dtype: float64\n"
     ]
    }
   ],
   "source": [
    "print(data['monthly_mb'].mean())\n",
    "print(data['monthly_mb'].median())\n",
    "print(data['monthly_mb'].mode())"
   ]
  },
  {
   "cell_type": "code",
   "execution_count": 11,
   "id": "01a3c557",
   "metadata": {},
   "outputs": [
    {
     "name": "stdout",
     "output_type": "stream",
     "text": [
      "0    android\n",
      "dtype: object\n",
      "android    184\n",
      "ios         88\n",
      "Name: platform, dtype: int64\n"
     ]
    }
   ],
   "source": [
    "print(data['platform'].mode())\n",
    "print(data['platform'].value_counts())"
   ]
  },
  {
   "cell_type": "code",
   "execution_count": 12,
   "id": "61ddd974",
   "metadata": {},
   "outputs": [
    {
     "name": "stdout",
     "output_type": "stream",
     "text": [
      "6.917647058823527\n",
      "6.0\n",
      "0    6.0\n",
      "dtype: float64\n"
     ]
    }
   ],
   "source": [
    "print(data['platform_version'].mean())\n",
    "print(data['platform_version'].median())\n",
    "print(data['platform_version'].mode())"
   ]
  },
  {
   "cell_type": "code",
   "execution_count": 13,
   "id": "f2314acd",
   "metadata": {},
   "outputs": [
    {
     "name": "stdout",
     "output_type": "stream",
     "text": [
      "0    SM-G900F\n",
      "dtype: object\n",
      "SM-G900F         32\n",
      "iPhone7,2        27\n",
      "iPhone6,2        22\n",
      "GT-I9505         13\n",
      "ONEPLUS A3003     9\n",
      "                 ..\n",
      "C6603             1\n",
      "iPhone3,1         1\n",
      "iPad4,1           1\n",
      "iPhone3,2         1\n",
      "iPhone9,3         1\n",
      "Name: device, Length: 72, dtype: int64\n"
     ]
    }
   ],
   "source": [
    "print(data['device'].mode())\n",
    "print(data['device'].value_counts())"
   ]
  },
  {
   "cell_type": "code",
   "execution_count": 14,
   "id": "6e08c7b8",
   "metadata": {},
   "outputs": [
    {
     "data": {
      "text/plain": [
       "outgoing_mins_per_month    0\n",
       "outgoing_sms_per_month     0\n",
       "monthly_mb                 0\n",
       "platform                   0\n",
       "platform_version           0\n",
       "device                     0\n",
       "dtype: int64"
      ]
     },
     "execution_count": 14,
     "metadata": {},
     "output_type": "execute_result"
    }
   ],
   "source": [
    "data['outgoing_mins_per_month']=data['outgoing_mins_per_month'].fillna(data['outgoing_mins_per_month'].mean())\n",
    "data['outgoing_sms_per_month']=data['outgoing_sms_per_month'].fillna(data['outgoing_sms_per_month'].median())\n",
    "data['platform_version']=data['platform_version'].fillna(data['platform_version'].median())\n",
    "data['device']=data['device'].fillna(data['device'].value_counts()[0])\n",
    "data['platform']=data['platform'].fillna(data['platform'].value_counts()[0])\n",
    "data['monthly_mb']=data['monthly_mb'].fillna(data['monthly_mb'].median())\n",
    "data.isnull().sum()"
   ]
  },
  {
   "cell_type": "code",
   "execution_count": 15,
   "id": "c3ef0364",
   "metadata": {},
   "outputs": [
    {
     "data": {
      "text/plain": [
       "<AxesSubplot:xlabel='platform', ylabel='platform_version'>"
      ]
     },
     "execution_count": 15,
     "metadata": {},
     "output_type": "execute_result"
    },
    {
     "data": {
      "image/png": "[encoded data removed]",
      "text/plain": [
       "<Figure size 1080x720 with 4 Axes>"
      ]
     },
     "metadata": {
      "needs_background": "light"
     },
     "output_type": "display_data"
    }
   ],
   "source": [
    "fig, axes = plt.subplots(2, 2, figsize=(15, 10))\n",
    "sns.boxplot(ax=axes[0, 0], data=data, x='platform', y='outgoing_sms_per_month')\n",
    "sns.boxplot(ax=axes[0, 1], data=data, x='platform', y='outgoing_mins_per_month')\n",
    "sns.boxplot(ax=axes[1,0], data=data, x='platform', y='monthly_mb')\n",
    "sns.boxplot(ax=axes[1, 1], data=data, x='platform', y='platform_version')"
   ]
  },
  {
   "cell_type": "code",
   "execution_count": 16,
   "id": "4cff9151",
   "metadata": {},
   "outputs": [
    {
     "data": {
      "text/plain": [
       "<AxesSubplot:xlabel='platform', ylabel='outgoing_mins_per_month'>"
      ]
     },
     "execution_count": 16,
     "metadata": {},
     "output_type": "execute_result"
    },
    {
     "data": {
      "image/png": "[encoded data removed]",
      "text/plain": [
       "<Figure size 432x288 with 1 Axes>"
      ]
     },
     "metadata": {
      "needs_background": "light"
     },
     "output_type": "display_data"
    }
   ],
   "source": [
    "sns.barplot(x='platform',y='outgoing_mins_per_month',data=data)"
   ]
  },
  {
   "cell_type": "code",
   "execution_count": 17,
   "id": "b8d67e20",
   "metadata": {},
   "outputs": [
    {
     "data": {
      "text/plain": [
       "<AxesSubplot:xlabel='platform', ylabel='monthly_mb'>"
      ]
     },
     "execution_count": 17,
     "metadata": {},
     "output_type": "execute_result"
    },
    {
     "data": {
      "image/png": "[encoded data removed]",
      "text/plain": [
       "<Figure size 432x288 with 1 Axes>"
      ]
     },
     "metadata": {
      "needs_background": "light"
     },
     "output_type": "display_data"
    }
   ],
   "source": [
    "sns.barplot(x='platform',y='monthly_mb',data=data)"
   ]
  },
  {
   "cell_type": "markdown",
   "id": "85124234",
   "metadata": {},
   "source": [
    "**c)\tFind**   \n",
    "\n",
    "    i)\tWhich platform user uses highest Monthly_mb used.    \n",
    "    ii)\tLeast used device.   \n",
    "    iii) Count of the IOS users "
   ]
  },
  {
   "cell_type": "code",
   "execution_count": 18,
   "id": "e526c439",
   "metadata": {},
   "outputs": [
    {
     "data": {
      "text/plain": [
       "<AxesSubplot:xlabel='platform'>"
      ]
     },
     "execution_count": 18,
     "metadata": {},
     "output_type": "execute_result"
    },
    {
     "data": {
      "image/png": "[encoded data removed]",
      "text/plain": [
       "<Figure size 432x288 with 1 Axes>"
      ]
     },
     "metadata": {
      "needs_background": "light"
     },
     "output_type": "display_data"
    }
   ],
   "source": [
    "## Platform user uses highest monthly mb\n",
    "data['monthly_mb'].groupby(data['platform']).max().plot(kind='bar')"
   ]
  },
  {
   "cell_type": "code",
   "execution_count": 19,
   "id": "6536ef2a",
   "metadata": {},
   "outputs": [
    {
     "data": {
      "text/html": [
       "<div>\n",
       "<style scoped>\n",
       "    .dataframe tbody tr th:only-of-type {\n",
       "        vertical-align: middle;\n",
       "    }\n",
       "\n",
       "    .dataframe tbody tr th {\n",
       "        vertical-align: top;\n",
       "    }\n",
       "\n",
       "    .dataframe thead th {\n",
       "        text-align: right;\n",
       "    }\n",
       "</style>\n",
       "<table border=\"1\" class=\"dataframe\">\n",
       "  <thead>\n",
       "    <tr style=\"text-align: right;\">\n",
       "      <th></th>\n",
       "      <th>outgoing_mins_per_month</th>\n",
       "      <th>outgoing_sms_per_month</th>\n",
       "      <th>monthly_mb</th>\n",
       "      <th>platform</th>\n",
       "      <th>platform_version</th>\n",
       "    </tr>\n",
       "    <tr>\n",
       "      <th>device</th>\n",
       "      <th></th>\n",
       "      <th></th>\n",
       "      <th></th>\n",
       "      <th></th>\n",
       "      <th></th>\n",
       "    </tr>\n",
       "  </thead>\n",
       "  <tbody>\n",
       "    <tr>\n",
       "      <th>32</th>\n",
       "      <td>81</td>\n",
       "      <td>81</td>\n",
       "      <td>81</td>\n",
       "      <td>81</td>\n",
       "      <td>81</td>\n",
       "    </tr>\n",
       "    <tr>\n",
       "      <th>A0001</th>\n",
       "      <td>2</td>\n",
       "      <td>2</td>\n",
       "      <td>2</td>\n",
       "      <td>2</td>\n",
       "      <td>2</td>\n",
       "    </tr>\n",
       "    <tr>\n",
       "      <th>C6603</th>\n",
       "      <td>1</td>\n",
       "      <td>1</td>\n",
       "      <td>1</td>\n",
       "      <td>1</td>\n",
       "      <td>1</td>\n",
       "    </tr>\n",
       "    <tr>\n",
       "      <th>D2303</th>\n",
       "      <td>2</td>\n",
       "      <td>2</td>\n",
       "      <td>2</td>\n",
       "      <td>2</td>\n",
       "      <td>2</td>\n",
       "    </tr>\n",
       "    <tr>\n",
       "      <th>D5503</th>\n",
       "      <td>2</td>\n",
       "      <td>2</td>\n",
       "      <td>2</td>\n",
       "      <td>2</td>\n",
       "      <td>2</td>\n",
       "    </tr>\n",
       "    <tr>\n",
       "      <th>...</th>\n",
       "      <td>...</td>\n",
       "      <td>...</td>\n",
       "      <td>...</td>\n",
       "      <td>...</td>\n",
       "      <td>...</td>\n",
       "    </tr>\n",
       "    <tr>\n",
       "      <th>iPhone7,2</th>\n",
       "      <td>27</td>\n",
       "      <td>27</td>\n",
       "      <td>27</td>\n",
       "      <td>27</td>\n",
       "      <td>27</td>\n",
       "    </tr>\n",
       "    <tr>\n",
       "      <th>iPhone8,1</th>\n",
       "      <td>2</td>\n",
       "      <td>2</td>\n",
       "      <td>2</td>\n",
       "      <td>2</td>\n",
       "      <td>2</td>\n",
       "    </tr>\n",
       "    <tr>\n",
       "      <th>iPhone8,4</th>\n",
       "      <td>4</td>\n",
       "      <td>4</td>\n",
       "      <td>4</td>\n",
       "      <td>4</td>\n",
       "      <td>4</td>\n",
       "    </tr>\n",
       "    <tr>\n",
       "      <th>iPhone9,3</th>\n",
       "      <td>1</td>\n",
       "      <td>1</td>\n",
       "      <td>1</td>\n",
       "      <td>1</td>\n",
       "      <td>1</td>\n",
       "    </tr>\n",
       "    <tr>\n",
       "      <th>iPhone9,4</th>\n",
       "      <td>2</td>\n",
       "      <td>2</td>\n",
       "      <td>2</td>\n",
       "      <td>2</td>\n",
       "      <td>2</td>\n",
       "    </tr>\n",
       "  </tbody>\n",
       "</table>\n",
       "<p>73 rows × 5 columns</p>\n",
       "</div>"
      ],
      "text/plain": [
       "           outgoing_mins_per_month  outgoing_sms_per_month  monthly_mb  \\\n",
       "device                                                                   \n",
       "32                              81                      81          81   \n",
       "A0001                            2                       2           2   \n",
       "C6603                            1                       1           1   \n",
       "D2303                            2                       2           2   \n",
       "D5503                            2                       2           2   \n",
       "...                            ...                     ...         ...   \n",
       "iPhone7,2                       27                      27          27   \n",
       "iPhone8,1                        2                       2           2   \n",
       "iPhone8,4                        4                       4           4   \n",
       "iPhone9,3                        1                       1           1   \n",
       "iPhone9,4                        2                       2           2   \n",
       "\n",
       "           platform  platform_version  \n",
       "device                                 \n",
       "32               81                81  \n",
       "A0001             2                 2  \n",
       "C6603             1                 1  \n",
       "D2303             2                 2  \n",
       "D5503             2                 2  \n",
       "...             ...               ...  \n",
       "iPhone7,2        27                27  \n",
       "iPhone8,1         2                 2  \n",
       "iPhone8,4         4                 4  \n",
       "iPhone9,3         1                 1  \n",
       "iPhone9,4         2                 2  \n",
       "\n",
       "[73 rows x 5 columns]"
      ]
     },
     "execution_count": 19,
     "metadata": {},
     "output_type": "execute_result"
    }
   ],
   "source": [
    "data.groupby(data['device']).count()"
   ]
  },
  {
   "cell_type": "code",
   "execution_count": 20,
   "id": "767ba8d3",
   "metadata": {},
   "outputs": [
    {
     "data": {
      "text/html": [
       "<div>\n",
       "<style scoped>\n",
       "    .dataframe tbody tr th:only-of-type {\n",
       "        vertical-align: middle;\n",
       "    }\n",
       "\n",
       "    .dataframe tbody tr th {\n",
       "        vertical-align: top;\n",
       "    }\n",
       "\n",
       "    .dataframe thead th {\n",
       "        text-align: right;\n",
       "    }\n",
       "</style>\n",
       "<table border=\"1\" class=\"dataframe\">\n",
       "  <thead>\n",
       "    <tr style=\"text-align: right;\">\n",
       "      <th></th>\n",
       "      <th>outgoing_mins_per_month</th>\n",
       "      <th>outgoing_sms_per_month</th>\n",
       "      <th>monthly_mb</th>\n",
       "      <th>platform</th>\n",
       "      <th>platform_version</th>\n",
       "      <th>device</th>\n",
       "    </tr>\n",
       "    <tr>\n",
       "      <th>platform</th>\n",
       "      <th></th>\n",
       "      <th></th>\n",
       "      <th></th>\n",
       "      <th></th>\n",
       "      <th></th>\n",
       "      <th></th>\n",
       "    </tr>\n",
       "  </thead>\n",
       "  <tbody>\n",
       "    <tr>\n",
       "      <th>False</th>\n",
       "      <td>265</td>\n",
       "      <td>265</td>\n",
       "      <td>265</td>\n",
       "      <td>265</td>\n",
       "      <td>265</td>\n",
       "      <td>265</td>\n",
       "    </tr>\n",
       "    <tr>\n",
       "      <th>True</th>\n",
       "      <td>88</td>\n",
       "      <td>88</td>\n",
       "      <td>88</td>\n",
       "      <td>88</td>\n",
       "      <td>88</td>\n",
       "      <td>88</td>\n",
       "    </tr>\n",
       "  </tbody>\n",
       "</table>\n",
       "</div>"
      ],
      "text/plain": [
       "          outgoing_mins_per_month  outgoing_sms_per_month  monthly_mb  \\\n",
       "platform                                                                \n",
       "False                         265                     265         265   \n",
       "True                           88                      88          88   \n",
       "\n",
       "          platform  platform_version  device  \n",
       "platform                                      \n",
       "False          265               265     265  \n",
       "True            88                88      88  "
      ]
     },
     "execution_count": 20,
     "metadata": {},
     "output_type": "execute_result"
    }
   ],
   "source": [
    "##Count of the IOS user\n",
    "data.groupby(data['platform']=='ios').count()"
   ]
  },
  {
   "cell_type": "code",
   "execution_count": 21,
   "id": "d371f5af",
   "metadata": {},
   "outputs": [
    {
     "data": {
      "image/png": "[encoded data removed]",
      "text/plain": [
       "<Figure size 720x576 with 4 Axes>"
      ]
     },
     "metadata": {
      "needs_background": "light"
     },
     "output_type": "display_data"
    }
   ],
   "source": [
    "data.hist(figsize=(10,8))\n",
    "plt.show()"
   ]
  },
  {
   "cell_type": "code",
   "execution_count": 22,
   "id": "c1e8eeb7",
   "metadata": {},
   "outputs": [
    {
     "data": {
      "text/plain": [
       "<AxesSubplot:>"
      ]
     },
     "execution_count": 22,
     "metadata": {},
     "output_type": "execute_result"
    },
    {
     "data": {
      "image/png": "[encoded data removed]",
      "text/plain": [
       "<Figure size 720x576 with 2 Axes>"
      ]
     },
     "metadata": {
      "needs_background": "light"
     },
     "output_type": "display_data"
    }
   ],
   "source": [
    "# Correlation plot of the data.\n",
    "plt.subplots(figsize=(10,8))\n",
    "sns.set(font_scale=1.2)\n",
    "sns.heatmap(data.corr(),annot=True,vmin=-1, vmax=1, center= 0)"
   ]
  },
  {
   "cell_type": "code",
   "execution_count": 23,
   "id": "03e77294",
   "metadata": {},
   "outputs": [
    {
     "data": {
      "text/html": [
       "<div>\n",
       "<style scoped>\n",
       "    .dataframe tbody tr th:only-of-type {\n",
       "        vertical-align: middle;\n",
       "    }\n",
       "\n",
       "    .dataframe tbody tr th {\n",
       "        vertical-align: top;\n",
       "    }\n",
       "\n",
       "    .dataframe thead th {\n",
       "        text-align: right;\n",
       "    }\n",
       "</style>\n",
       "<table border=\"1\" class=\"dataframe\">\n",
       "  <thead>\n",
       "    <tr style=\"text-align: right;\">\n",
       "      <th></th>\n",
       "      <th>outgoing_mins_per_month</th>\n",
       "      <th>outgoing_sms_per_month</th>\n",
       "      <th>monthly_mb</th>\n",
       "      <th>platform_version</th>\n",
       "    </tr>\n",
       "  </thead>\n",
       "  <tbody>\n",
       "    <tr>\n",
       "      <th>count</th>\n",
       "      <td>353.000000</td>\n",
       "      <td>353.000000</td>\n",
       "      <td>353.000000</td>\n",
       "      <td>353.000000</td>\n",
       "    </tr>\n",
       "    <tr>\n",
       "      <th>mean</th>\n",
       "      <td>274.559167</td>\n",
       "      <td>89.943244</td>\n",
       "      <td>3042.593952</td>\n",
       "      <td>6.707082</td>\n",
       "    </tr>\n",
       "    <tr>\n",
       "      <th>std</th>\n",
       "      <td>242.046720</td>\n",
       "      <td>92.548444</td>\n",
       "      <td>3794.364013</td>\n",
       "      <td>1.921242</td>\n",
       "    </tr>\n",
       "    <tr>\n",
       "      <th>min</th>\n",
       "      <td>0.500000</td>\n",
       "      <td>0.250000</td>\n",
       "      <td>0.000000</td>\n",
       "      <td>4.100000</td>\n",
       "    </tr>\n",
       "    <tr>\n",
       "      <th>25%</th>\n",
       "      <td>125.320000</td>\n",
       "      <td>44.360000</td>\n",
       "      <td>1557.330000</td>\n",
       "      <td>6.000000</td>\n",
       "    </tr>\n",
       "    <tr>\n",
       "      <th>50%</th>\n",
       "      <td>274.559167</td>\n",
       "      <td>70.775000</td>\n",
       "      <td>1797.975000</td>\n",
       "      <td>6.000000</td>\n",
       "    </tr>\n",
       "    <tr>\n",
       "      <th>75%</th>\n",
       "      <td>274.559167</td>\n",
       "      <td>94.570000</td>\n",
       "      <td>3114.670000</td>\n",
       "      <td>7.100000</td>\n",
       "    </tr>\n",
       "    <tr>\n",
       "      <th>max</th>\n",
       "      <td>1816.630000</td>\n",
       "      <td>906.920000</td>\n",
       "      <td>31146.670000</td>\n",
       "      <td>10.200000</td>\n",
       "    </tr>\n",
       "  </tbody>\n",
       "</table>\n",
       "</div>"
      ],
      "text/plain": [
       "       outgoing_mins_per_month  outgoing_sms_per_month    monthly_mb  \\\n",
       "count               353.000000              353.000000    353.000000   \n",
       "mean                274.559167               89.943244   3042.593952   \n",
       "std                 242.046720               92.548444   3794.364013   \n",
       "min                   0.500000                0.250000      0.000000   \n",
       "25%                 125.320000               44.360000   1557.330000   \n",
       "50%                 274.559167               70.775000   1797.975000   \n",
       "75%                 274.559167               94.570000   3114.670000   \n",
       "max                1816.630000              906.920000  31146.670000   \n",
       "\n",
       "       platform_version  \n",
       "count        353.000000  \n",
       "mean           6.707082  \n",
       "std            1.921242  \n",
       "min            4.100000  \n",
       "25%            6.000000  \n",
       "50%            6.000000  \n",
       "75%            7.100000  \n",
       "max           10.200000  "
      ]
     },
     "execution_count": 23,
     "metadata": {},
     "output_type": "execute_result"
    }
   ],
   "source": [
    "data.describe()"
   ]
  },
  {
   "cell_type": "markdown",
   "id": "b442121b",
   "metadata": {},
   "source": [
    "Q.2) Based on the above data frame, Use the programming skill to answer the following questions.                \\\n",
    "a)\tCreate the basket for discount on Monthly MB:                                                                \\             \n",
    "Monthly MB\tDiscount to attract users  \\\n",
    "Upto 50 MB:\t        10% extra on monthly MB  usage  \\\n",
    "51 MB- 1000 MB: \t4% extra on monthly MB usage    \\\n",
    "1001MB – 15000MB:\t3% extra on monthly MB usage    \\\n",
    "15001MB – 30000MB:\t2% extra on monthly MB usage   \\\n",
    "b)\tCreate the new column “Message” having message for user as mentioned below:    \\\n",
    "“Greetings, Your Monthly used data is 50MB. You will get 55 MB data to use for the next month.”     \\\n",
    "\n",
    "    \n",
    "https://pbpython.com/market-basket-analysis.html"
   ]
  },
  {
   "cell_type": "markdown",
   "id": "b8fad81a",
   "metadata": {},
   "source": [
    "discount_10 = (data[data['monthly_mb'] <=50].apply(lambda x:x+(x*0.1)))\n",
    "discount_10           "
   ]
  },
  {
   "cell_type": "markdown",
   "id": "bf3eb463",
   "metadata": {},
   "source": [
    "discount_4 = (data[(data['monthly_mb'] >=51) & (data['monthly_mb']<=1000)].apply(lambda x:x+(x*0.04)))\n",
    "discount_4   "
   ]
  },
  {
   "cell_type": "markdown",
   "id": "b582c5dd",
   "metadata": {},
   "source": [
    "discount_3 = (data[(data['monthly_mb'] >=1001) & (data['monthly_mb']<=15000)].apply(lambda x:x+(x*0.03)))\n",
    "discount_3   "
   ]
  },
  {
   "cell_type": "markdown",
   "id": "d66d3c47",
   "metadata": {},
   "source": [
    "discount_2 = (data[(data['monthly_mb'] >=15001) & (data['monthly_mb']<=30000)].apply(lambda x:x+(x*0.02)))\n",
    "discount_2   "
   ]
  },
  {
   "cell_type": "markdown",
   "id": "02c57687",
   "metadata": {},
   "source": [
    "### Q2)a)"
   ]
  },
  {
   "cell_type": "markdown",
   "id": "f87a1507",
   "metadata": {},
   "source": [
    "for i in range(len(discount_10)):\n",
    "    print('Greetings, Your Monthly used data is %s. You will get %i MB data to use for the next month'%(data[data['monthly_mb']<=50].iloc[i,2],discount_10.iloc[i,2]))   "
   ]
  },
  {
   "cell_type": "markdown",
   "id": "bf826119",
   "metadata": {},
   "source": [
    "for i in range(len(discount_4)):\n",
    "    print('Greetings, Your Monthly used data is %s. You will get %i MB data to use for the next month'%(data[(data['monthly_mb'] >=51) & (data['monthly_mb']<=1000)].iloc[i,2],discount_4.iloc[i,2]))"
   ]
  },
  {
   "cell_type": "markdown",
   "id": "98b48996",
   "metadata": {},
   "source": [
    "for i in range(len(discount_3)):\n",
    "    print('Greetings, Your Monthly used data is %s. You will get %i MB data to use for the next month'%(data[(data['monthly_mb'] >=1001) & (data['monthly_mb']<=15000)].iloc[i,2],discount_3.iloc[i,2]))   "
   ]
  },
  {
   "cell_type": "markdown",
   "id": "36f79f63",
   "metadata": {},
   "source": [
    "for i in range(len(discount_2)):\n",
    "    print('Greetings, Your Monthly used data is %s. You will get %i MB data to use for the next month'%(data[(data['monthly_mb'] >=15001) & (data['monthly_mb']<=30000)].iloc[i,2],discount_2.iloc[i,2]))\n",
    "    "
   ]
  },
  {
   "cell_type": "code",
   "execution_count": 24,
   "id": "bfa2e8e9",
   "metadata": {},
   "outputs": [],
   "source": [
    "## Discount function for monthly mb\n",
    "def discount_message(x):\n",
    "    monthly_mb=x\n",
    "    try:\n",
    "        if x <51:\n",
    "            dic= x*0.1\n",
    "        elif 50<x<1001:\n",
    "            dic=x*0.04\n",
    "        elif 1000<x<15001:\n",
    "            dic=x*0.03\n",
    "        else:\n",
    "            dic=x*0.02\n",
    "        \n",
    "        final=monthly_mb+dic\n",
    "        print(final)\n",
    "        str_mb=str(monthly_mb)\n",
    "        str_final= str(final)\n",
    "        str1=\"Your monthly data is \"+str_mb+\"you will get \"+ str_final +\" data to use for the next month.\"\n",
    "        return str1\n",
    "    except:\n",
    "        print(\"error\")"
   ]
  },
  {
   "cell_type": "code",
   "execution_count": 25,
   "id": "f1f75a81",
   "metadata": {},
   "outputs": [
    {
     "name": "stdout",
     "output_type": "stream",
     "text": [
      "1604.0499\n",
      "7485.5765\n",
      "7485.5765\n",
      "539.8848\n",
      "1604.0499\n",
      "1604.0499\n",
      "539.8848\n",
      "539.8848\n",
      "3208.1101\n",
      "26474.661\n",
      "3208.1101\n",
      "539.8848\n",
      "15884.7966\n",
      "539.8848\n",
      "539.8848\n",
      "15884.7966\n",
      "15884.7966\n",
      "15884.7966\n",
      "15884.7966\n",
      "10693.6763\n",
      "15884.7966\n",
      "15884.7966\n",
      "3208.1101\n",
      "5346.8535999999995\n",
      "1309.5317\n",
      "539.8848\n",
      "423.2904\n",
      "1604.0499\n",
      "5346.8535999999995\n",
      "15884.7966\n",
      "3208.1101\n",
      "1604.0499\n",
      "1604.0499\n",
      "539.8848\n",
      "539.8848\n",
      "539.8848\n",
      "3208.1101\n",
      "1604.0499\n",
      "6416.2099\n",
      "1069.3563000000001\n",
      "1069.3563000000001\n",
      "1604.0499\n",
      "3208.1101\n",
      "3208.1101\n",
      "5346.8535999999995\n",
      "37.169\n",
      "1604.0499\n",
      "539.8848\n",
      "1604.0499\n",
      "1604.0499\n",
      "1604.0499\n",
      "3208.1101\n",
      "7693.8837\n",
      "2138.7434999999996\n",
      "2138.7434999999996\n",
      "2138.7434999999996\n",
      "539.8848\n",
      "1604.0499\n",
      "1604.0499\n",
      "3208.1101\n",
      "1668.6515\n",
      "3208.1101\n",
      "16943.781\n",
      "1604.0499\n",
      "3208.1101\n",
      "3208.1101\n",
      "5346.8535999999995\n",
      "4277.4664\n",
      "2138.7434999999996\n",
      "3208.1101\n",
      "9275.6547\n",
      "1604.0499\n",
      "1830.9382999999998\n",
      "1604.0499\n",
      "7485.5765\n",
      "7485.5765\n",
      "1604.0499\n",
      "1604.0499\n",
      "1604.0499\n",
      "1604.0499\n",
      "3208.1101\n",
      "3208.1101\n",
      "3208.1101\n",
      "539.8848\n",
      "3208.1101\n",
      "2432.9321\n",
      "539.8848\n",
      "539.8848\n",
      "3208.1101\n",
      "539.8848\n",
      "3208.1101\n",
      "21179.739\n",
      "539.8848\n",
      "539.8848\n",
      "4277.4664\n",
      "5346.8535999999995\n",
      "5346.8535999999995\n",
      "930.3632\n",
      "12832.4301\n",
      "2138.7434999999996\n",
      "3208.1101\n",
      "1604.0499\n",
      "3208.1101\n",
      "1604.0499\n",
      "5763.8491\n",
      "5763.8491\n",
      "3208.1101\n",
      "1604.0499\n",
      "1604.0499\n",
      "1604.0499\n",
      "5346.8535999999995\n",
      "3208.1101\n",
      "1604.0499\n",
      "1604.0499\n",
      "31769.6034\n",
      "12832.4301\n",
      "15884.7966\n",
      "1604.0499\n",
      "1604.0499\n",
      "7693.8837\n",
      "1604.0499\n",
      "3208.1101\n",
      "3208.1101\n",
      "21179.739\n",
      "1604.0499\n",
      "3208.1101\n",
      "10463.255\n",
      "1604.0499\n",
      "835.3696\n",
      "3208.1101\n",
      "12.847999999999999\n",
      "1604.0499\n",
      "676.9567999999999\n",
      "3208.1101\n",
      "1604.0499\n",
      "3208.1101\n",
      "2138.7434999999996\n",
      "5346.8535999999995\n",
      "539.8848\n",
      "539.8848\n",
      "9624.32\n",
      "1604.0499\n",
      "221.14559999999997\n",
      "2138.7434999999996\n",
      "12832.4301\n",
      "1604.0499\n",
      "6774.4336\n",
      "0.0\n",
      "1069.3563000000001\n",
      "1069.3563000000001\n",
      "1604.0499\n",
      "2138.7434999999996\n",
      "77.376\n",
      "5346.8535999999995\n",
      "5346.8535999999995\n",
      "3208.1101\n",
      "5346.8535999999995\n",
      "539.8848\n",
      "5346.8535999999995\n",
      "2175.9677\n",
      "3208.1101\n",
      "3208.1101\n",
      "1604.0499\n",
      "4146.6358\n",
      "5013.4838\n",
      "1604.0499\n",
      "1604.0499\n",
      "1867.1222\n",
      "11624.621200000001\n",
      "5346.8535999999995\n",
      "1604.0499\n",
      "5994.0541\n",
      "539.8848\n",
      "690.9032000000001\n",
      "1740.4322\n",
      "731.8688000000001\n",
      "499.46\n",
      "1360.1253\n",
      "4072.5067\n",
      "1496.7548000000002\n",
      "1496.7548000000002\n",
      "1604.0499\n",
      "1484.5286999999998\n",
      "384.6336\n",
      "1965.8476999999998\n",
      "3348.8698999999997\n",
      "767.8944\n",
      "1540.8903\n",
      "6196.2225\n",
      "3497.5298\n",
      "3497.5298\n",
      "3497.5298\n",
      "276.4424\n",
      "5576.564200000001\n",
      "5576.564200000001\n",
      "5285.2287\n",
      "5285.2287\n",
      "650.4159999999999\n",
      "650.4159999999999\n",
      "1724.5804999999998\n",
      "3208.1101\n",
      "5576.564200000001\n",
      "10150.433700000001\n",
      "659.6512\n",
      "5295.1888\n",
      "1836.7063\n",
      "2729.5515\n",
      "563.0456\n",
      "1166.1969\n",
      "1166.1969\n",
      "1166.1969\n",
      "1166.1969\n",
      "1484.5286999999998\n",
      "1484.5286999999998\n",
      "2899.0791999999997\n",
      "1166.1969\n",
      "1166.1969\n",
      "1166.1969\n",
      "1166.1969\n",
      "376.50079999999997\n",
      "1076.7517\n",
      "1076.7517\n",
      "431.704\n",
      "1484.5286999999998\n",
      "4702.2899\n",
      "4663.6649\n",
      "2687.4759999999997\n",
      "4663.6649\n",
      "6401.460300000001\n",
      "2065.0264\n",
      "1484.5286999999998\n",
      "895.3152\n",
      "895.3152\n",
      "932.8384000000001\n",
      "3434.3084000000003\n",
      "932.8384000000001\n",
      "2899.45\n",
      "7032.9327\n",
      "1496.7548000000002\n",
      "3182.5454999999997\n",
      "1851.9142499999998\n",
      "1851.9142499999998\n",
      "1851.9142499999998\n",
      "1851.9142499999998\n",
      "1851.9142499999998\n",
      "1851.9142499999998\n",
      "1851.9142499999998\n",
      "1851.9142499999998\n",
      "1851.9142499999998\n",
      "1851.9142499999998\n",
      "1851.9142499999998\n",
      "1851.9142499999998\n",
      "1851.9142499999998\n",
      "1851.9142499999998\n",
      "1851.9142499999998\n",
      "1851.9142499999998\n",
      "1851.9142499999998\n",
      "1851.9142499999998\n",
      "1851.9142499999998\n",
      "1851.9142499999998\n",
      "1851.9142499999998\n",
      "1851.9142499999998\n",
      "1851.9142499999998\n",
      "1851.9142499999998\n",
      "1851.9142499999998\n",
      "1851.9142499999998\n",
      "1851.9142499999998\n",
      "1851.9142499999998\n",
      "1851.9142499999998\n",
      "1851.9142499999998\n",
      "1851.9142499999998\n",
      "1851.9142499999998\n",
      "1851.9142499999998\n",
      "1851.9142499999998\n",
      "1851.9142499999998\n",
      "1851.9142499999998\n",
      "1851.9142499999998\n",
      "1851.9142499999998\n",
      "1851.9142499999998\n",
      "1851.9142499999998\n",
      "1851.9142499999998\n",
      "1851.9142499999998\n",
      "1851.9142499999998\n",
      "1851.9142499999998\n",
      "1851.9142499999998\n",
      "1851.9142499999998\n",
      "1851.9142499999998\n",
      "1851.9142499999998\n",
      "1851.9142499999998\n",
      "1851.9142499999998\n",
      "1851.9142499999998\n",
      "1851.9142499999998\n",
      "1851.9142499999998\n",
      "1851.9142499999998\n",
      "1851.9142499999998\n",
      "1851.9142499999998\n",
      "1851.9142499999998\n",
      "1851.9142499999998\n",
      "1851.9142499999998\n",
      "1851.9142499999998\n",
      "1851.9142499999998\n",
      "1851.9142499999998\n",
      "1851.9142499999998\n",
      "1851.9142499999998\n",
      "1851.9142499999998\n",
      "1851.9142499999998\n",
      "1851.9142499999998\n",
      "1851.9142499999998\n",
      "1851.9142499999998\n",
      "1851.9142499999998\n",
      "1851.9142499999998\n",
      "1851.9142499999998\n",
      "1851.9142499999998\n",
      "1851.9142499999998\n",
      "1851.9142499999998\n",
      "1851.9142499999998\n",
      "1851.9142499999998\n",
      "1851.9142499999998\n",
      "1851.9142499999998\n",
      "1851.9142499999998\n",
      "1851.9142499999998\n",
      "1851.9142499999998\n",
      "1851.9142499999998\n",
      "1851.9142499999998\n",
      "1851.9142499999998\n",
      "1851.9142499999998\n",
      "1851.9142499999998\n",
      "1851.9142499999998\n",
      "1851.9142499999998\n",
      "1851.9142499999998\n",
      "1851.9142499999998\n",
      "1851.9142499999998\n",
      "1851.9142499999998\n",
      "1851.9142499999998\n",
      "1851.9142499999998\n",
      "1851.9142499999998\n",
      "1851.9142499999998\n",
      "1851.9142499999998\n",
      "1851.9142499999998\n",
      "1851.9142499999998\n",
      "1851.9142499999998\n",
      "1851.9142499999998\n",
      "1851.9142499999998\n",
      "1851.9142499999998\n",
      "1851.9142499999998\n",
      "1851.9142499999998\n",
      "1851.9142499999998\n",
      "1851.9142499999998\n",
      "1851.9142499999998\n",
      "1851.9142499999998\n",
      "1851.9142499999998\n",
      "1851.9142499999998\n",
      "1851.9142499999998\n"
     ]
    }
   ],
   "source": [
    "data['Message']=data['monthly_mb'].apply(discount_message)"
   ]
  },
  {
   "cell_type": "code",
   "execution_count": 26,
   "id": "7439d0aa",
   "metadata": {},
   "outputs": [
    {
     "data": {
      "text/html": [
       "<div>\n",
       "<style scoped>\n",
       "    .dataframe tbody tr th:only-of-type {\n",
       "        vertical-align: middle;\n",
       "    }\n",
       "\n",
       "    .dataframe tbody tr th {\n",
       "        vertical-align: top;\n",
       "    }\n",
       "\n",
       "    .dataframe thead th {\n",
       "        text-align: right;\n",
       "    }\n",
       "</style>\n",
       "<table border=\"1\" class=\"dataframe\">\n",
       "  <thead>\n",
       "    <tr style=\"text-align: right;\">\n",
       "      <th></th>\n",
       "      <th>outgoing_mins_per_month</th>\n",
       "      <th>outgoing_sms_per_month</th>\n",
       "      <th>monthly_mb</th>\n",
       "      <th>platform</th>\n",
       "      <th>platform_version</th>\n",
       "      <th>device</th>\n",
       "      <th>Message</th>\n",
       "    </tr>\n",
       "  </thead>\n",
       "  <tbody>\n",
       "    <tr>\n",
       "      <th>0</th>\n",
       "      <td>21.97</td>\n",
       "      <td>4.82</td>\n",
       "      <td>1557.33</td>\n",
       "      <td>android</td>\n",
       "      <td>4.3</td>\n",
       "      <td>GT-I9505</td>\n",
       "      <td>Your monthly data is 1557.33you will get 1604....</td>\n",
       "    </tr>\n",
       "    <tr>\n",
       "      <th>1</th>\n",
       "      <td>1710.08</td>\n",
       "      <td>136.88</td>\n",
       "      <td>7267.55</td>\n",
       "      <td>android</td>\n",
       "      <td>6.0</td>\n",
       "      <td>SM-G930F</td>\n",
       "      <td>Your monthly data is 7267.55you will get 7485....</td>\n",
       "    </tr>\n",
       "    <tr>\n",
       "      <th>2</th>\n",
       "      <td>1710.08</td>\n",
       "      <td>136.88</td>\n",
       "      <td>7267.55</td>\n",
       "      <td>android</td>\n",
       "      <td>6.0</td>\n",
       "      <td>SM-G930F</td>\n",
       "      <td>Your monthly data is 7267.55you will get 7485....</td>\n",
       "    </tr>\n",
       "    <tr>\n",
       "      <th>3</th>\n",
       "      <td>94.46</td>\n",
       "      <td>35.17</td>\n",
       "      <td>519.12</td>\n",
       "      <td>android</td>\n",
       "      <td>5.1</td>\n",
       "      <td>D2303</td>\n",
       "      <td>Your monthly data is 519.12you will get 539.88...</td>\n",
       "    </tr>\n",
       "    <tr>\n",
       "      <th>4</th>\n",
       "      <td>71.59</td>\n",
       "      <td>79.26</td>\n",
       "      <td>1557.33</td>\n",
       "      <td>android</td>\n",
       "      <td>5.1</td>\n",
       "      <td>SM-G361F</td>\n",
       "      <td>Your monthly data is 1557.33you will get 1604....</td>\n",
       "    </tr>\n",
       "  </tbody>\n",
       "</table>\n",
       "</div>"
      ],
      "text/plain": [
       "   outgoing_mins_per_month  outgoing_sms_per_month  monthly_mb platform  \\\n",
       "0                    21.97                    4.82     1557.33  android   \n",
       "1                  1710.08                  136.88     7267.55  android   \n",
       "2                  1710.08                  136.88     7267.55  android   \n",
       "3                    94.46                   35.17      519.12  android   \n",
       "4                    71.59                   79.26     1557.33  android   \n",
       "\n",
       "   platform_version    device  \\\n",
       "0               4.3  GT-I9505   \n",
       "1               6.0  SM-G930F   \n",
       "2               6.0  SM-G930F   \n",
       "3               5.1     D2303   \n",
       "4               5.1  SM-G361F   \n",
       "\n",
       "                                             Message  \n",
       "0  Your monthly data is 1557.33you will get 1604....  \n",
       "1  Your monthly data is 7267.55you will get 7485....  \n",
       "2  Your monthly data is 7267.55you will get 7485....  \n",
       "3  Your monthly data is 519.12you will get 539.88...  \n",
       "4  Your monthly data is 1557.33you will get 1604....  "
      ]
     },
     "execution_count": 26,
     "metadata": {},
     "output_type": "execute_result"
    }
   ],
   "source": [
    "data.head(5) "
   ]
  },
  {
   "cell_type": "code",
   "execution_count": null,
   "id": "a387158b",
   "metadata": {},
   "outputs": [],
   "source": []
  },
  {
   "cell_type": "markdown",
   "id": "ae97b8b4",
   "metadata": {},
   "source": [
    "### house hold Glass prediction"
   ]
  },
  {
   "cell_type": "markdown",
   "id": "28418665",
   "metadata": {},
   "source": [
    "Q.3) Find the following data set. Observe all the variables and data values given in the data set. Using the machine learning skill answer the following questions   [20 Marks]\n",
    "DATA SET: Glass Data Set\n",
    "This data is the result of a chemical composition of the glass. Based on chemical composition type of glass is defined.  \n",
    "Attribute Information is as mentioned below:\n",
    "   1. Id number: 1 to 214\n",
    "   2. RI: refractive index\n",
    "   3. Na: Sodium (unit measurement: weight percent in corresponding oxide, as \n",
    "                  are attributes 4-10)\n",
    "   4. Mg: Magnesium\n",
    "   5. Al: Aluminum\n",
    "   6. Si: Silicon\n",
    "   7. K: Potassium\n",
    "   8. Ca: Calcium\n",
    "   9. Ba: Barium\n",
    "  10. Fe: Iron\n",
    "  11. Type of glass: (class attribute)\n",
    "      -- 1 building_windows_float_processed \n",
    "      \n",
    "      -- 2 building_windows_non_float_processed\n",
    "      \n",
    "      -- 3 vehicle_windows_float_processed\n",
    "      \n",
    "      -- 4 vehicle_windows_non_float_processed (none in this database)\n",
    "      \n",
    "      -- 5 containers\n",
    "      \n",
    "      -- 6 tableware\n",
    "      \n",
    "      -- 7 headlamps\n",
    "\n",
    "Using a suitable machine learning technique, develop a suitable model to predict, if glass can be used for household purpose. \n"
   ]
  },
  {
   "cell_type": "code",
   "execution_count": 27,
   "id": "d1d8dccd",
   "metadata": {},
   "outputs": [
    {
     "data": {
      "text/html": [
       "<div>\n",
       "<style scoped>\n",
       "    .dataframe tbody tr th:only-of-type {\n",
       "        vertical-align: middle;\n",
       "    }\n",
       "\n",
       "    .dataframe tbody tr th {\n",
       "        vertical-align: top;\n",
       "    }\n",
       "\n",
       "    .dataframe thead th {\n",
       "        text-align: right;\n",
       "    }\n",
       "</style>\n",
       "<table border=\"1\" class=\"dataframe\">\n",
       "  <thead>\n",
       "    <tr style=\"text-align: right;\">\n",
       "      <th></th>\n",
       "      <th>Id</th>\n",
       "      <th>RI</th>\n",
       "      <th>Na</th>\n",
       "      <th>Mg</th>\n",
       "      <th>Al</th>\n",
       "      <th>Si</th>\n",
       "      <th>K</th>\n",
       "      <th>Ca</th>\n",
       "      <th>Ba</th>\n",
       "      <th>Fe</th>\n",
       "      <th>Type</th>\n",
       "    </tr>\n",
       "  </thead>\n",
       "  <tbody>\n",
       "    <tr>\n",
       "      <th>0</th>\n",
       "      <td>1</td>\n",
       "      <td>1.52101</td>\n",
       "      <td>13.64</td>\n",
       "      <td>4.49</td>\n",
       "      <td>1.1</td>\n",
       "      <td>71.78</td>\n",
       "      <td>0.06</td>\n",
       "      <td>8.75</td>\n",
       "      <td>0.0</td>\n",
       "      <td>0.0</td>\n",
       "      <td>1</td>\n",
       "    </tr>\n",
       "  </tbody>\n",
       "</table>\n",
       "</div>"
      ],
      "text/plain": [
       "   Id       RI     Na    Mg   Al     Si     K    Ca   Ba   Fe  Type\n",
       "0   1  1.52101  13.64  4.49  1.1  71.78  0.06  8.75  0.0  0.0     1"
      ]
     },
     "execution_count": 27,
     "metadata": {},
     "output_type": "execute_result"
    }
   ],
   "source": [
    "glass=pd.read_csv('glass.csv')\n",
    "glass.head(1)"
   ]
  },
  {
   "cell_type": "code",
   "execution_count": 28,
   "id": "14eb6328",
   "metadata": {},
   "outputs": [
    {
     "data": {
      "text/plain": [
       "(214, 11)"
      ]
     },
     "execution_count": 28,
     "metadata": {},
     "output_type": "execute_result"
    }
   ],
   "source": [
    "glass.shape"
   ]
  },
  {
   "cell_type": "code",
   "execution_count": 29,
   "id": "f7171da6",
   "metadata": {},
   "outputs": [
    {
     "data": {
      "text/plain": [
       "array([1, 2, 3, 5, 6, 7], dtype=int64)"
      ]
     },
     "execution_count": 29,
     "metadata": {},
     "output_type": "execute_result"
    }
   ],
   "source": [
    "glass['Type'].unique()"
   ]
  },
  {
   "cell_type": "code",
   "execution_count": 30,
   "id": "0440b3ce",
   "metadata": {},
   "outputs": [],
   "source": [
    "glass.drop(columns='Id',axis=1,inplace=True)"
   ]
  },
  {
   "cell_type": "code",
   "execution_count": 31,
   "id": "ee1c61bf",
   "metadata": {},
   "outputs": [
    {
     "data": {
      "text/html": [
       "<div>\n",
       "<style scoped>\n",
       "    .dataframe tbody tr th:only-of-type {\n",
       "        vertical-align: middle;\n",
       "    }\n",
       "\n",
       "    .dataframe tbody tr th {\n",
       "        vertical-align: top;\n",
       "    }\n",
       "\n",
       "    .dataframe thead th {\n",
       "        text-align: right;\n",
       "    }\n",
       "</style>\n",
       "<table border=\"1\" class=\"dataframe\">\n",
       "  <thead>\n",
       "    <tr style=\"text-align: right;\">\n",
       "      <th></th>\n",
       "      <th>RI</th>\n",
       "      <th>Na</th>\n",
       "      <th>Mg</th>\n",
       "      <th>Al</th>\n",
       "      <th>Si</th>\n",
       "      <th>K</th>\n",
       "      <th>Ca</th>\n",
       "      <th>Ba</th>\n",
       "      <th>Fe</th>\n",
       "      <th>Type</th>\n",
       "    </tr>\n",
       "  </thead>\n",
       "  <tbody>\n",
       "    <tr>\n",
       "      <th>count</th>\n",
       "      <td>214.000000</td>\n",
       "      <td>214.000000</td>\n",
       "      <td>214.000000</td>\n",
       "      <td>214.000000</td>\n",
       "      <td>214.000000</td>\n",
       "      <td>214.000000</td>\n",
       "      <td>214.000000</td>\n",
       "      <td>214.000000</td>\n",
       "      <td>214.000000</td>\n",
       "      <td>214.000000</td>\n",
       "    </tr>\n",
       "    <tr>\n",
       "      <th>mean</th>\n",
       "      <td>1.518365</td>\n",
       "      <td>13.407850</td>\n",
       "      <td>2.684533</td>\n",
       "      <td>1.444907</td>\n",
       "      <td>72.650935</td>\n",
       "      <td>0.497056</td>\n",
       "      <td>8.956963</td>\n",
       "      <td>0.175047</td>\n",
       "      <td>0.057009</td>\n",
       "      <td>2.780374</td>\n",
       "    </tr>\n",
       "    <tr>\n",
       "      <th>std</th>\n",
       "      <td>0.003037</td>\n",
       "      <td>0.816604</td>\n",
       "      <td>1.442408</td>\n",
       "      <td>0.499270</td>\n",
       "      <td>0.774546</td>\n",
       "      <td>0.652192</td>\n",
       "      <td>1.423153</td>\n",
       "      <td>0.497219</td>\n",
       "      <td>0.097439</td>\n",
       "      <td>2.103739</td>\n",
       "    </tr>\n",
       "    <tr>\n",
       "      <th>min</th>\n",
       "      <td>1.511150</td>\n",
       "      <td>10.730000</td>\n",
       "      <td>0.000000</td>\n",
       "      <td>0.290000</td>\n",
       "      <td>69.810000</td>\n",
       "      <td>0.000000</td>\n",
       "      <td>5.430000</td>\n",
       "      <td>0.000000</td>\n",
       "      <td>0.000000</td>\n",
       "      <td>1.000000</td>\n",
       "    </tr>\n",
       "    <tr>\n",
       "      <th>25%</th>\n",
       "      <td>1.516523</td>\n",
       "      <td>12.907500</td>\n",
       "      <td>2.115000</td>\n",
       "      <td>1.190000</td>\n",
       "      <td>72.280000</td>\n",
       "      <td>0.122500</td>\n",
       "      <td>8.240000</td>\n",
       "      <td>0.000000</td>\n",
       "      <td>0.000000</td>\n",
       "      <td>1.000000</td>\n",
       "    </tr>\n",
       "    <tr>\n",
       "      <th>50%</th>\n",
       "      <td>1.517680</td>\n",
       "      <td>13.300000</td>\n",
       "      <td>3.480000</td>\n",
       "      <td>1.360000</td>\n",
       "      <td>72.790000</td>\n",
       "      <td>0.555000</td>\n",
       "      <td>8.600000</td>\n",
       "      <td>0.000000</td>\n",
       "      <td>0.000000</td>\n",
       "      <td>2.000000</td>\n",
       "    </tr>\n",
       "    <tr>\n",
       "      <th>75%</th>\n",
       "      <td>1.519157</td>\n",
       "      <td>13.825000</td>\n",
       "      <td>3.600000</td>\n",
       "      <td>1.630000</td>\n",
       "      <td>73.087500</td>\n",
       "      <td>0.610000</td>\n",
       "      <td>9.172500</td>\n",
       "      <td>0.000000</td>\n",
       "      <td>0.100000</td>\n",
       "      <td>3.000000</td>\n",
       "    </tr>\n",
       "    <tr>\n",
       "      <th>max</th>\n",
       "      <td>1.533930</td>\n",
       "      <td>17.380000</td>\n",
       "      <td>4.490000</td>\n",
       "      <td>3.500000</td>\n",
       "      <td>75.410000</td>\n",
       "      <td>6.210000</td>\n",
       "      <td>16.190000</td>\n",
       "      <td>3.150000</td>\n",
       "      <td>0.510000</td>\n",
       "      <td>7.000000</td>\n",
       "    </tr>\n",
       "  </tbody>\n",
       "</table>\n",
       "</div>"
      ],
      "text/plain": [
       "               RI          Na          Mg          Al          Si           K  \\\n",
       "count  214.000000  214.000000  214.000000  214.000000  214.000000  214.000000   \n",
       "mean     1.518365   13.407850    2.684533    1.444907   72.650935    0.497056   \n",
       "std      0.003037    0.816604    1.442408    0.499270    0.774546    0.652192   \n",
       "min      1.511150   10.730000    0.000000    0.290000   69.810000    0.000000   \n",
       "25%      1.516523   12.907500    2.115000    1.190000   72.280000    0.122500   \n",
       "50%      1.517680   13.300000    3.480000    1.360000   72.790000    0.555000   \n",
       "75%      1.519157   13.825000    3.600000    1.630000   73.087500    0.610000   \n",
       "max      1.533930   17.380000    4.490000    3.500000   75.410000    6.210000   \n",
       "\n",
       "               Ca          Ba          Fe        Type  \n",
       "count  214.000000  214.000000  214.000000  214.000000  \n",
       "mean     8.956963    0.175047    0.057009    2.780374  \n",
       "std      1.423153    0.497219    0.097439    2.103739  \n",
       "min      5.430000    0.000000    0.000000    1.000000  \n",
       "25%      8.240000    0.000000    0.000000    1.000000  \n",
       "50%      8.600000    0.000000    0.000000    2.000000  \n",
       "75%      9.172500    0.000000    0.100000    3.000000  \n",
       "max     16.190000    3.150000    0.510000    7.000000  "
      ]
     },
     "execution_count": 31,
     "metadata": {},
     "output_type": "execute_result"
    }
   ],
   "source": [
    "glass.describe() ##Statistical description of the data."
   ]
  },
  {
   "cell_type": "code",
   "execution_count": 32,
   "id": "b88cf324",
   "metadata": {},
   "outputs": [
    {
     "data": {
      "text/plain": [
       "<AxesSubplot:>"
      ]
     },
     "execution_count": 32,
     "metadata": {},
     "output_type": "execute_result"
    },
    {
     "data": {
      "image/png": "[encoded data removed]",
      "text/plain": [
       "<Figure size 1080x720 with 2 Axes>"
      ]
     },
     "metadata": {},
     "output_type": "display_data"
    }
   ],
   "source": [
    "# Correlation plot of the data.\n",
    "plt.subplots(figsize=(15,10))\n",
    "sns.set(font_scale=1.2)\n",
    "sns.heatmap(glass.corr(),annot=True,vmin=-1, vmax=1, center= 0)"
   ]
  },
  {
   "cell_type": "code",
   "execution_count": 33,
   "id": "15d46baa",
   "metadata": {},
   "outputs": [
    {
     "data": {
      "image/png": "[encoded data removed]",
      "text/plain": [
       "<Figure size 720x576 with 12 Axes>"
      ]
     },
     "metadata": {},
     "output_type": "display_data"
    }
   ],
   "source": [
    "glass.hist(figsize=(10,8))\n",
    "plt.show()"
   ]
  },
  {
   "cell_type": "code",
   "execution_count": 34,
   "id": "b379eb9e",
   "metadata": {},
   "outputs": [
    {
     "data": {
      "text/html": [
       "<div>\n",
       "<style scoped>\n",
       "    .dataframe tbody tr th:only-of-type {\n",
       "        vertical-align: middle;\n",
       "    }\n",
       "\n",
       "    .dataframe tbody tr th {\n",
       "        vertical-align: top;\n",
       "    }\n",
       "\n",
       "    .dataframe thead th {\n",
       "        text-align: right;\n",
       "    }\n",
       "</style>\n",
       "<table border=\"1\" class=\"dataframe\">\n",
       "  <thead>\n",
       "    <tr style=\"text-align: right;\">\n",
       "      <th></th>\n",
       "      <th>RI</th>\n",
       "      <th>Na</th>\n",
       "      <th>Mg</th>\n",
       "      <th>Al</th>\n",
       "      <th>Si</th>\n",
       "      <th>K</th>\n",
       "      <th>Ca</th>\n",
       "      <th>Ba</th>\n",
       "      <th>Fe</th>\n",
       "    </tr>\n",
       "  </thead>\n",
       "  <tbody>\n",
       "    <tr>\n",
       "      <th>0</th>\n",
       "      <td>1.52101</td>\n",
       "      <td>13.64</td>\n",
       "      <td>4.49</td>\n",
       "      <td>1.10</td>\n",
       "      <td>71.78</td>\n",
       "      <td>0.06</td>\n",
       "      <td>8.75</td>\n",
       "      <td>0.00</td>\n",
       "      <td>0.0</td>\n",
       "    </tr>\n",
       "    <tr>\n",
       "      <th>1</th>\n",
       "      <td>1.51761</td>\n",
       "      <td>13.89</td>\n",
       "      <td>3.60</td>\n",
       "      <td>1.36</td>\n",
       "      <td>72.73</td>\n",
       "      <td>0.48</td>\n",
       "      <td>7.83</td>\n",
       "      <td>0.00</td>\n",
       "      <td>0.0</td>\n",
       "    </tr>\n",
       "    <tr>\n",
       "      <th>2</th>\n",
       "      <td>1.51618</td>\n",
       "      <td>13.53</td>\n",
       "      <td>3.55</td>\n",
       "      <td>1.54</td>\n",
       "      <td>72.99</td>\n",
       "      <td>0.39</td>\n",
       "      <td>7.78</td>\n",
       "      <td>0.00</td>\n",
       "      <td>0.0</td>\n",
       "    </tr>\n",
       "    <tr>\n",
       "      <th>3</th>\n",
       "      <td>1.51766</td>\n",
       "      <td>13.21</td>\n",
       "      <td>3.69</td>\n",
       "      <td>1.29</td>\n",
       "      <td>72.61</td>\n",
       "      <td>0.57</td>\n",
       "      <td>8.22</td>\n",
       "      <td>0.00</td>\n",
       "      <td>0.0</td>\n",
       "    </tr>\n",
       "    <tr>\n",
       "      <th>4</th>\n",
       "      <td>1.51742</td>\n",
       "      <td>13.27</td>\n",
       "      <td>3.62</td>\n",
       "      <td>1.24</td>\n",
       "      <td>73.08</td>\n",
       "      <td>0.55</td>\n",
       "      <td>8.07</td>\n",
       "      <td>0.00</td>\n",
       "      <td>0.0</td>\n",
       "    </tr>\n",
       "    <tr>\n",
       "      <th>...</th>\n",
       "      <td>...</td>\n",
       "      <td>...</td>\n",
       "      <td>...</td>\n",
       "      <td>...</td>\n",
       "      <td>...</td>\n",
       "      <td>...</td>\n",
       "      <td>...</td>\n",
       "      <td>...</td>\n",
       "      <td>...</td>\n",
       "    </tr>\n",
       "    <tr>\n",
       "      <th>209</th>\n",
       "      <td>1.51623</td>\n",
       "      <td>14.14</td>\n",
       "      <td>0.00</td>\n",
       "      <td>2.88</td>\n",
       "      <td>72.61</td>\n",
       "      <td>0.08</td>\n",
       "      <td>9.18</td>\n",
       "      <td>1.06</td>\n",
       "      <td>0.0</td>\n",
       "    </tr>\n",
       "    <tr>\n",
       "      <th>210</th>\n",
       "      <td>1.51685</td>\n",
       "      <td>14.92</td>\n",
       "      <td>0.00</td>\n",
       "      <td>1.99</td>\n",
       "      <td>73.06</td>\n",
       "      <td>0.00</td>\n",
       "      <td>8.40</td>\n",
       "      <td>1.59</td>\n",
       "      <td>0.0</td>\n",
       "    </tr>\n",
       "    <tr>\n",
       "      <th>211</th>\n",
       "      <td>1.52065</td>\n",
       "      <td>14.36</td>\n",
       "      <td>0.00</td>\n",
       "      <td>2.02</td>\n",
       "      <td>73.42</td>\n",
       "      <td>0.00</td>\n",
       "      <td>8.44</td>\n",
       "      <td>1.64</td>\n",
       "      <td>0.0</td>\n",
       "    </tr>\n",
       "    <tr>\n",
       "      <th>212</th>\n",
       "      <td>1.51651</td>\n",
       "      <td>14.38</td>\n",
       "      <td>0.00</td>\n",
       "      <td>1.94</td>\n",
       "      <td>73.61</td>\n",
       "      <td>0.00</td>\n",
       "      <td>8.48</td>\n",
       "      <td>1.57</td>\n",
       "      <td>0.0</td>\n",
       "    </tr>\n",
       "    <tr>\n",
       "      <th>213</th>\n",
       "      <td>1.51711</td>\n",
       "      <td>14.23</td>\n",
       "      <td>0.00</td>\n",
       "      <td>2.08</td>\n",
       "      <td>73.36</td>\n",
       "      <td>0.00</td>\n",
       "      <td>8.62</td>\n",
       "      <td>1.67</td>\n",
       "      <td>0.0</td>\n",
       "    </tr>\n",
       "  </tbody>\n",
       "</table>\n",
       "<p>214 rows × 9 columns</p>\n",
       "</div>"
      ],
      "text/plain": [
       "          RI     Na    Mg    Al     Si     K    Ca    Ba   Fe\n",
       "0    1.52101  13.64  4.49  1.10  71.78  0.06  8.75  0.00  0.0\n",
       "1    1.51761  13.89  3.60  1.36  72.73  0.48  7.83  0.00  0.0\n",
       "2    1.51618  13.53  3.55  1.54  72.99  0.39  7.78  0.00  0.0\n",
       "3    1.51766  13.21  3.69  1.29  72.61  0.57  8.22  0.00  0.0\n",
       "4    1.51742  13.27  3.62  1.24  73.08  0.55  8.07  0.00  0.0\n",
       "..       ...    ...   ...   ...    ...   ...   ...   ...  ...\n",
       "209  1.51623  14.14  0.00  2.88  72.61  0.08  9.18  1.06  0.0\n",
       "210  1.51685  14.92  0.00  1.99  73.06  0.00  8.40  1.59  0.0\n",
       "211  1.52065  14.36  0.00  2.02  73.42  0.00  8.44  1.64  0.0\n",
       "212  1.51651  14.38  0.00  1.94  73.61  0.00  8.48  1.57  0.0\n",
       "213  1.51711  14.23  0.00  2.08  73.36  0.00  8.62  1.67  0.0\n",
       "\n",
       "[214 rows x 9 columns]"
      ]
     },
     "execution_count": 34,
     "metadata": {},
     "output_type": "execute_result"
    }
   ],
   "source": [
    "features= glass.iloc[:,:-1]\n",
    "features"
   ]
  },
  {
   "cell_type": "code",
   "execution_count": 35,
   "id": "4f5d2a38",
   "metadata": {},
   "outputs": [
    {
     "name": "stderr",
     "output_type": "stream",
     "text": [
      "C:\\Users\\user\\Anaconda3\\lib\\site-packages\\seaborn\\distributions.py:2557: FutureWarning: `distplot` is a deprecated function and will be removed in a future version. Please adapt your code to use either `displot` (a figure-level function with similar flexibility) or `histplot` (an axes-level function for histograms).\n",
      "  warnings.warn(msg, FutureWarning)\n"
     ]
    },
    {
     "data": {
      "image/png": "[encoded data removed]",
      "text/plain": [
       "<Figure size 432x288 with 1 Axes>"
      ]
     },
     "metadata": {},
     "output_type": "display_data"
    },
    {
     "data": {
      "image/png": "[encoded data removed]",
      "text/plain": [
       "<Figure size 432x288 with 1 Axes>"
      ]
     },
     "metadata": {},
     "output_type": "display_data"
    },
    {
     "data": {
      "image/png": "[encoded data removed]",
      "text/plain": [
       "<Figure size 432x288 with 1 Axes>"
      ]
     },
     "metadata": {},
     "output_type": "display_data"
    },
    {
     "data": {
      "image/png": "[encoded data removed]",
      "text/plain": [
       "<Figure size 432x288 with 1 Axes>"
      ]
     },
     "metadata": {},
     "output_type": "display_data"
    },
    {
     "data": {
      "image/png": "[encoded data removed]",
      "text/plain": [
       "<Figure size 432x288 with 1 Axes>"
      ]
     },
     "metadata": {},
     "output_type": "display_data"
    },
    {
     "data": {
      "image/png": "[encoded data removed]",
      "text/plain": [
       "<Figure size 432x288 with 1 Axes>"
      ]
     },
     "metadata": {},
     "output_type": "display_data"
    },
    {
     "data": {
      "image/png": "[encoded data removed]",
      "text/plain": [
       "<Figure size 432x288 with 1 Axes>"
      ]
     },
     "metadata": {},
     "output_type": "display_data"
    },
    {
     "data": {
      "image/png": "[encoded data removed]",
      "text/plain": [
       "<Figure size 432x288 with 1 Axes>"
      ]
     },
     "metadata": {},
     "output_type": "display_data"
    },
    {
     "data": {
      "image/png": "[encoded data removed]",
      "text/plain": [
       "<Figure size 432x288 with 1 Axes>"
      ]
     },
     "metadata": {},
     "output_type": "display_data"
    }
   ],
   "source": [
    "for feat in features:\n",
    "    skew = glass[feat].skew()\n",
    "    sns.distplot(glass[feat], kde= False, label='Skew = %.3f' %(skew), bins=30)\n",
    "    plt.legend(loc='best')\n",
    "    plt.show()"
   ]
  },
  {
   "cell_type": "markdown",
   "id": "ee646ca8",
   "metadata": {},
   "source": [
    "### Analysis"
   ]
  },
  {
   "cell_type": "code",
   "execution_count": 36,
   "id": "cadf1164",
   "metadata": {},
   "outputs": [],
   "source": [
    "from sklearn.model_selection import train_test_split\n",
    "X = features \n",
    "y = glass['Type'] \n",
    "\n",
    "X_train, X_test, y_train, y_test = train_test_split(X, y, test_size =0.25 , random_state = 12)"
   ]
  },
  {
   "cell_type": "markdown",
   "id": "478febc5",
   "metadata": {},
   "source": [
    "#### Random Forest Classifier"
   ]
  },
  {
   "cell_type": "code",
   "execution_count": 37,
   "id": "ce45d4d8",
   "metadata": {},
   "outputs": [
    {
     "data": {
      "text/plain": [
       "RandomForestClassifier(n_estimators=120)"
      ]
     },
     "execution_count": 37,
     "metadata": {},
     "output_type": "execute_result"
    }
   ],
   "source": [
    "from sklearn.ensemble import RandomForestClassifier\n",
    "tree = RandomForestClassifier(n_estimators=120)\n",
    "tree.fit(X_train,y_train)"
   ]
  },
  {
   "cell_type": "code",
   "execution_count": 38,
   "id": "1c14b0e5",
   "metadata": {},
   "outputs": [
    {
     "name": "stdout",
     "output_type": "stream",
     "text": [
      "              precision    recall  f1-score   support\n",
      "\n",
      "           1       0.75      0.80      0.77        15\n",
      "           2       0.80      0.84      0.82        19\n",
      "           3       0.33      0.50      0.40         2\n",
      "           5       0.67      1.00      0.80         2\n",
      "           6       1.00      0.20      0.33         5\n",
      "           7       0.82      0.82      0.82        11\n",
      "\n",
      "    accuracy                           0.76        54\n",
      "   macro avg       0.73      0.69      0.66        54\n",
      "weighted avg       0.79      0.76      0.75        54\n",
      "\n",
      "[[12  2  1  0  0  0]\n",
      " [ 1 16  1  0  0  1]\n",
      " [ 1  0  1  0  0  0]\n",
      " [ 0  0  0  2  0  0]\n",
      " [ 1  1  0  1  1  1]\n",
      " [ 1  1  0  0  0  9]]\n"
     ]
    }
   ],
   "source": [
    "from sklearn.metrics import classification_report,confusion_matrix, roc_curve, auc\n",
    "predictions = tree.predict(X_test)\n",
    "print(classification_report(y_test,predictions))\n",
    "print(confusion_matrix(y_test,predictions))"
   ]
  },
  {
   "cell_type": "markdown",
   "id": "9cec375e",
   "metadata": {},
   "source": [
    "#### XG-Boost Classifier"
   ]
  },
  {
   "cell_type": "code",
   "execution_count": 40,
   "id": "fcf57e59",
   "metadata": {},
   "outputs": [
    {
     "name": "stderr",
     "output_type": "stream",
     "text": [
      "C:\\Users\\user\\Anaconda3\\lib\\site-packages\\xgboost\\sklearn.py:1146: UserWarning: The use of label encoder in XGBClassifier is deprecated and will be removed in a future release. To remove this warning, do the following: 1) Pass option use_label_encoder=False when constructing XGBClassifier object; and 2) Encode your labels (y) as integers starting with 0, i.e. 0, 1, 2, ..., [num_class - 1].\n",
      "  warnings.warn(label_encoder_deprecation_msg, UserWarning)\n"
     ]
    },
    {
     "name": "stdout",
     "output_type": "stream",
     "text": [
      "[10:00:01] WARNING: C:/Users/Administrator/workspace/xgboost-win64_release_1.4.0/src/learner.cc:1095: Starting in XGBoost 1.3.0, the default evaluation metric used with the objective 'multi:softprob' was changed from 'merror' to 'mlogloss'. Explicitly set eval_metric if you'd like to restore the old behavior.\n"
     ]
    },
    {
     "data": {
      "text/plain": [
       "XGBClassifier(base_score=0.01, booster='gbtree', colsample_bylevel=1,\n",
       "              colsample_bynode=1, colsample_bytree=1, gamma=0, gpu_id=-1,\n",
       "              importance_type='gain', interaction_constraints='',\n",
       "              learning_rate=0.300000012, max_delta_step=0, max_depth=6,\n",
       "              min_child_weight=1, missing=nan, monotone_constraints='()',\n",
       "              n_estimators=2000, n_jobs=2, num_parallel_tree=1,\n",
       "              objective='multi:softprob', random_state=0, reg_alpha=0,\n",
       "              reg_lambda=1, scale_pos_weight=None, subsample=1,\n",
       "              tree_method='exact', validate_parameters=1, verbosity=None)"
      ]
     },
     "execution_count": 40,
     "metadata": {},
     "output_type": "execute_result"
    }
   ],
   "source": [
    "from xgboost import XGBClassifier\n",
    "xgb=XGBClassifier(base_score=0.01,n_estimators=2000,n_jobs=2)\n",
    "xgb.fit(X_train,y_train)"
   ]
  },
  {
   "cell_type": "code",
   "execution_count": 41,
   "id": "a43d16ff",
   "metadata": {},
   "outputs": [],
   "source": [
    "y_predi=xgb.predict(X_test)"
   ]
  },
  {
   "cell_type": "code",
   "execution_count": 50,
   "id": "3ba4ceb7",
   "metadata": {},
   "outputs": [
    {
     "name": "stdout",
     "output_type": "stream",
     "text": [
      "              precision    recall  f1-score   support\n",
      "\n",
      "           1       0.93      0.87      0.90        15\n",
      "           2       0.82      0.95      0.88        19\n",
      "           3       0.50      1.00      0.67         2\n",
      "           5       0.67      1.00      0.80         2\n",
      "           6       1.00      0.40      0.57         5\n",
      "           7       1.00      0.82      0.90        11\n",
      "\n",
      "    accuracy                           0.85        54\n",
      "   macro avg       0.82      0.84      0.79        54\n",
      "weighted avg       0.89      0.85      0.85        54\n",
      "\n",
      "[[13  1  1  0  0  0]\n",
      " [ 0 18  1  0  0  0]\n",
      " [ 0  0  2  0  0  0]\n",
      " [ 0  0  0  2  0  0]\n",
      " [ 0  2  0  1  2  0]\n",
      " [ 1  1  0  0  0  9]]\n"
     ]
    }
   ],
   "source": [
    "print(classification_report(y_test,y_predi))\n",
    "print(confusion_matrix(y_test,y_predi))"
   ]
  },
  {
   "cell_type": "markdown",
   "id": "c7cd97ee",
   "metadata": {},
   "source": [
    "### Lightgbm Classifier"
   ]
  },
  {
   "cell_type": "code",
   "execution_count": 53,
   "id": "ce088dde",
   "metadata": {},
   "outputs": [
    {
     "data": {
      "text/plain": [
       "LGBMClassifier(learning_rate=0.5, n_estimators=550)"
      ]
     },
     "execution_count": 53,
     "metadata": {},
     "output_type": "execute_result"
    }
   ],
   "source": [
    "import lightgbm as lgb\n",
    "clfi=lgb.LGBMClassifier(learning_rate=0.5, n_estimators=550)\n",
    "clfi.fit(X_train,y_train)"
   ]
  },
  {
   "cell_type": "code",
   "execution_count": 54,
   "id": "f1686c5e",
   "metadata": {},
   "outputs": [],
   "source": [
    "y_pred=clfi.predict(X_test)"
   ]
  },
  {
   "cell_type": "code",
   "execution_count": 55,
   "id": "0b1c5ecc",
   "metadata": {},
   "outputs": [
    {
     "name": "stdout",
     "output_type": "stream",
     "text": [
      "              precision    recall  f1-score   support\n",
      "\n",
      "           1       0.87      0.87      0.87        15\n",
      "           2       0.89      0.81      0.85        21\n",
      "           3       1.00      0.50      0.67         4\n",
      "           5       1.00      1.00      1.00         2\n",
      "           6       0.40      1.00      0.57         2\n",
      "           7       0.82      0.90      0.86        10\n",
      "\n",
      "    accuracy                           0.83        54\n",
      "   macro avg       0.83      0.85      0.80        54\n",
      "weighted avg       0.87      0.83      0.84        54\n",
      "\n",
      "[[13  1  0  0  0  1]\n",
      " [ 1 17  0  0  2  1]\n",
      " [ 1  1  2  0  0  0]\n",
      " [ 0  0  0  2  0  0]\n",
      " [ 0  0  0  0  2  0]\n",
      " [ 0  0  0  0  1  9]]\n"
     ]
    }
   ],
   "source": [
    "print(classification_report(y_pred,y_test))\n",
    "print(confusion_matrix(y_pred,y_test))"
   ]
  },
  {
   "cell_type": "markdown",
   "id": "f3de055a",
   "metadata": {},
   "source": [
    "### Evaluation\n",
    "#### ROC-AUC Curve for Two Type of glass for household"
   ]
  },
  {
   "cell_type": "code",
   "execution_count": 58,
   "id": "5c9052dd",
   "metadata": {},
   "outputs": [],
   "source": [
    "# For building windows_Floatprocessed glass type=1\n",
    "rf_fpr,rf_tpr,threshold=roc_curve(y_test,predictions,pos_label=1)\n",
    "auc_rfc=auc(rf_fpr,rf_tpr)\n",
    "xgb_fpr,xgb_tpr,threshold=roc_curve(y_test,y_predi,pos_label=1)\n",
    "auc_xgb=auc(xgb_fpr,xgb_tpr)\n",
    "lgb_fpr,lgb_tpr,threshold=roc_curve(y_test,y_pred,pos_label=1)\n",
    "auc_lgb=auc(lgb_fpr,lgb_tpr)"
   ]
  },
  {
   "cell_type": "code",
   "execution_count": 59,
   "id": "194302f8",
   "metadata": {},
   "outputs": [
    {
     "data": {
      "image/png": "[encoded data removed]",
      "text/plain": [
       "<Figure size 1000x800 with 1 Axes>"
      ]
     },
     "metadata": {},
     "output_type": "display_data"
    },
    {
     "data": {
      "text/plain": [
       "<Figure size 432x288 with 0 Axes>"
      ]
     },
     "metadata": {},
     "output_type": "display_data"
    }
   ],
   "source": [
    "# ROC-AUC Curve of all models.\n",
    "plt.figure(figsize=(10,8),dpi=100)\n",
    "plt.plot(rf_fpr,rf_tpr,linestyle=\"-\",label='tree (auc=%0.3f)' %auc_rfc)\n",
    "plt.plot(xgb_fpr,xgb_tpr,marker='.',label='xgb(auc=%0.3f)' %auc_xgb)\n",
    "plt.plot(lgb_fpr,lgb_tpr,marker='o',label='clfi (auc=%0.3f)' %auc_lgb)\n",
    "plt.xlabel('FPR--->')\n",
    "plt.ylabel('TPR--->')\n",
    "plt.title(\"ROC Curve of different classifer algorithms \")\n",
    "plt.legend()\n",
    "plt.show()\n",
    "plt.savefig('ROC Curve(different algorithms).png')"
   ]
  },
  {
   "cell_type": "code",
   "execution_count": 61,
   "id": "b7667d5e",
   "metadata": {},
   "outputs": [],
   "source": [
    "#building_windows_non_float_processed=2\n",
    "rf_fpr,rf_tpr,threshold=roc_curve(y_test,predictions,pos_label=2)\n",
    "auc_rfc=auc(rf_fpr,rf_tpr)\n",
    "xgb_fpr,xgb_tpr,threshold=roc_curve(y_test,y_predi,pos_label=2)\n",
    "auc_xgb=auc(xgb_fpr,xgb_tpr)\n",
    "lgb_fpr,lgb_tpr,threshold=roc_curve(y_test,y_pred,pos_label=2)\n",
    "auc_lgb=auc(lgb_fpr,lgb_tpr)         "
   ]
  },
  {
   "cell_type": "code",
   "execution_count": 62,
   "id": "59f9c155",
   "metadata": {},
   "outputs": [
    {
     "data": {
      "image/png": "[encoded data removed]",
      "text/plain": [
       "<Figure size 1000x800 with 1 Axes>"
      ]
     },
     "metadata": {},
     "output_type": "display_data"
    },
    {
     "data": {
      "text/plain": [
       "<Figure size 432x288 with 0 Axes>"
      ]
     },
     "metadata": {},
     "output_type": "display_data"
    }
   ],
   "source": [
    "# ROC-AUC Curve of all models.\n",
    "plt.figure(figsize=(10,8),dpi=100)\n",
    "plt.plot(rf_fpr,rf_tpr,linestyle=\"-\",label='tree (auc=%0.3f)' %auc_rfc)\n",
    "plt.plot(xgb_fpr,xgb_tpr,marker='.',label='xgb(auc=%0.3f)' %auc_xgb)\n",
    "plt.plot(lgb_fpr,lgb_tpr,marker='o',label='clfi (auc=%0.3f)' %auc_lgb)\n",
    "plt.xlabel('FPR--->')\n",
    "plt.ylabel('TPR--->')\n",
    "plt.title(\"ROC Curve of different classifer algorithms \")\n",
    "plt.legend()\n",
    "plt.show()\n",
    "plt.savefig('ROC Curve(different algorithms).png')"
   ]
  },
  {
   "cell_type": "markdown",
   "id": "ef8ae835",
   "metadata": {},
   "source": [
    "- AUC for glass type 1 that is usually used for household is very low!! we can conclude that ther glass type 1 is not preferable for household purpose.\n",
    "- AUC for glass type 2 is far better than glass type-1 but still AUC is low!! we can use type-2 glass for household, but in that case quality of glass might be low.\n",
    "- best prediction model is xgb as accuracy on test data was high for this model, it was 85%."
   ]
  },
  {
   "cell_type": "code",
   "execution_count": null,
   "id": "7212b619",
   "metadata": {},
   "outputs": [],
   "source": []
  }
 ],
 "metadata": {
  "kernelspec": {
   "display_name": "Python 3",
   "language": "python",
   "name": "python3"
  },
  "language_info": {
   "codemirror_mode": {
    "name": "ipython",
    "version": 3
   },
   "file_extension": ".py",
   "mimetype": "text/x-python",
   "name": "python",
   "nbconvert_exporter": "python",
   "pygments_lexer": "ipython3",
   "version": "3.8.8"
  }
 },
 "nbformat": 4,
 "nbformat_minor": 5
}
