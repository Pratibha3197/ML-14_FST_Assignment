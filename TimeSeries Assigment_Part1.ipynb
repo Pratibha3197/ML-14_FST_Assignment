{
 "cells": [
  {
   "cell_type": "markdown",
   "id": "0a270b39",
   "metadata": {},
   "source": [
    "**Name:** Pratibha Gupta \\\n",
    "**Batch:** Afternoon, ML-14 \\\n",
    "**Data:** Airline data\n",
    "\n",
    "1)DailyTotalFemaleBirths\n",
    "2)airline_passengers\n",
    "\n",
    "\n",
    "Implement analysis on the above mentioned data. \n",
    "   a) SMA \\\n",
    "   b) WMA \\\n",
    "   c) single exponential smoothing  \\\n",
    "   d) double exponential smoothing   \\\n",
    "   e) Triple exponential smoothing   \\\n",
    "   f) check if data is stationary or not. If data is not stationary then implement differencing technique to make data stationary.    \\\n",
    "Split the data into train and test and check the accuracy of predicted/forecasted data.  \\\n",
    "Submit in PDF and .ipynb format"
   ]
  },
  {
   "cell_type": "code",
   "execution_count": 1,
   "id": "36f44406",
   "metadata": {},
   "outputs": [],
   "source": [
    "## Import necessary libraries\n",
    "import numpy as np\n",
    "import pandas as pd\n",
    "import matplotlib.pyplot as plt\n",
    "import warnings\n",
    "warnings.filterwarnings('ignore')"
   ]
  },
  {
   "cell_type": "code",
   "execution_count": 2,
   "id": "cc3c3649",
   "metadata": {},
   "outputs": [
    {
     "data": {
      "text/html": [
       "<div>\n",
       "<style scoped>\n",
       "    .dataframe tbody tr th:only-of-type {\n",
       "        vertical-align: middle;\n",
       "    }\n",
       "\n",
       "    .dataframe tbody tr th {\n",
       "        vertical-align: top;\n",
       "    }\n",
       "\n",
       "    .dataframe thead th {\n",
       "        text-align: right;\n",
       "    }\n",
       "</style>\n",
       "<table border=\"1\" class=\"dataframe\">\n",
       "  <thead>\n",
       "    <tr style=\"text-align: right;\">\n",
       "      <th></th>\n",
       "      <th>Thousands of Passengers</th>\n",
       "      <th>Unnamed: 2</th>\n",
       "      <th>Unnamed: 3</th>\n",
       "      <th>Unnamed: 4</th>\n",
       "    </tr>\n",
       "    <tr>\n",
       "      <th>Month</th>\n",
       "      <th></th>\n",
       "      <th></th>\n",
       "      <th></th>\n",
       "      <th></th>\n",
       "    </tr>\n",
       "  </thead>\n",
       "  <tbody>\n",
       "    <tr>\n",
       "      <th>1949-01-01</th>\n",
       "      <td>112</td>\n",
       "      <td>NaN</td>\n",
       "      <td>NaN</td>\n",
       "      <td>NaN</td>\n",
       "    </tr>\n",
       "    <tr>\n",
       "      <th>1949-02-01</th>\n",
       "      <td>118</td>\n",
       "      <td>NaN</td>\n",
       "      <td>NaN</td>\n",
       "      <td>NaN</td>\n",
       "    </tr>\n",
       "    <tr>\n",
       "      <th>1949-03-01</th>\n",
       "      <td>132</td>\n",
       "      <td>NaN</td>\n",
       "      <td>NaN</td>\n",
       "      <td>NaN</td>\n",
       "    </tr>\n",
       "    <tr>\n",
       "      <th>1949-04-01</th>\n",
       "      <td>129</td>\n",
       "      <td>NaN</td>\n",
       "      <td>NaN</td>\n",
       "      <td>NaN</td>\n",
       "    </tr>\n",
       "    <tr>\n",
       "      <th>1949-05-01</th>\n",
       "      <td>121</td>\n",
       "      <td>NaN</td>\n",
       "      <td>NaN</td>\n",
       "      <td>NaN</td>\n",
       "    </tr>\n",
       "  </tbody>\n",
       "</table>\n",
       "</div>"
      ],
      "text/plain": [
       "            Thousands of Passengers Unnamed: 2 Unnamed: 3 Unnamed: 4\n",
       "Month                                                               \n",
       "1949-01-01                      112        NaN        NaN        NaN\n",
       "1949-02-01                      118        NaN        NaN        NaN\n",
       "1949-03-01                      132        NaN        NaN        NaN\n",
       "1949-04-01                      129        NaN        NaN        NaN\n",
       "1949-05-01                      121        NaN        NaN        NaN"
      ]
     },
     "execution_count": 2,
     "metadata": {},
     "output_type": "execute_result"
    }
   ],
   "source": [
    "# import airline data.\n",
    "airline_data=pd.read_csv('airline_passengers.csv',index_col='Month',parse_dates=True)\n",
    "airline_data.head(5)"
   ]
  },
  {
   "cell_type": "code",
   "execution_count": 3,
   "id": "da775075",
   "metadata": {},
   "outputs": [
    {
     "data": {
      "text/html": [
       "<div>\n",
       "<style scoped>\n",
       "    .dataframe tbody tr th:only-of-type {\n",
       "        vertical-align: middle;\n",
       "    }\n",
       "\n",
       "    .dataframe tbody tr th {\n",
       "        vertical-align: top;\n",
       "    }\n",
       "\n",
       "    .dataframe thead th {\n",
       "        text-align: right;\n",
       "    }\n",
       "</style>\n",
       "<table border=\"1\" class=\"dataframe\">\n",
       "  <thead>\n",
       "    <tr style=\"text-align: right;\">\n",
       "      <th></th>\n",
       "      <th>Thousands of Passengers</th>\n",
       "    </tr>\n",
       "    <tr>\n",
       "      <th>Month</th>\n",
       "      <th></th>\n",
       "    </tr>\n",
       "  </thead>\n",
       "  <tbody>\n",
       "    <tr>\n",
       "      <th>1949-01-01</th>\n",
       "      <td>112</td>\n",
       "    </tr>\n",
       "    <tr>\n",
       "      <th>1949-02-01</th>\n",
       "      <td>118</td>\n",
       "    </tr>\n",
       "  </tbody>\n",
       "</table>\n",
       "</div>"
      ],
      "text/plain": [
       "            Thousands of Passengers\n",
       "Month                              \n",
       "1949-01-01                      112\n",
       "1949-02-01                      118"
      ]
     },
     "execution_count": 3,
     "metadata": {},
     "output_type": "execute_result"
    }
   ],
   "source": [
    "col=['Unnamed: 2','Unnamed: 3','Unnamed: 4']\n",
    "air_data=airline_data.drop(columns=col,axis=1) ## Drop unnnecessary columns.\n",
    "air_data.head(2)"
   ]
  },
  {
   "cell_type": "code",
   "execution_count": 4,
   "id": "844ac23a",
   "metadata": {},
   "outputs": [
    {
     "data": {
      "text/plain": [
       "(144, 1)"
      ]
     },
     "execution_count": 4,
     "metadata": {},
     "output_type": "execute_result"
    }
   ],
   "source": [
    "air_data.shape    ## Dimension of the data"
   ]
  },
  {
   "cell_type": "markdown",
   "id": "65e01654",
   "metadata": {},
   "source": [
    "## Checking Stationarity"
   ]
  },
  {
   "cell_type": "code",
   "execution_count": 5,
   "id": "76c7d4d4",
   "metadata": {},
   "outputs": [
    {
     "data": {
      "image/png": "[encoded data removed]",
      "text/plain": [
       "<Figure size 432x288 with 1 Axes>"
      ]
     },
     "metadata": {
      "needs_background": "light"
     },
     "output_type": "display_data"
    }
   ],
   "source": [
    "airline_data.plot()\n",
    "plt.show()"
   ]
  },
  {
   "cell_type": "markdown",
   "id": "1c46b58b",
   "metadata": {},
   "source": [
    "- **Increasing trend is present. data is not stationary.**"
   ]
  },
  {
   "cell_type": "code",
   "execution_count": 8,
   "id": "5ab228b1",
   "metadata": {},
   "outputs": [
    {
     "name": "stdout",
     "output_type": "stream",
     "text": [
      "Test Statistic                   0.815369\n",
      "p-value                          0.991880\n",
      "#Lags Used                      13.000000\n",
      "Number of Observations Used    130.000000\n",
      "Critical Value (1%)             -3.481682\n",
      "Critical Value (5%)             -2.884042\n",
      "Critical Value (10%)            -2.578770\n",
      "dtype: float64\n"
     ]
    }
   ],
   "source": [
    "from statsmodels.tsa.stattools import adfuller, acf,pacf\n",
    "data_test = adfuller(air_data['Thousands of Passengers'], autolag='AIC')\n",
    "\n",
    "dfoutput = pd.Series(data_test[0:4], index=['Test Statistic','p-value','#Lags Used','Number of Observations Used'])\n",
    "for key,value in data_test[4].items():\n",
    "    dfoutput['Critical Value (%s)'%key] = value\n",
    "    \n",
    "print(dfoutput)"
   ]
  },
  {
   "cell_type": "markdown",
   "id": "8e470c09",
   "metadata": {},
   "source": [
    "- **p-value is high, that concludes data is not stationary.**\n",
    "\n",
    "\n",
    "### Decomposition"
   ]
  },
  {
   "cell_type": "code",
   "execution_count": 9,
   "id": "2b2a94af",
   "metadata": {},
   "outputs": [
    {
     "data": {
      "image/png": "[encoded data removed]",
      "text/plain": [
       "<Figure size 864x720 with 4 Axes>"
      ]
     },
     "metadata": {
      "needs_background": "light"
     },
     "output_type": "display_data"
    }
   ],
   "source": [
    "from statsmodels.tsa.seasonal import seasonal_decompose\n",
    "from statsmodels.tsa.arima_model import ARIMA\n",
    "from pylab import rcParams\n",
    "rcParams['figure.figsize']=12,10\n",
    "decomposition=seasonal_decompose(air_data['Thousands of Passengers'],model='additive')\n",
    "fig=decomposition.plot()\n",
    "plt.tight_layout()\n",
    "plt.show()"
   ]
  },
  {
   "cell_type": "markdown",
   "id": "77c5904c",
   "metadata": {},
   "source": [
    "- **Seasonality and Trend is present in the data at fixed interval of time**"
   ]
  },
  {
   "cell_type": "code",
   "execution_count": 10,
   "id": "1830b8ba",
   "metadata": {},
   "outputs": [
    {
     "data": {
      "image/png": "[encoded data removed]",
      "text/plain": [
       "<Figure size 864x720 with 4 Axes>"
      ]
     },
     "metadata": {
      "needs_background": "light"
     },
     "output_type": "display_data"
    }
   ],
   "source": [
    "decomposition=seasonal_decompose(air_data['Thousands of Passengers'],model='multiplicative')\n",
    "fig=decomposition.plot()\n",
    "plt.tight_layout()\n",
    "plt.show()"
   ]
  },
  {
   "cell_type": "markdown",
   "id": "50dd5865",
   "metadata": {},
   "source": [
    "### Simple Moving Average and Weighted Moving Average"
   ]
  },
  {
   "cell_type": "code",
   "execution_count": 11,
   "id": "83000647",
   "metadata": {},
   "outputs": [
    {
     "data": {
      "text/html": [
       "<div>\n",
       "<style scoped>\n",
       "    .dataframe tbody tr th:only-of-type {\n",
       "        vertical-align: middle;\n",
       "    }\n",
       "\n",
       "    .dataframe tbody tr th {\n",
       "        vertical-align: top;\n",
       "    }\n",
       "\n",
       "    .dataframe thead th {\n",
       "        text-align: right;\n",
       "    }\n",
       "</style>\n",
       "<table border=\"1\" class=\"dataframe\">\n",
       "  <thead>\n",
       "    <tr style=\"text-align: right;\">\n",
       "      <th></th>\n",
       "      <th>Thousands of Passengers</th>\n",
       "      <th>3_month-SMA</th>\n",
       "      <th>6_month-SMA</th>\n",
       "      <th>12_month-SMA</th>\n",
       "    </tr>\n",
       "    <tr>\n",
       "      <th>Month</th>\n",
       "      <th></th>\n",
       "      <th></th>\n",
       "      <th></th>\n",
       "      <th></th>\n",
       "    </tr>\n",
       "  </thead>\n",
       "  <tbody>\n",
       "    <tr>\n",
       "      <th>1949-01-01</th>\n",
       "      <td>112</td>\n",
       "      <td>NaN</td>\n",
       "      <td>NaN</td>\n",
       "      <td>NaN</td>\n",
       "    </tr>\n",
       "    <tr>\n",
       "      <th>1949-02-01</th>\n",
       "      <td>118</td>\n",
       "      <td>NaN</td>\n",
       "      <td>NaN</td>\n",
       "      <td>NaN</td>\n",
       "    </tr>\n",
       "    <tr>\n",
       "      <th>1949-03-01</th>\n",
       "      <td>132</td>\n",
       "      <td>120.666667</td>\n",
       "      <td>NaN</td>\n",
       "      <td>NaN</td>\n",
       "    </tr>\n",
       "    <tr>\n",
       "      <th>1949-04-01</th>\n",
       "      <td>129</td>\n",
       "      <td>126.333333</td>\n",
       "      <td>NaN</td>\n",
       "      <td>NaN</td>\n",
       "    </tr>\n",
       "  </tbody>\n",
       "</table>\n",
       "</div>"
      ],
      "text/plain": [
       "            Thousands of Passengers  3_month-SMA  6_month-SMA  12_month-SMA\n",
       "Month                                                                      \n",
       "1949-01-01                      112          NaN          NaN           NaN\n",
       "1949-02-01                      118          NaN          NaN           NaN\n",
       "1949-03-01                      132   120.666667          NaN           NaN\n",
       "1949-04-01                      129   126.333333          NaN           NaN"
      ]
     },
     "execution_count": 11,
     "metadata": {},
     "output_type": "execute_result"
    }
   ],
   "source": [
    "air_data['3_month-SMA'] = air_data['Thousands of Passengers'].rolling(window=3).mean()\n",
    "air_data['6_month-SMA'] = air_data['Thousands of Passengers'].rolling(window=6).mean()\n",
    "air_data['12_month-SMA'] = air_data['Thousands of Passengers'].rolling(window=12).mean()\n",
    "air_data.head(4)"
   ]
  },
  {
   "cell_type": "code",
   "execution_count": 12,
   "id": "a051aa48",
   "metadata": {},
   "outputs": [
    {
     "data": {
      "text/html": [
       "<div>\n",
       "<style scoped>\n",
       "    .dataframe tbody tr th:only-of-type {\n",
       "        vertical-align: middle;\n",
       "    }\n",
       "\n",
       "    .dataframe tbody tr th {\n",
       "        vertical-align: top;\n",
       "    }\n",
       "\n",
       "    .dataframe thead th {\n",
       "        text-align: right;\n",
       "    }\n",
       "</style>\n",
       "<table border=\"1\" class=\"dataframe\">\n",
       "  <thead>\n",
       "    <tr style=\"text-align: right;\">\n",
       "      <th></th>\n",
       "      <th>Thousands of Passengers</th>\n",
       "      <th>3_month-SMA</th>\n",
       "      <th>6_month-SMA</th>\n",
       "      <th>12_month-SMA</th>\n",
       "      <th>3_month-wma</th>\n",
       "      <th>6_month-wma</th>\n",
       "      <th>12_month-wma</th>\n",
       "    </tr>\n",
       "    <tr>\n",
       "      <th>Month</th>\n",
       "      <th></th>\n",
       "      <th></th>\n",
       "      <th></th>\n",
       "      <th></th>\n",
       "      <th></th>\n",
       "      <th></th>\n",
       "      <th></th>\n",
       "    </tr>\n",
       "  </thead>\n",
       "  <tbody>\n",
       "    <tr>\n",
       "      <th>1949-01-01</th>\n",
       "      <td>112</td>\n",
       "      <td>NaN</td>\n",
       "      <td>NaN</td>\n",
       "      <td>NaN</td>\n",
       "      <td>112.00</td>\n",
       "      <td>112.000000</td>\n",
       "      <td>112.000000</td>\n",
       "    </tr>\n",
       "    <tr>\n",
       "      <th>1949-02-01</th>\n",
       "      <td>118</td>\n",
       "      <td>NaN</td>\n",
       "      <td>NaN</td>\n",
       "      <td>NaN</td>\n",
       "      <td>115.00</td>\n",
       "      <td>113.714286</td>\n",
       "      <td>112.923077</td>\n",
       "    </tr>\n",
       "    <tr>\n",
       "      <th>1949-03-01</th>\n",
       "      <td>132</td>\n",
       "      <td>120.666667</td>\n",
       "      <td>NaN</td>\n",
       "      <td>NaN</td>\n",
       "      <td>123.50</td>\n",
       "      <td>118.938776</td>\n",
       "      <td>115.857988</td>\n",
       "    </tr>\n",
       "    <tr>\n",
       "      <th>1949-04-01</th>\n",
       "      <td>129</td>\n",
       "      <td>126.333333</td>\n",
       "      <td>NaN</td>\n",
       "      <td>NaN</td>\n",
       "      <td>126.25</td>\n",
       "      <td>121.813411</td>\n",
       "      <td>117.879836</td>\n",
       "    </tr>\n",
       "  </tbody>\n",
       "</table>\n",
       "</div>"
      ],
      "text/plain": [
       "            Thousands of Passengers  3_month-SMA  6_month-SMA  12_month-SMA  \\\n",
       "Month                                                                         \n",
       "1949-01-01                      112          NaN          NaN           NaN   \n",
       "1949-02-01                      118          NaN          NaN           NaN   \n",
       "1949-03-01                      132   120.666667          NaN           NaN   \n",
       "1949-04-01                      129   126.333333          NaN           NaN   \n",
       "\n",
       "            3_month-wma  6_month-wma  12_month-wma  \n",
       "Month                                               \n",
       "1949-01-01       112.00   112.000000    112.000000  \n",
       "1949-02-01       115.00   113.714286    112.923077  \n",
       "1949-03-01       123.50   118.938776    115.857988  \n",
       "1949-04-01       126.25   121.813411    117.879836  "
      ]
     },
     "execution_count": 12,
     "metadata": {},
     "output_type": "execute_result"
    }
   ],
   "source": [
    "air_data['3_month-wma'] = air_data['Thousands of Passengers'].ewm(span=3,adjust=False).mean()\n",
    "air_data['6_month-wma'] = air_data['Thousands of Passengers'].ewm(span=6,adjust=False).mean()\n",
    "air_data['12_month-wma'] = air_data['Thousands of Passengers'].ewm(span=12,adjust=False).mean()\n",
    "air_data.head(4)"
   ]
  },
  {
   "cell_type": "markdown",
   "id": "33e56f9f",
   "metadata": {},
   "source": [
    "- **Simple Exponential Smoothing/ Double Exponential Smoothing/ Triple Expoenential Smoothing**\n",
    "\n",
    "    - Triple exponential Smoothing will be useful because 'Trend' and 'seasonality both are present in the data, but just to understand and to learn the other exponential method, I'm applying Simple and double exponential method also."
   ]
  },
  {
   "cell_type": "code",
   "execution_count": 13,
   "id": "3d693896",
   "metadata": {},
   "outputs": [
    {
     "name": "stderr",
     "output_type": "stream",
     "text": [
      "C:\\Users\\user\\Anaconda3\\lib\\site-packages\\statsmodels\\tsa\\base\\tsa_model.py:524: ValueWarning: No frequency information was provided, so inferred frequency MS will be used.\n",
      "  warnings.warn('No frequency information was'\n"
     ]
    },
    {
     "data": {
      "text/html": [
       "<div>\n",
       "<style scoped>\n",
       "    .dataframe tbody tr th:only-of-type {\n",
       "        vertical-align: middle;\n",
       "    }\n",
       "\n",
       "    .dataframe tbody tr th {\n",
       "        vertical-align: top;\n",
       "    }\n",
       "\n",
       "    .dataframe thead th {\n",
       "        text-align: right;\n",
       "    }\n",
       "</style>\n",
       "<table border=\"1\" class=\"dataframe\">\n",
       "  <thead>\n",
       "    <tr style=\"text-align: right;\">\n",
       "      <th></th>\n",
       "      <th>Thousands of Passengers</th>\n",
       "      <th>3_month-SMA</th>\n",
       "      <th>6_month-SMA</th>\n",
       "      <th>12_month-SMA</th>\n",
       "      <th>3_month-wma</th>\n",
       "      <th>6_month-wma</th>\n",
       "      <th>12_month-wma</th>\n",
       "      <th>SES</th>\n",
       "    </tr>\n",
       "    <tr>\n",
       "      <th>Month</th>\n",
       "      <th></th>\n",
       "      <th></th>\n",
       "      <th></th>\n",
       "      <th></th>\n",
       "      <th></th>\n",
       "      <th></th>\n",
       "      <th></th>\n",
       "      <th></th>\n",
       "    </tr>\n",
       "  </thead>\n",
       "  <tbody>\n",
       "    <tr>\n",
       "      <th>1949-01-01</th>\n",
       "      <td>112</td>\n",
       "      <td>NaN</td>\n",
       "      <td>NaN</td>\n",
       "      <td>NaN</td>\n",
       "      <td>112.000</td>\n",
       "      <td>112.000000</td>\n",
       "      <td>112.000000</td>\n",
       "      <td>112.000000</td>\n",
       "    </tr>\n",
       "    <tr>\n",
       "      <th>1949-02-01</th>\n",
       "      <td>118</td>\n",
       "      <td>NaN</td>\n",
       "      <td>NaN</td>\n",
       "      <td>NaN</td>\n",
       "      <td>115.000</td>\n",
       "      <td>113.714286</td>\n",
       "      <td>112.923077</td>\n",
       "      <td>112.923077</td>\n",
       "    </tr>\n",
       "    <tr>\n",
       "      <th>1949-03-01</th>\n",
       "      <td>132</td>\n",
       "      <td>120.666667</td>\n",
       "      <td>NaN</td>\n",
       "      <td>NaN</td>\n",
       "      <td>123.500</td>\n",
       "      <td>118.938776</td>\n",
       "      <td>115.857988</td>\n",
       "      <td>115.857988</td>\n",
       "    </tr>\n",
       "    <tr>\n",
       "      <th>1949-04-01</th>\n",
       "      <td>129</td>\n",
       "      <td>126.333333</td>\n",
       "      <td>NaN</td>\n",
       "      <td>NaN</td>\n",
       "      <td>126.250</td>\n",
       "      <td>121.813411</td>\n",
       "      <td>117.879836</td>\n",
       "      <td>117.879836</td>\n",
       "    </tr>\n",
       "    <tr>\n",
       "      <th>1949-05-01</th>\n",
       "      <td>121</td>\n",
       "      <td>127.333333</td>\n",
       "      <td>NaN</td>\n",
       "      <td>NaN</td>\n",
       "      <td>123.625</td>\n",
       "      <td>121.581008</td>\n",
       "      <td>118.359861</td>\n",
       "      <td>118.359861</td>\n",
       "    </tr>\n",
       "  </tbody>\n",
       "</table>\n",
       "</div>"
      ],
      "text/plain": [
       "            Thousands of Passengers  3_month-SMA  6_month-SMA  12_month-SMA  \\\n",
       "Month                                                                         \n",
       "1949-01-01                      112          NaN          NaN           NaN   \n",
       "1949-02-01                      118          NaN          NaN           NaN   \n",
       "1949-03-01                      132   120.666667          NaN           NaN   \n",
       "1949-04-01                      129   126.333333          NaN           NaN   \n",
       "1949-05-01                      121   127.333333          NaN           NaN   \n",
       "\n",
       "            3_month-wma  6_month-wma  12_month-wma         SES  \n",
       "Month                                                           \n",
       "1949-01-01      112.000   112.000000    112.000000  112.000000  \n",
       "1949-02-01      115.000   113.714286    112.923077  112.923077  \n",
       "1949-03-01      123.500   118.938776    115.857988  115.857988  \n",
       "1949-04-01      126.250   121.813411    117.879836  117.879836  \n",
       "1949-05-01      123.625   121.581008    118.359861  118.359861  "
      ]
     },
     "execution_count": 13,
     "metadata": {},
     "output_type": "execute_result"
    }
   ],
   "source": [
    "from statsmodels.tsa.holtwinters import SimpleExpSmoothing\n",
    "\n",
    "span = 12\n",
    "alpha = 2/(span+1)\n",
    "\n",
    "air_data['SES']=SimpleExpSmoothing(air_data['Thousands of Passengers']).fit(smoothing_level=alpha,optimized=False).fittedvalues.shift(-1)\n",
    "air_data.head()"
   ]
  },
  {
   "cell_type": "code",
   "execution_count": 14,
   "id": "be654aac",
   "metadata": {},
   "outputs": [
    {
     "name": "stderr",
     "output_type": "stream",
     "text": [
      "C:\\Users\\user\\Anaconda3\\lib\\site-packages\\statsmodels\\tsa\\base\\tsa_model.py:524: ValueWarning: No frequency information was provided, so inferred frequency MS will be used.\n",
      "  warnings.warn('No frequency information was'\n"
     ]
    },
    {
     "data": {
      "text/html": [
       "<div>\n",
       "<style scoped>\n",
       "    .dataframe tbody tr th:only-of-type {\n",
       "        vertical-align: middle;\n",
       "    }\n",
       "\n",
       "    .dataframe tbody tr th {\n",
       "        vertical-align: top;\n",
       "    }\n",
       "\n",
       "    .dataframe thead th {\n",
       "        text-align: right;\n",
       "    }\n",
       "</style>\n",
       "<table border=\"1\" class=\"dataframe\">\n",
       "  <thead>\n",
       "    <tr style=\"text-align: right;\">\n",
       "      <th></th>\n",
       "      <th>Thousands of Passengers</th>\n",
       "      <th>3_month-SMA</th>\n",
       "      <th>6_month-SMA</th>\n",
       "      <th>12_month-SMA</th>\n",
       "      <th>3_month-wma</th>\n",
       "      <th>6_month-wma</th>\n",
       "      <th>12_month-wma</th>\n",
       "      <th>SES</th>\n",
       "      <th>DES</th>\n",
       "    </tr>\n",
       "    <tr>\n",
       "      <th>Month</th>\n",
       "      <th></th>\n",
       "      <th></th>\n",
       "      <th></th>\n",
       "      <th></th>\n",
       "      <th></th>\n",
       "      <th></th>\n",
       "      <th></th>\n",
       "      <th></th>\n",
       "      <th></th>\n",
       "    </tr>\n",
       "  </thead>\n",
       "  <tbody>\n",
       "    <tr>\n",
       "      <th>1949-01-01</th>\n",
       "      <td>112</td>\n",
       "      <td>NaN</td>\n",
       "      <td>NaN</td>\n",
       "      <td>NaN</td>\n",
       "      <td>112.000</td>\n",
       "      <td>112.000000</td>\n",
       "      <td>112.000000</td>\n",
       "      <td>112.000000</td>\n",
       "      <td>113.474828</td>\n",
       "    </tr>\n",
       "    <tr>\n",
       "      <th>1949-02-01</th>\n",
       "      <td>118</td>\n",
       "      <td>NaN</td>\n",
       "      <td>NaN</td>\n",
       "      <td>NaN</td>\n",
       "      <td>115.000</td>\n",
       "      <td>113.714286</td>\n",
       "      <td>112.923077</td>\n",
       "      <td>112.923077</td>\n",
       "      <td>119.464366</td>\n",
       "    </tr>\n",
       "    <tr>\n",
       "      <th>1949-03-01</th>\n",
       "      <td>132</td>\n",
       "      <td>120.666667</td>\n",
       "      <td>NaN</td>\n",
       "      <td>NaN</td>\n",
       "      <td>123.500</td>\n",
       "      <td>118.938776</td>\n",
       "      <td>115.857988</td>\n",
       "      <td>115.857988</td>\n",
       "      <td>133.477561</td>\n",
       "    </tr>\n",
       "    <tr>\n",
       "      <th>1949-04-01</th>\n",
       "      <td>129</td>\n",
       "      <td>126.333333</td>\n",
       "      <td>NaN</td>\n",
       "      <td>NaN</td>\n",
       "      <td>126.250</td>\n",
       "      <td>121.813411</td>\n",
       "      <td>117.879836</td>\n",
       "      <td>117.879836</td>\n",
       "      <td>130.543312</td>\n",
       "    </tr>\n",
       "    <tr>\n",
       "      <th>1949-05-01</th>\n",
       "      <td>121</td>\n",
       "      <td>127.333333</td>\n",
       "      <td>NaN</td>\n",
       "      <td>NaN</td>\n",
       "      <td>123.625</td>\n",
       "      <td>121.581008</td>\n",
       "      <td>118.359861</td>\n",
       "      <td>118.359861</td>\n",
       "      <td>122.528126</td>\n",
       "    </tr>\n",
       "  </tbody>\n",
       "</table>\n",
       "</div>"
      ],
      "text/plain": [
       "            Thousands of Passengers  3_month-SMA  6_month-SMA  12_month-SMA  \\\n",
       "Month                                                                         \n",
       "1949-01-01                      112          NaN          NaN           NaN   \n",
       "1949-02-01                      118          NaN          NaN           NaN   \n",
       "1949-03-01                      132   120.666667          NaN           NaN   \n",
       "1949-04-01                      129   126.333333          NaN           NaN   \n",
       "1949-05-01                      121   127.333333          NaN           NaN   \n",
       "\n",
       "            3_month-wma  6_month-wma  12_month-wma         SES         DES  \n",
       "Month                                                                       \n",
       "1949-01-01      112.000   112.000000    112.000000  112.000000  113.474828  \n",
       "1949-02-01      115.000   113.714286    112.923077  112.923077  119.464366  \n",
       "1949-03-01      123.500   118.938776    115.857988  115.857988  133.477561  \n",
       "1949-04-01      126.250   121.813411    117.879836  117.879836  130.543312  \n",
       "1949-05-01      123.625   121.581008    118.359861  118.359861  122.528126  "
      ]
     },
     "execution_count": 14,
     "metadata": {},
     "output_type": "execute_result"
    }
   ],
   "source": [
    "from statsmodels.tsa.holtwinters import ExponentialSmoothing\n",
    "\n",
    "air_data['DES'] = ExponentialSmoothing(air_data['Thousands of Passengers'], trend='add').fit().fittedvalues.shift(-1)\n",
    "air_data.head()"
   ]
  },
  {
   "cell_type": "code",
   "execution_count": 15,
   "id": "fe07227f",
   "metadata": {},
   "outputs": [
    {
     "name": "stderr",
     "output_type": "stream",
     "text": [
      "C:\\Users\\user\\Anaconda3\\lib\\site-packages\\statsmodels\\tsa\\base\\tsa_model.py:524: ValueWarning: No frequency information was provided, so inferred frequency MS will be used.\n",
      "  warnings.warn('No frequency information was'\n"
     ]
    },
    {
     "data": {
      "text/html": [
       "<div>\n",
       "<style scoped>\n",
       "    .dataframe tbody tr th:only-of-type {\n",
       "        vertical-align: middle;\n",
       "    }\n",
       "\n",
       "    .dataframe tbody tr th {\n",
       "        vertical-align: top;\n",
       "    }\n",
       "\n",
       "    .dataframe thead th {\n",
       "        text-align: right;\n",
       "    }\n",
       "</style>\n",
       "<table border=\"1\" class=\"dataframe\">\n",
       "  <thead>\n",
       "    <tr style=\"text-align: right;\">\n",
       "      <th></th>\n",
       "      <th>Thousands of Passengers</th>\n",
       "      <th>3_month-SMA</th>\n",
       "      <th>6_month-SMA</th>\n",
       "      <th>12_month-SMA</th>\n",
       "      <th>3_month-wma</th>\n",
       "      <th>6_month-wma</th>\n",
       "      <th>12_month-wma</th>\n",
       "      <th>SES</th>\n",
       "      <th>DES</th>\n",
       "      <th>DESmul12</th>\n",
       "    </tr>\n",
       "    <tr>\n",
       "      <th>Month</th>\n",
       "      <th></th>\n",
       "      <th></th>\n",
       "      <th></th>\n",
       "      <th></th>\n",
       "      <th></th>\n",
       "      <th></th>\n",
       "      <th></th>\n",
       "      <th></th>\n",
       "      <th></th>\n",
       "      <th></th>\n",
       "    </tr>\n",
       "  </thead>\n",
       "  <tbody>\n",
       "    <tr>\n",
       "      <th>1949-01-01</th>\n",
       "      <td>112</td>\n",
       "      <td>NaN</td>\n",
       "      <td>NaN</td>\n",
       "      <td>NaN</td>\n",
       "      <td>112.000</td>\n",
       "      <td>112.000000</td>\n",
       "      <td>112.000000</td>\n",
       "      <td>112.000000</td>\n",
       "      <td>113.474828</td>\n",
       "      <td>114.978251</td>\n",
       "    </tr>\n",
       "    <tr>\n",
       "      <th>1949-02-01</th>\n",
       "      <td>118</td>\n",
       "      <td>NaN</td>\n",
       "      <td>NaN</td>\n",
       "      <td>NaN</td>\n",
       "      <td>115.000</td>\n",
       "      <td>113.714286</td>\n",
       "      <td>112.923077</td>\n",
       "      <td>112.923077</td>\n",
       "      <td>119.464366</td>\n",
       "      <td>121.191659</td>\n",
       "    </tr>\n",
       "    <tr>\n",
       "      <th>1949-03-01</th>\n",
       "      <td>132</td>\n",
       "      <td>120.666667</td>\n",
       "      <td>NaN</td>\n",
       "      <td>NaN</td>\n",
       "      <td>123.500</td>\n",
       "      <td>118.938776</td>\n",
       "      <td>115.857988</td>\n",
       "      <td>115.857988</td>\n",
       "      <td>133.477561</td>\n",
       "      <td>135.802180</td>\n",
       "    </tr>\n",
       "    <tr>\n",
       "      <th>1949-04-01</th>\n",
       "      <td>129</td>\n",
       "      <td>126.333333</td>\n",
       "      <td>NaN</td>\n",
       "      <td>NaN</td>\n",
       "      <td>126.250</td>\n",
       "      <td>121.813411</td>\n",
       "      <td>117.879836</td>\n",
       "      <td>117.879836</td>\n",
       "      <td>130.543312</td>\n",
       "      <td>132.657709</td>\n",
       "    </tr>\n",
       "    <tr>\n",
       "      <th>1949-05-01</th>\n",
       "      <td>121</td>\n",
       "      <td>127.333333</td>\n",
       "      <td>NaN</td>\n",
       "      <td>NaN</td>\n",
       "      <td>123.625</td>\n",
       "      <td>121.581008</td>\n",
       "      <td>118.359861</td>\n",
       "      <td>118.359861</td>\n",
       "      <td>122.528126</td>\n",
       "      <td>124.213566</td>\n",
       "    </tr>\n",
       "  </tbody>\n",
       "</table>\n",
       "</div>"
      ],
      "text/plain": [
       "            Thousands of Passengers  3_month-SMA  6_month-SMA  12_month-SMA  \\\n",
       "Month                                                                         \n",
       "1949-01-01                      112          NaN          NaN           NaN   \n",
       "1949-02-01                      118          NaN          NaN           NaN   \n",
       "1949-03-01                      132   120.666667          NaN           NaN   \n",
       "1949-04-01                      129   126.333333          NaN           NaN   \n",
       "1949-05-01                      121   127.333333          NaN           NaN   \n",
       "\n",
       "            3_month-wma  6_month-wma  12_month-wma         SES         DES  \\\n",
       "Month                                                                        \n",
       "1949-01-01      112.000   112.000000    112.000000  112.000000  113.474828   \n",
       "1949-02-01      115.000   113.714286    112.923077  112.923077  119.464366   \n",
       "1949-03-01      123.500   118.938776    115.857988  115.857988  133.477561   \n",
       "1949-04-01      126.250   121.813411    117.879836  117.879836  130.543312   \n",
       "1949-05-01      123.625   121.581008    118.359861  118.359861  122.528126   \n",
       "\n",
       "              DESmul12  \n",
       "Month                   \n",
       "1949-01-01  114.978251  \n",
       "1949-02-01  121.191659  \n",
       "1949-03-01  135.802180  \n",
       "1949-04-01  132.657709  \n",
       "1949-05-01  124.213566  "
      ]
     },
     "execution_count": 15,
     "metadata": {},
     "output_type": "execute_result"
    }
   ],
   "source": [
    "air_data['DESmul12'] = ExponentialSmoothing(air_data['Thousands of Passengers'], trend='mul').fit().fittedvalues.shift(-1)\n",
    "air_data.head()"
   ]
  },
  {
   "cell_type": "code",
   "execution_count": 16,
   "id": "4386c94b",
   "metadata": {},
   "outputs": [
    {
     "name": "stderr",
     "output_type": "stream",
     "text": [
      "C:\\Users\\user\\Anaconda3\\lib\\site-packages\\statsmodels\\tsa\\base\\tsa_model.py:524: ValueWarning: No frequency information was provided, so inferred frequency MS will be used.\n",
      "  warnings.warn('No frequency information was'\n"
     ]
    },
    {
     "data": {
      "text/html": [
       "<div>\n",
       "<style scoped>\n",
       "    .dataframe tbody tr th:only-of-type {\n",
       "        vertical-align: middle;\n",
       "    }\n",
       "\n",
       "    .dataframe tbody tr th {\n",
       "        vertical-align: top;\n",
       "    }\n",
       "\n",
       "    .dataframe thead th {\n",
       "        text-align: right;\n",
       "    }\n",
       "</style>\n",
       "<table border=\"1\" class=\"dataframe\">\n",
       "  <thead>\n",
       "    <tr style=\"text-align: right;\">\n",
       "      <th></th>\n",
       "      <th>Thousands of Passengers</th>\n",
       "      <th>3_month-SMA</th>\n",
       "      <th>6_month-SMA</th>\n",
       "      <th>12_month-SMA</th>\n",
       "      <th>3_month-wma</th>\n",
       "      <th>6_month-wma</th>\n",
       "      <th>12_month-wma</th>\n",
       "      <th>SES</th>\n",
       "      <th>DES</th>\n",
       "      <th>DESmul12</th>\n",
       "      <th>TES12</th>\n",
       "    </tr>\n",
       "    <tr>\n",
       "      <th>Month</th>\n",
       "      <th></th>\n",
       "      <th></th>\n",
       "      <th></th>\n",
       "      <th></th>\n",
       "      <th></th>\n",
       "      <th></th>\n",
       "      <th></th>\n",
       "      <th></th>\n",
       "      <th></th>\n",
       "      <th></th>\n",
       "      <th></th>\n",
       "    </tr>\n",
       "  </thead>\n",
       "  <tbody>\n",
       "    <tr>\n",
       "      <th>1949-01-01</th>\n",
       "      <td>112</td>\n",
       "      <td>NaN</td>\n",
       "      <td>NaN</td>\n",
       "      <td>NaN</td>\n",
       "      <td>112.000</td>\n",
       "      <td>112.000000</td>\n",
       "      <td>112.000000</td>\n",
       "      <td>112.000000</td>\n",
       "      <td>113.474828</td>\n",
       "      <td>114.978251</td>\n",
       "      <td>112.001172</td>\n",
       "    </tr>\n",
       "    <tr>\n",
       "      <th>1949-02-01</th>\n",
       "      <td>118</td>\n",
       "      <td>NaN</td>\n",
       "      <td>NaN</td>\n",
       "      <td>NaN</td>\n",
       "      <td>115.000</td>\n",
       "      <td>113.714286</td>\n",
       "      <td>112.923077</td>\n",
       "      <td>112.923077</td>\n",
       "      <td>119.464366</td>\n",
       "      <td>121.191659</td>\n",
       "      <td>120.168193</td>\n",
       "    </tr>\n",
       "    <tr>\n",
       "      <th>1949-03-01</th>\n",
       "      <td>132</td>\n",
       "      <td>120.666667</td>\n",
       "      <td>NaN</td>\n",
       "      <td>NaN</td>\n",
       "      <td>123.500</td>\n",
       "      <td>118.938776</td>\n",
       "      <td>115.857988</td>\n",
       "      <td>115.857988</td>\n",
       "      <td>133.477561</td>\n",
       "      <td>135.802180</td>\n",
       "      <td>134.698694</td>\n",
       "    </tr>\n",
       "    <tr>\n",
       "      <th>1949-04-01</th>\n",
       "      <td>129</td>\n",
       "      <td>126.333333</td>\n",
       "      <td>NaN</td>\n",
       "      <td>NaN</td>\n",
       "      <td>126.250</td>\n",
       "      <td>121.813411</td>\n",
       "      <td>117.879836</td>\n",
       "      <td>117.879836</td>\n",
       "      <td>130.543312</td>\n",
       "      <td>132.657709</td>\n",
       "      <td>131.376310</td>\n",
       "    </tr>\n",
       "    <tr>\n",
       "      <th>1949-05-01</th>\n",
       "      <td>121</td>\n",
       "      <td>127.333333</td>\n",
       "      <td>NaN</td>\n",
       "      <td>NaN</td>\n",
       "      <td>123.625</td>\n",
       "      <td>121.581008</td>\n",
       "      <td>118.359861</td>\n",
       "      <td>118.359861</td>\n",
       "      <td>122.528126</td>\n",
       "      <td>124.213566</td>\n",
       "      <td>124.628035</td>\n",
       "    </tr>\n",
       "  </tbody>\n",
       "</table>\n",
       "</div>"
      ],
      "text/plain": [
       "            Thousands of Passengers  3_month-SMA  6_month-SMA  12_month-SMA  \\\n",
       "Month                                                                         \n",
       "1949-01-01                      112          NaN          NaN           NaN   \n",
       "1949-02-01                      118          NaN          NaN           NaN   \n",
       "1949-03-01                      132   120.666667          NaN           NaN   \n",
       "1949-04-01                      129   126.333333          NaN           NaN   \n",
       "1949-05-01                      121   127.333333          NaN           NaN   \n",
       "\n",
       "            3_month-wma  6_month-wma  12_month-wma         SES         DES  \\\n",
       "Month                                                                        \n",
       "1949-01-01      112.000   112.000000    112.000000  112.000000  113.474828   \n",
       "1949-02-01      115.000   113.714286    112.923077  112.923077  119.464366   \n",
       "1949-03-01      123.500   118.938776    115.857988  115.857988  133.477561   \n",
       "1949-04-01      126.250   121.813411    117.879836  117.879836  130.543312   \n",
       "1949-05-01      123.625   121.581008    118.359861  118.359861  122.528126   \n",
       "\n",
       "              DESmul12       TES12  \n",
       "Month                               \n",
       "1949-01-01  114.978251  112.001172  \n",
       "1949-02-01  121.191659  120.168193  \n",
       "1949-03-01  135.802180  134.698694  \n",
       "1949-04-01  132.657709  131.376310  \n",
       "1949-05-01  124.213566  124.628035  "
      ]
     },
     "execution_count": 16,
     "metadata": {},
     "output_type": "execute_result"
    }
   ],
   "source": [
    "air_data['TES12'] = ExponentialSmoothing(air_data['Thousands of Passengers'],trend='add',seasonal='add',seasonal_periods=12).fit().fittedvalues\n",
    "air_data.head()"
   ]
  },
  {
   "cell_type": "code",
   "execution_count": 17,
   "id": "12dba500",
   "metadata": {},
   "outputs": [
    {
     "name": "stderr",
     "output_type": "stream",
     "text": [
      "C:\\Users\\user\\Anaconda3\\lib\\site-packages\\statsmodels\\tsa\\base\\tsa_model.py:524: ValueWarning: No frequency information was provided, so inferred frequency MS will be used.\n",
      "  warnings.warn('No frequency information was'\n"
     ]
    },
    {
     "data": {
      "text/html": [
       "<div>\n",
       "<style scoped>\n",
       "    .dataframe tbody tr th:only-of-type {\n",
       "        vertical-align: middle;\n",
       "    }\n",
       "\n",
       "    .dataframe tbody tr th {\n",
       "        vertical-align: top;\n",
       "    }\n",
       "\n",
       "    .dataframe thead th {\n",
       "        text-align: right;\n",
       "    }\n",
       "</style>\n",
       "<table border=\"1\" class=\"dataframe\">\n",
       "  <thead>\n",
       "    <tr style=\"text-align: right;\">\n",
       "      <th></th>\n",
       "      <th>Thousands of Passengers</th>\n",
       "      <th>3_month-SMA</th>\n",
       "      <th>6_month-SMA</th>\n",
       "      <th>12_month-SMA</th>\n",
       "      <th>3_month-wma</th>\n",
       "      <th>6_month-wma</th>\n",
       "      <th>12_month-wma</th>\n",
       "      <th>SES</th>\n",
       "      <th>DES</th>\n",
       "      <th>DESmul12</th>\n",
       "      <th>TES12</th>\n",
       "      <th>TESmul12</th>\n",
       "    </tr>\n",
       "    <tr>\n",
       "      <th>Month</th>\n",
       "      <th></th>\n",
       "      <th></th>\n",
       "      <th></th>\n",
       "      <th></th>\n",
       "      <th></th>\n",
       "      <th></th>\n",
       "      <th></th>\n",
       "      <th></th>\n",
       "      <th></th>\n",
       "      <th></th>\n",
       "      <th></th>\n",
       "      <th></th>\n",
       "    </tr>\n",
       "  </thead>\n",
       "  <tbody>\n",
       "    <tr>\n",
       "      <th>1949-01-01</th>\n",
       "      <td>112</td>\n",
       "      <td>NaN</td>\n",
       "      <td>NaN</td>\n",
       "      <td>NaN</td>\n",
       "      <td>112.000</td>\n",
       "      <td>112.000000</td>\n",
       "      <td>112.000000</td>\n",
       "      <td>112.000000</td>\n",
       "      <td>113.474828</td>\n",
       "      <td>114.978251</td>\n",
       "      <td>112.001172</td>\n",
       "      <td>111.597879</td>\n",
       "    </tr>\n",
       "    <tr>\n",
       "      <th>1949-02-01</th>\n",
       "      <td>118</td>\n",
       "      <td>NaN</td>\n",
       "      <td>NaN</td>\n",
       "      <td>NaN</td>\n",
       "      <td>115.000</td>\n",
       "      <td>113.714286</td>\n",
       "      <td>112.923077</td>\n",
       "      <td>112.923077</td>\n",
       "      <td>119.464366</td>\n",
       "      <td>121.191659</td>\n",
       "      <td>120.168193</td>\n",
       "      <td>118.844235</td>\n",
       "    </tr>\n",
       "    <tr>\n",
       "      <th>1949-03-01</th>\n",
       "      <td>132</td>\n",
       "      <td>120.666667</td>\n",
       "      <td>NaN</td>\n",
       "      <td>NaN</td>\n",
       "      <td>123.500</td>\n",
       "      <td>118.938776</td>\n",
       "      <td>115.857988</td>\n",
       "      <td>115.857988</td>\n",
       "      <td>133.477561</td>\n",
       "      <td>135.802180</td>\n",
       "      <td>134.698694</td>\n",
       "      <td>133.334951</td>\n",
       "    </tr>\n",
       "    <tr>\n",
       "      <th>1949-04-01</th>\n",
       "      <td>129</td>\n",
       "      <td>126.333333</td>\n",
       "      <td>NaN</td>\n",
       "      <td>NaN</td>\n",
       "      <td>126.250</td>\n",
       "      <td>121.813411</td>\n",
       "      <td>117.879836</td>\n",
       "      <td>117.879836</td>\n",
       "      <td>130.543312</td>\n",
       "      <td>132.657709</td>\n",
       "      <td>131.376310</td>\n",
       "      <td>127.901291</td>\n",
       "    </tr>\n",
       "    <tr>\n",
       "      <th>1949-05-01</th>\n",
       "      <td>121</td>\n",
       "      <td>127.333333</td>\n",
       "      <td>NaN</td>\n",
       "      <td>NaN</td>\n",
       "      <td>123.625</td>\n",
       "      <td>121.581008</td>\n",
       "      <td>118.359861</td>\n",
       "      <td>118.359861</td>\n",
       "      <td>122.528126</td>\n",
       "      <td>124.213566</td>\n",
       "      <td>124.628035</td>\n",
       "      <td>120.978657</td>\n",
       "    </tr>\n",
       "  </tbody>\n",
       "</table>\n",
       "</div>"
      ],
      "text/plain": [
       "            Thousands of Passengers  3_month-SMA  6_month-SMA  12_month-SMA  \\\n",
       "Month                                                                         \n",
       "1949-01-01                      112          NaN          NaN           NaN   \n",
       "1949-02-01                      118          NaN          NaN           NaN   \n",
       "1949-03-01                      132   120.666667          NaN           NaN   \n",
       "1949-04-01                      129   126.333333          NaN           NaN   \n",
       "1949-05-01                      121   127.333333          NaN           NaN   \n",
       "\n",
       "            3_month-wma  6_month-wma  12_month-wma         SES         DES  \\\n",
       "Month                                                                        \n",
       "1949-01-01      112.000   112.000000    112.000000  112.000000  113.474828   \n",
       "1949-02-01      115.000   113.714286    112.923077  112.923077  119.464366   \n",
       "1949-03-01      123.500   118.938776    115.857988  115.857988  133.477561   \n",
       "1949-04-01      126.250   121.813411    117.879836  117.879836  130.543312   \n",
       "1949-05-01      123.625   121.581008    118.359861  118.359861  122.528126   \n",
       "\n",
       "              DESmul12       TES12    TESmul12  \n",
       "Month                                           \n",
       "1949-01-01  114.978251  112.001172  111.597879  \n",
       "1949-02-01  121.191659  120.168193  118.844235  \n",
       "1949-03-01  135.802180  134.698694  133.334951  \n",
       "1949-04-01  132.657709  131.376310  127.901291  \n",
       "1949-05-01  124.213566  124.628035  120.978657  "
      ]
     },
     "execution_count": 17,
     "metadata": {},
     "output_type": "execute_result"
    }
   ],
   "source": [
    "air_data['TESmul12'] = ExponentialSmoothing(air_data['Thousands of Passengers'],trend='mul',seasonal='mul',seasonal_periods=12).fit().fittedvalues\n",
    "air_data.head()"
   ]
  },
  {
   "cell_type": "markdown",
   "id": "f03acabf",
   "metadata": {},
   "source": [
    "### ACF-PACF plot"
   ]
  },
  {
   "cell_type": "code",
   "execution_count": 18,
   "id": "0aba09b2",
   "metadata": {},
   "outputs": [
    {
     "data": {
      "image/png": "[encoded data removed]",
      "text/plain": [
       "<Figure size 576x432 with 2 Axes>"
      ]
     },
     "metadata": {
      "needs_background": "light"
     },
     "output_type": "display_data"
    }
   ],
   "source": [
    "from statsmodels.graphics.tsaplots import plot_acf, plot_pacf\n",
    "fig, (ax1, ax2) = plt.subplots(2,1,figsize=(8,6))\n",
    "\n",
    "# Plot the ACF on ax1\n",
    "plot_acf(air_data['Thousands of Passengers'], lags=50,alpha=0.05, zero=False, ax=ax1)\n",
    "\n",
    "# Plot the PACF on ax2\n",
    "plot_pacf(air_data['Thousands of Passengers'], lags=50,alpha=0.05, zero=False, ax=ax2)\n",
    "plt.show()\n"
   ]
  },
  {
   "cell_type": "markdown",
   "id": "262f3b26",
   "metadata": {},
   "source": [
    "Autocorrelation: If the lag plot gives a linear plot, then it means the autocorrelation is present in the data, whether there is positive autocorrelation or negative that depends upon the slope of the line of the dataset. If more data is concentrated on the diagonal in lag plot, it means there is a strong autocorrelation."
   ]
  },
  {
   "cell_type": "code",
   "execution_count": 19,
   "id": "03e7033c",
   "metadata": {},
   "outputs": [
    {
     "data": {
      "image/png": "[encoded data removed]",
      "text/plain": [
       "<Figure size 864x720 with 1 Axes>"
      ]
     },
     "metadata": {
      "needs_background": "light"
     },
     "output_type": "display_data"
    }
   ],
   "source": [
    "pd.plotting.lag_plot(air_data['Thousands of Passengers']);"
   ]
  },
  {
   "cell_type": "markdown",
   "id": "7c8ba260",
   "metadata": {},
   "source": [
    "- Above plot Shows that Autocorrleation is present in the data as observation points are linearly increasing in positive direction."
   ]
  },
  {
   "cell_type": "code",
   "execution_count": 20,
   "id": "6469940d",
   "metadata": {
    "scrolled": true
   },
   "outputs": [
    {
     "name": "stdout",
     "output_type": "stream",
     "text": [
      "Performing stepwise search to minimize aic\n",
      " ARIMA(1,1,1)(0,0,0)[0] intercept   : AIC=1396.121, Time=0.24 sec\n",
      " ARIMA(0,1,0)(0,0,0)[0] intercept   : AIC=1415.278, Time=0.02 sec\n",
      " ARIMA(1,1,0)(0,0,0)[0] intercept   : AIC=1403.473, Time=0.08 sec\n",
      " ARIMA(0,1,1)(0,0,0)[0] intercept   : AIC=1398.827, Time=0.16 sec\n",
      " ARIMA(0,1,0)(0,0,0)[0]             : AIC=1413.909, Time=0.02 sec\n",
      " ARIMA(2,1,1)(0,0,0)[0] intercept   : AIC=inf, Time=0.43 sec\n",
      " ARIMA(1,1,2)(0,0,0)[0] intercept   : AIC=inf, Time=0.28 sec\n",
      " ARIMA(0,1,2)(0,0,0)[0] intercept   : AIC=1398.386, Time=0.17 sec\n",
      " ARIMA(2,1,0)(0,0,0)[0] intercept   : AIC=1397.975, Time=0.12 sec\n",
      " ARIMA(2,1,2)(0,0,0)[0] intercept   : AIC=inf, Time=0.65 sec\n",
      " ARIMA(1,1,1)(0,0,0)[0]             : AIC=1394.683, Time=0.09 sec\n",
      " ARIMA(0,1,1)(0,0,0)[0]             : AIC=1397.258, Time=0.04 sec\n",
      " ARIMA(1,1,0)(0,0,0)[0]             : AIC=1401.852, Time=0.05 sec\n",
      " ARIMA(2,1,1)(0,0,0)[0]             : AIC=1378.338, Time=0.12 sec\n",
      " ARIMA(2,1,0)(0,0,0)[0]             : AIC=1396.588, Time=0.05 sec\n",
      " ARIMA(3,1,1)(0,0,0)[0]             : AIC=1379.614, Time=0.33 sec\n",
      " ARIMA(2,1,2)(0,0,0)[0]             : AIC=inf, Time=0.51 sec\n",
      " ARIMA(1,1,2)(0,0,0)[0]             : AIC=1385.498, Time=0.13 sec\n",
      " ARIMA(3,1,0)(0,0,0)[0]             : AIC=1395.021, Time=0.10 sec\n",
      " ARIMA(3,1,2)(0,0,0)[0]             : AIC=1377.086, Time=0.31 sec\n",
      " ARIMA(4,1,2)(0,0,0)[0]             : AIC=1373.560, Time=0.53 sec\n",
      " ARIMA(4,1,1)(0,0,0)[0]             : AIC=1384.053, Time=0.34 sec\n",
      " ARIMA(5,1,2)(0,0,0)[0]             : AIC=1375.353, Time=0.47 sec\n",
      " ARIMA(4,1,3)(0,0,0)[0]             : AIC=1365.825, Time=0.96 sec\n",
      " ARIMA(3,1,3)(0,0,0)[0]             : AIC=inf, Time=0.82 sec\n",
      " ARIMA(5,1,3)(0,0,0)[0]             : AIC=inf, Time=1.01 sec\n",
      " ARIMA(4,1,3)(0,0,0)[0] intercept   : AIC=inf, Time=1.05 sec\n",
      "\n",
      "Best model:  ARIMA(4,1,3)(0,0,0)[0]          \n",
      "Total fit time: 9.146 seconds\n"
     ]
    },
    {
     "data": {
      "text/html": [
       "<table class=\"simpletable\">\n",
       "<caption>SARIMAX Results</caption>\n",
       "<tr>\n",
       "  <th>Dep. Variable:</th>           <td>y</td>        <th>  No. Observations:  </th>    <td>144</td>  \n",
       "</tr>\n",
       "<tr>\n",
       "  <th>Model:</th>           <td>SARIMAX(4, 1, 3)</td> <th>  Log Likelihood     </th> <td>-674.913</td>\n",
       "</tr>\n",
       "<tr>\n",
       "  <th>Date:</th>            <td>Sat, 21 Aug 2021</td> <th>  AIC                </th> <td>1365.825</td>\n",
       "</tr>\n",
       "<tr>\n",
       "  <th>Time:</th>                <td>20:44:54</td>     <th>  BIC                </th> <td>1389.528</td>\n",
       "</tr>\n",
       "<tr>\n",
       "  <th>Sample:</th>                  <td>0</td>        <th>  HQIC               </th> <td>1375.457</td>\n",
       "</tr>\n",
       "<tr>\n",
       "  <th></th>                      <td> - 144</td>      <th>                     </th>     <td> </td>   \n",
       "</tr>\n",
       "<tr>\n",
       "  <th>Covariance Type:</th>        <td>opg</td>       <th>                     </th>     <td> </td>   \n",
       "</tr>\n",
       "</table>\n",
       "<table class=\"simpletable\">\n",
       "<tr>\n",
       "     <td></td>       <th>coef</th>     <th>std err</th>      <th>z</th>      <th>P>|z|</th>  <th>[0.025</th>    <th>0.975]</th>  \n",
       "</tr>\n",
       "<tr>\n",
       "  <th>ar.L1</th>  <td>   -0.5582</td> <td>    0.117</td> <td>   -4.782</td> <td> 0.000</td> <td>   -0.787</td> <td>   -0.329</td>\n",
       "</tr>\n",
       "<tr>\n",
       "  <th>ar.L2</th>  <td>    0.4935</td> <td>    0.113</td> <td>    4.375</td> <td> 0.000</td> <td>    0.272</td> <td>    0.715</td>\n",
       "</tr>\n",
       "<tr>\n",
       "  <th>ar.L3</th>  <td>    0.1238</td> <td>    0.128</td> <td>    0.970</td> <td> 0.332</td> <td>   -0.126</td> <td>    0.374</td>\n",
       "</tr>\n",
       "<tr>\n",
       "  <th>ar.L4</th>  <td>   -0.5213</td> <td>    0.085</td> <td>   -6.136</td> <td> 0.000</td> <td>   -0.688</td> <td>   -0.355</td>\n",
       "</tr>\n",
       "<tr>\n",
       "  <th>ma.L1</th>  <td>    0.9069</td> <td>    0.094</td> <td>    9.657</td> <td> 0.000</td> <td>    0.723</td> <td>    1.091</td>\n",
       "</tr>\n",
       "<tr>\n",
       "  <th>ma.L2</th>  <td>   -0.5590</td> <td>    0.145</td> <td>   -3.866</td> <td> 0.000</td> <td>   -0.842</td> <td>   -0.276</td>\n",
       "</tr>\n",
       "<tr>\n",
       "  <th>ma.L3</th>  <td>   -0.7385</td> <td>    0.109</td> <td>   -6.778</td> <td> 0.000</td> <td>   -0.952</td> <td>   -0.525</td>\n",
       "</tr>\n",
       "<tr>\n",
       "  <th>sigma2</th> <td>  724.1727</td> <td>   85.616</td> <td>    8.458</td> <td> 0.000</td> <td>  556.369</td> <td>  891.976</td>\n",
       "</tr>\n",
       "</table>\n",
       "<table class=\"simpletable\">\n",
       "<tr>\n",
       "  <th>Ljung-Box (L1) (Q):</th>     <td>0.37</td> <th>  Jarque-Bera (JB):  </th> <td>14.59</td>\n",
       "</tr>\n",
       "<tr>\n",
       "  <th>Prob(Q):</th>                <td>0.54</td> <th>  Prob(JB):          </th> <td>0.00</td> \n",
       "</tr>\n",
       "<tr>\n",
       "  <th>Heteroskedasticity (H):</th> <td>5.66</td> <th>  Skew:              </th> <td>0.74</td> \n",
       "</tr>\n",
       "<tr>\n",
       "  <th>Prob(H) (two-sided):</th>    <td>0.00</td> <th>  Kurtosis:          </th> <td>3.52</td> \n",
       "</tr>\n",
       "</table><br/><br/>Warnings:<br/>[1] Covariance matrix calculated using the outer product of gradients (complex-step)."
      ],
      "text/plain": [
       "<class 'statsmodels.iolib.summary.Summary'>\n",
       "\"\"\"\n",
       "                               SARIMAX Results                                \n",
       "==============================================================================\n",
       "Dep. Variable:                      y   No. Observations:                  144\n",
       "Model:               SARIMAX(4, 1, 3)   Log Likelihood                -674.913\n",
       "Date:                Sat, 21 Aug 2021   AIC                           1365.825\n",
       "Time:                        20:44:54   BIC                           1389.528\n",
       "Sample:                             0   HQIC                          1375.457\n",
       "                                - 144                                         \n",
       "Covariance Type:                  opg                                         \n",
       "==============================================================================\n",
       "                 coef    std err          z      P>|z|      [0.025      0.975]\n",
       "------------------------------------------------------------------------------\n",
       "ar.L1         -0.5582      0.117     -4.782      0.000      -0.787      -0.329\n",
       "ar.L2          0.4935      0.113      4.375      0.000       0.272       0.715\n",
       "ar.L3          0.1238      0.128      0.970      0.332      -0.126       0.374\n",
       "ar.L4         -0.5213      0.085     -6.136      0.000      -0.688      -0.355\n",
       "ma.L1          0.9069      0.094      9.657      0.000       0.723       1.091\n",
       "ma.L2         -0.5590      0.145     -3.866      0.000      -0.842      -0.276\n",
       "ma.L3         -0.7385      0.109     -6.778      0.000      -0.952      -0.525\n",
       "sigma2       724.1727     85.616      8.458      0.000     556.369     891.976\n",
       "===================================================================================\n",
       "Ljung-Box (L1) (Q):                   0.37   Jarque-Bera (JB):                14.59\n",
       "Prob(Q):                              0.54   Prob(JB):                         0.00\n",
       "Heteroskedasticity (H):               5.66   Skew:                             0.74\n",
       "Prob(H) (two-sided):                  0.00   Kurtosis:                         3.52\n",
       "===================================================================================\n",
       "\n",
       "Warnings:\n",
       "[1] Covariance matrix calculated using the outer product of gradients (complex-step).\n",
       "\"\"\""
      ]
     },
     "execution_count": 20,
     "metadata": {},
     "output_type": "execute_result"
    }
   ],
   "source": [
    "from pmdarima import auto_arima\n",
    "## Without Seasonality\n",
    "stepwise_fit = auto_arima(air_data['Thousands of Passengers'], start_p=1, start_q=1,\n",
    "                          max_p=6, max_q=3, m=12,\n",
    "                          seasonal=False,\n",
    "                          d=None, trace=True,\n",
    "                          error_action='ignore',   # we don't want to know if an order does not work\n",
    "                          suppress_warnings=True,  # we don't want convergence warnings\n",
    "                          stepwise=True)           # set to stepwise\n",
    "\n",
    "stepwise_fit.summary()"
   ]
  },
  {
   "cell_type": "markdown",
   "id": "2fcfcd70",
   "metadata": {},
   "source": [
    "- Best ARIMA Model is with order p=4, d=1,q=3, with absence of seasonality. "
   ]
  },
  {
   "cell_type": "code",
   "execution_count": 21,
   "id": "153ffddf",
   "metadata": {},
   "outputs": [
    {
     "name": "stdout",
     "output_type": "stream",
     "text": [
      "Performing stepwise search to minimize aic\n",
      " ARIMA(0,1,0)(1,1,1)[12]             : AIC=1032.128, Time=0.98 sec\n",
      " ARIMA(0,1,0)(0,1,0)[12]             : AIC=1031.508, Time=0.05 sec\n",
      " ARIMA(1,1,0)(1,1,0)[12]             : AIC=1020.393, Time=0.20 sec\n",
      " ARIMA(0,1,1)(0,1,1)[12]             : AIC=1021.003, Time=0.29 sec\n",
      " ARIMA(1,1,0)(0,1,0)[12]             : AIC=1020.393, Time=0.09 sec\n",
      " ARIMA(1,1,0)(2,1,0)[12]             : AIC=1019.239, Time=0.58 sec\n",
      " ARIMA(1,1,0)(2,1,1)[12]             : AIC=inf, Time=4.45 sec\n",
      " ARIMA(1,1,0)(1,1,1)[12]             : AIC=1020.493, Time=0.50 sec\n",
      " ARIMA(0,1,0)(2,1,0)[12]             : AIC=1032.120, Time=0.25 sec\n",
      " ARIMA(2,1,0)(2,1,0)[12]             : AIC=1021.120, Time=0.61 sec\n",
      " ARIMA(1,1,1)(2,1,0)[12]             : AIC=1021.032, Time=0.78 sec\n",
      " ARIMA(0,1,1)(2,1,0)[12]             : AIC=1019.178, Time=0.48 sec\n",
      " ARIMA(0,1,1)(1,1,0)[12]             : AIC=1020.425, Time=0.17 sec\n",
      " ARIMA(0,1,1)(2,1,1)[12]             : AIC=inf, Time=3.26 sec\n",
      " ARIMA(0,1,1)(1,1,1)[12]             : AIC=1020.327, Time=0.57 sec\n",
      " ARIMA(0,1,2)(2,1,0)[12]             : AIC=1021.148, Time=0.50 sec\n",
      " ARIMA(1,1,2)(2,1,0)[12]             : AIC=1022.805, Time=0.85 sec\n",
      " ARIMA(0,1,1)(2,1,0)[12] intercept   : AIC=1021.017, Time=0.94 sec\n",
      "\n",
      "Best model:  ARIMA(0,1,1)(2,1,0)[12]          \n",
      "Total fit time: 15.673 seconds\n"
     ]
    },
    {
     "data": {
      "text/html": [
       "<table class=\"simpletable\">\n",
       "<caption>SARIMAX Results</caption>\n",
       "<tr>\n",
       "  <th>Dep. Variable:</th>                  <td>y</td>                <th>  No. Observations:  </th>    <td>144</td>  \n",
       "</tr>\n",
       "<tr>\n",
       "  <th>Model:</th>           <td>SARIMAX(0, 1, 1)x(2, 1, [], 12)</td> <th>  Log Likelihood     </th> <td>-505.589</td>\n",
       "</tr>\n",
       "<tr>\n",
       "  <th>Date:</th>                   <td>Sat, 21 Aug 2021</td>         <th>  AIC                </th> <td>1019.178</td>\n",
       "</tr>\n",
       "<tr>\n",
       "  <th>Time:</th>                       <td>20:45:09</td>             <th>  BIC                </th> <td>1030.679</td>\n",
       "</tr>\n",
       "<tr>\n",
       "  <th>Sample:</th>                         <td>0</td>                <th>  HQIC               </th> <td>1023.851</td>\n",
       "</tr>\n",
       "<tr>\n",
       "  <th></th>                             <td> - 144</td>              <th>                     </th>     <td> </td>   \n",
       "</tr>\n",
       "<tr>\n",
       "  <th>Covariance Type:</th>               <td>opg</td>               <th>                     </th>     <td> </td>   \n",
       "</tr>\n",
       "</table>\n",
       "<table class=\"simpletable\">\n",
       "<tr>\n",
       "      <td></td>        <th>coef</th>     <th>std err</th>      <th>z</th>      <th>P>|z|</th>  <th>[0.025</th>    <th>0.975]</th>  \n",
       "</tr>\n",
       "<tr>\n",
       "  <th>ma.L1</th>    <td>   -0.3634</td> <td>    0.074</td> <td>   -4.945</td> <td> 0.000</td> <td>   -0.508</td> <td>   -0.219</td>\n",
       "</tr>\n",
       "<tr>\n",
       "  <th>ar.S.L12</th> <td>   -0.1239</td> <td>    0.090</td> <td>   -1.372</td> <td> 0.170</td> <td>   -0.301</td> <td>    0.053</td>\n",
       "</tr>\n",
       "<tr>\n",
       "  <th>ar.S.L24</th> <td>    0.1911</td> <td>    0.107</td> <td>    1.783</td> <td> 0.075</td> <td>   -0.019</td> <td>    0.401</td>\n",
       "</tr>\n",
       "<tr>\n",
       "  <th>sigma2</th>   <td>  130.4480</td> <td>   15.527</td> <td>    8.402</td> <td> 0.000</td> <td>  100.016</td> <td>  160.880</td>\n",
       "</tr>\n",
       "</table>\n",
       "<table class=\"simpletable\">\n",
       "<tr>\n",
       "  <th>Ljung-Box (L1) (Q):</th>     <td>0.01</td> <th>  Jarque-Bera (JB):  </th> <td>4.59</td>\n",
       "</tr>\n",
       "<tr>\n",
       "  <th>Prob(Q):</th>                <td>0.92</td> <th>  Prob(JB):          </th> <td>0.10</td>\n",
       "</tr>\n",
       "<tr>\n",
       "  <th>Heteroskedasticity (H):</th> <td>2.70</td> <th>  Skew:              </th> <td>0.15</td>\n",
       "</tr>\n",
       "<tr>\n",
       "  <th>Prob(H) (two-sided):</th>    <td>0.00</td> <th>  Kurtosis:          </th> <td>3.87</td>\n",
       "</tr>\n",
       "</table><br/><br/>Warnings:<br/>[1] Covariance matrix calculated using the outer product of gradients (complex-step)."
      ],
      "text/plain": [
       "<class 'statsmodels.iolib.summary.Summary'>\n",
       "\"\"\"\n",
       "                                      SARIMAX Results                                      \n",
       "===========================================================================================\n",
       "Dep. Variable:                                   y   No. Observations:                  144\n",
       "Model:             SARIMAX(0, 1, 1)x(2, 1, [], 12)   Log Likelihood                -505.589\n",
       "Date:                             Sat, 21 Aug 2021   AIC                           1019.178\n",
       "Time:                                     20:45:09   BIC                           1030.679\n",
       "Sample:                                          0   HQIC                          1023.851\n",
       "                                             - 144                                         \n",
       "Covariance Type:                               opg                                         \n",
       "==============================================================================\n",
       "                 coef    std err          z      P>|z|      [0.025      0.975]\n",
       "------------------------------------------------------------------------------\n",
       "ma.L1         -0.3634      0.074     -4.945      0.000      -0.508      -0.219\n",
       "ar.S.L12      -0.1239      0.090     -1.372      0.170      -0.301       0.053\n",
       "ar.S.L24       0.1911      0.107      1.783      0.075      -0.019       0.401\n",
       "sigma2       130.4480     15.527      8.402      0.000     100.016     160.880\n",
       "===================================================================================\n",
       "Ljung-Box (L1) (Q):                   0.01   Jarque-Bera (JB):                 4.59\n",
       "Prob(Q):                              0.92   Prob(JB):                         0.10\n",
       "Heteroskedasticity (H):               2.70   Skew:                             0.15\n",
       "Prob(H) (two-sided):                  0.00   Kurtosis:                         3.87\n",
       "===================================================================================\n",
       "\n",
       "Warnings:\n",
       "[1] Covariance matrix calculated using the outer product of gradients (complex-step).\n",
       "\"\"\""
      ]
     },
     "execution_count": 21,
     "metadata": {},
     "output_type": "execute_result"
    }
   ],
   "source": [
    "## With Seasonality\n",
    "stepwise_fit = auto_arima(air_data['Thousands of Passengers'], start_p=0, start_q=0,\n",
    "                          max_p=6, max_q=3, m=12,\n",
    "                          seasonal=True,\n",
    "                          d=None, trace=True,\n",
    "                          error_action='ignore',   # we don't want to know if an order does not work\n",
    "                          suppress_warnings=True,  # we don't want convergence warnings\n",
    "                          stepwise=True)           # set to stepwise\n",
    "\n",
    "stepwise_fit.summary()"
   ]
  },
  {
   "cell_type": "markdown",
   "id": "06034854",
   "metadata": {},
   "source": [
    "p: Trend autoregressive order=0 \\\n",
    "d: Trend difference order=1  \\\n",
    "q: Trend moving average order=1  \\\n",
    "\n",
    "P: Seasonal autoregressive order=2   \\\n",
    "D: Seasonal difference order=1  \\\n",
    "Q: Seasonal moving average order=0  \\\n",
    "m: The number of time steps for a single seasonal period=12   \\"
   ]
  },
  {
   "cell_type": "code",
   "execution_count": 22,
   "id": "0ce1953d",
   "metadata": {},
   "outputs": [
    {
     "name": "stdout",
     "output_type": "stream",
     "text": [
      "(94,)\n",
      "(50,)\n"
     ]
    }
   ],
   "source": [
    "Train=air_data['Thousands of Passengers'].iloc[:-50]\n",
    "test=air_data['Thousands of Passengers'].iloc[-50:]\n",
    "print(Train.shape)\n",
    "print(test.shape)"
   ]
  },
  {
   "cell_type": "code",
   "execution_count": 23,
   "id": "940d84de",
   "metadata": {},
   "outputs": [
    {
     "name": "stderr",
     "output_type": "stream",
     "text": [
      "C:\\Users\\user\\Anaconda3\\lib\\site-packages\\statsmodels\\tsa\\base\\tsa_model.py:524: ValueWarning: No frequency information was provided, so inferred frequency MS will be used.\n",
      "  warnings.warn('No frequency information was'\n",
      "C:\\Users\\user\\Anaconda3\\lib\\site-packages\\statsmodels\\tsa\\base\\tsa_model.py:524: ValueWarning: No frequency information was provided, so inferred frequency MS will be used.\n",
      "  warnings.warn('No frequency information was'\n",
      "C:\\Users\\user\\Anaconda3\\lib\\site-packages\\statsmodels\\base\\model.py:547: HessianInversionWarning: Inverting hessian failed, no bse or cov_params available\n",
      "  warnings.warn('Inverting hessian failed, no bse or cov_params '\n"
     ]
    },
    {
     "data": {
      "text/html": [
       "<table class=\"simpletable\">\n",
       "<caption>ARIMA Model Results</caption>\n",
       "<tr>\n",
       "  <th>Dep. Variable:</th> <td>D.Thousands of Passengers</td> <th>  No. Observations:  </th>    <td>93</td>   \n",
       "</tr>\n",
       "<tr>\n",
       "  <th>Model:</th>              <td>ARIMA(4, 1, 3)</td>       <th>  Log Likelihood     </th> <td>-397.490</td>\n",
       "</tr>\n",
       "<tr>\n",
       "  <th>Method:</th>                 <td>css-mle</td>          <th>  S.D. of innovations</th>  <td>16.459</td> \n",
       "</tr>\n",
       "<tr>\n",
       "  <th>Date:</th>              <td>Sat, 21 Aug 2021</td>      <th>  AIC                </th>  <td>812.980</td>\n",
       "</tr>\n",
       "<tr>\n",
       "  <th>Time:</th>                  <td>20:45:11</td>          <th>  BIC                </th>  <td>835.773</td>\n",
       "</tr>\n",
       "<tr>\n",
       "  <th>Sample:</th>               <td>02-01-1949</td>         <th>  HQIC               </th>  <td>822.183</td>\n",
       "</tr>\n",
       "<tr>\n",
       "  <th></th>                     <td>- 10-01-1956</td>        <th>                     </th>     <td> </td>   \n",
       "</tr>\n",
       "</table>\n",
       "<table class=\"simpletable\">\n",
       "<tr>\n",
       "                 <td></td>                    <th>coef</th>     <th>std err</th>      <th>z</th>      <th>P>|z|</th>  <th>[0.025</th>    <th>0.975]</th>  \n",
       "</tr>\n",
       "<tr>\n",
       "  <th>const</th>                           <td>    2.3349</td> <td>    0.151</td> <td>   15.462</td> <td> 0.000</td> <td>    2.039</td> <td>    2.631</td>\n",
       "</tr>\n",
       "<tr>\n",
       "  <th>ar.L1.D.Thousands of Passengers</th> <td>    0.2953</td> <td>    0.091</td> <td>    3.236</td> <td> 0.001</td> <td>    0.116</td> <td>    0.474</td>\n",
       "</tr>\n",
       "<tr>\n",
       "  <th>ar.L2.D.Thousands of Passengers</th> <td>   -0.4514</td> <td>    0.068</td> <td>   -6.668</td> <td> 0.000</td> <td>   -0.584</td> <td>   -0.319</td>\n",
       "</tr>\n",
       "<tr>\n",
       "  <th>ar.L3.D.Thousands of Passengers</th> <td>    0.5915</td> <td>    0.067</td> <td>    8.852</td> <td> 0.000</td> <td>    0.461</td> <td>    0.722</td>\n",
       "</tr>\n",
       "<tr>\n",
       "  <th>ar.L4.D.Thousands of Passengers</th> <td>   -0.6000</td> <td>    0.088</td> <td>   -6.855</td> <td> 0.000</td> <td>   -0.772</td> <td>   -0.428</td>\n",
       "</tr>\n",
       "<tr>\n",
       "  <th>ma.L1.D.Thousands of Passengers</th> <td>   -0.2014</td> <td>    0.079</td> <td>   -2.560</td> <td> 0.010</td> <td>   -0.355</td> <td>   -0.047</td>\n",
       "</tr>\n",
       "<tr>\n",
       "  <th>ma.L2.D.Thousands of Passengers</th> <td>    0.2014</td> <td>    0.081</td> <td>    2.495</td> <td> 0.013</td> <td>    0.043</td> <td>    0.360</td>\n",
       "</tr>\n",
       "<tr>\n",
       "  <th>ma.L3.D.Thousands of Passengers</th> <td>   -1.0000</td> <td>    0.078</td> <td>  -12.865</td> <td> 0.000</td> <td>   -1.152</td> <td>   -0.848</td>\n",
       "</tr>\n",
       "</table>\n",
       "<table class=\"simpletable\">\n",
       "<caption>Roots</caption>\n",
       "<tr>\n",
       "    <td></td>   <th>            Real</th>  <th>         Imaginary</th> <th>         Modulus</th>  <th>        Frequency</th>\n",
       "</tr>\n",
       "<tr>\n",
       "  <th>AR.1</th> <td>          -0.4835</td> <td>          -0.8997j</td> <td>           1.0214</td> <td>          -0.3285</td>\n",
       "</tr>\n",
       "<tr>\n",
       "  <th>AR.2</th> <td>          -0.4835</td> <td>          +0.8997j</td> <td>           1.0214</td> <td>           0.3285</td>\n",
       "</tr>\n",
       "<tr>\n",
       "  <th>AR.3</th> <td>           0.9764</td> <td>          -0.8026j</td> <td>           1.2639</td> <td>          -0.1095</td>\n",
       "</tr>\n",
       "<tr>\n",
       "  <th>AR.4</th> <td>           0.9764</td> <td>          +0.8026j</td> <td>           1.2639</td> <td>           0.1095</td>\n",
       "</tr>\n",
       "<tr>\n",
       "  <th>MA.1</th> <td>           1.0000</td> <td>          -0.0000j</td> <td>           1.0000</td> <td>          -0.0000</td>\n",
       "</tr>\n",
       "<tr>\n",
       "  <th>MA.2</th> <td>          -0.3993</td> <td>          -0.9168j</td> <td>           1.0000</td> <td>          -0.3154</td>\n",
       "</tr>\n",
       "<tr>\n",
       "  <th>MA.3</th> <td>          -0.3993</td> <td>          +0.9168j</td> <td>           1.0000</td> <td>           0.3154</td>\n",
       "</tr>\n",
       "</table>"
      ],
      "text/plain": [
       "<class 'statsmodels.iolib.summary.Summary'>\n",
       "\"\"\"\n",
       "                                 ARIMA Model Results                                 \n",
       "=====================================================================================\n",
       "Dep. Variable:     D.Thousands of Passengers   No. Observations:                   93\n",
       "Model:                        ARIMA(4, 1, 3)   Log Likelihood                -397.490\n",
       "Method:                              css-mle   S.D. of innovations             16.459\n",
       "Date:                       Sat, 21 Aug 2021   AIC                            812.980\n",
       "Time:                               20:45:11   BIC                            835.773\n",
       "Sample:                           02-01-1949   HQIC                           822.183\n",
       "                                - 10-01-1956                                         \n",
       "===================================================================================================\n",
       "                                      coef    std err          z      P>|z|      [0.025      0.975]\n",
       "---------------------------------------------------------------------------------------------------\n",
       "const                               2.3349      0.151     15.462      0.000       2.039       2.631\n",
       "ar.L1.D.Thousands of Passengers     0.2953      0.091      3.236      0.001       0.116       0.474\n",
       "ar.L2.D.Thousands of Passengers    -0.4514      0.068     -6.668      0.000      -0.584      -0.319\n",
       "ar.L3.D.Thousands of Passengers     0.5915      0.067      8.852      0.000       0.461       0.722\n",
       "ar.L4.D.Thousands of Passengers    -0.6000      0.088     -6.855      0.000      -0.772      -0.428\n",
       "ma.L1.D.Thousands of Passengers    -0.2014      0.079     -2.560      0.010      -0.355      -0.047\n",
       "ma.L2.D.Thousands of Passengers     0.2014      0.081      2.495      0.013       0.043       0.360\n",
       "ma.L3.D.Thousands of Passengers    -1.0000      0.078    -12.865      0.000      -1.152      -0.848\n",
       "                                    Roots                                    \n",
       "=============================================================================\n",
       "                  Real          Imaginary           Modulus         Frequency\n",
       "-----------------------------------------------------------------------------\n",
       "AR.1           -0.4835           -0.8997j            1.0214           -0.3285\n",
       "AR.2           -0.4835           +0.8997j            1.0214            0.3285\n",
       "AR.3            0.9764           -0.8026j            1.2639           -0.1095\n",
       "AR.4            0.9764           +0.8026j            1.2639            0.1095\n",
       "MA.1            1.0000           -0.0000j            1.0000           -0.0000\n",
       "MA.2           -0.3993           -0.9168j            1.0000           -0.3154\n",
       "MA.3           -0.3993           +0.9168j            1.0000            0.3154\n",
       "-----------------------------------------------------------------------------\n",
       "\"\"\""
      ]
     },
     "execution_count": 23,
     "metadata": {},
     "output_type": "execute_result"
    }
   ],
   "source": [
    "d= ARIMA(Train,order=(4,1,3))\n",
    "d=d.fit().summary()\n",
    "d"
   ]
  },
  {
   "cell_type": "code",
   "execution_count": 26,
   "id": "d1adabad",
   "metadata": {},
   "outputs": [
    {
     "name": "stderr",
     "output_type": "stream",
     "text": [
      "C:\\Users\\user\\Anaconda3\\lib\\site-packages\\statsmodels\\tsa\\base\\tsa_model.py:524: ValueWarning: No frequency information was provided, so inferred frequency MS will be used.\n",
      "  warnings.warn('No frequency information was'\n",
      "C:\\Users\\user\\Anaconda3\\lib\\site-packages\\statsmodels\\tsa\\base\\tsa_model.py:524: ValueWarning: No frequency information was provided, so inferred frequency MS will be used.\n",
      "  warnings.warn('No frequency information was'\n"
     ]
    },
    {
     "data": {
      "text/html": [
       "<table class=\"simpletable\">\n",
       "<caption>SARIMAX Results</caption>\n",
       "<tr>\n",
       "  <th>Dep. Variable:</th>       <td>Thousands of Passengers</td>     <th>  No. Observations:  </th>    <td>94</td>   \n",
       "</tr>\n",
       "<tr>\n",
       "  <th>Model:</th>           <td>SARIMAX(0, 1, 1)x(2, 1, [], 12)</td> <th>  Log Likelihood     </th> <td>-298.398</td>\n",
       "</tr>\n",
       "<tr>\n",
       "  <th>Date:</th>                   <td>Sat, 21 Aug 2021</td>         <th>  AIC                </th>  <td>604.795</td>\n",
       "</tr>\n",
       "<tr>\n",
       "  <th>Time:</th>                       <td>20:45:45</td>             <th>  BIC                </th>  <td>614.373</td>\n",
       "</tr>\n",
       "<tr>\n",
       "  <th>Sample:</th>                    <td>01-01-1949</td>            <th>  HQIC               </th>  <td>608.638</td>\n",
       "</tr>\n",
       "<tr>\n",
       "  <th></th>                          <td>- 10-01-1956</td>           <th>                     </th>     <td> </td>   \n",
       "</tr>\n",
       "<tr>\n",
       "  <th>Covariance Type:</th>               <td>opg</td>               <th>                     </th>     <td> </td>   \n",
       "</tr>\n",
       "</table>\n",
       "<table class=\"simpletable\">\n",
       "<tr>\n",
       "      <td></td>        <th>coef</th>     <th>std err</th>      <th>z</th>      <th>P>|z|</th>  <th>[0.025</th>    <th>0.975]</th>  \n",
       "</tr>\n",
       "<tr>\n",
       "  <th>ma.L1</th>    <td>   -0.2760</td> <td>    0.105</td> <td>   -2.618</td> <td> 0.009</td> <td>   -0.483</td> <td>   -0.069</td>\n",
       "</tr>\n",
       "<tr>\n",
       "  <th>ar.S.L12</th> <td>   -0.2074</td> <td>    0.112</td> <td>   -1.845</td> <td> 0.065</td> <td>   -0.428</td> <td>    0.013</td>\n",
       "</tr>\n",
       "<tr>\n",
       "  <th>ar.S.L24</th> <td>    0.0613</td> <td>    0.127</td> <td>    0.481</td> <td> 0.630</td> <td>   -0.188</td> <td>    0.311</td>\n",
       "</tr>\n",
       "<tr>\n",
       "  <th>sigma2</th>   <td>   91.8783</td> <td>   15.454</td> <td>    5.945</td> <td> 0.000</td> <td>   61.589</td> <td>  122.168</td>\n",
       "</tr>\n",
       "</table>\n",
       "<table class=\"simpletable\">\n",
       "<tr>\n",
       "  <th>Ljung-Box (L1) (Q):</th>     <td>0.00</td> <th>  Jarque-Bera (JB):  </th> <td>2.16</td>\n",
       "</tr>\n",
       "<tr>\n",
       "  <th>Prob(Q):</th>                <td>0.98</td> <th>  Prob(JB):          </th> <td>0.34</td>\n",
       "</tr>\n",
       "<tr>\n",
       "  <th>Heteroskedasticity (H):</th> <td>1.87</td> <th>  Skew:              </th> <td>0.38</td>\n",
       "</tr>\n",
       "<tr>\n",
       "  <th>Prob(H) (two-sided):</th>    <td>0.11</td> <th>  Kurtosis:          </th> <td>2.74</td>\n",
       "</tr>\n",
       "</table><br/><br/>Warnings:<br/>[1] Covariance matrix calculated using the outer product of gradients (complex-step)."
      ],
      "text/plain": [
       "<class 'statsmodels.iolib.summary.Summary'>\n",
       "\"\"\"\n",
       "                                      SARIMAX Results                                      \n",
       "===========================================================================================\n",
       "Dep. Variable:             Thousands of Passengers   No. Observations:                   94\n",
       "Model:             SARIMAX(0, 1, 1)x(2, 1, [], 12)   Log Likelihood                -298.398\n",
       "Date:                             Sat, 21 Aug 2021   AIC                            604.795\n",
       "Time:                                     20:45:45   BIC                            614.373\n",
       "Sample:                                 01-01-1949   HQIC                           608.638\n",
       "                                      - 10-01-1956                                         \n",
       "Covariance Type:                               opg                                         \n",
       "==============================================================================\n",
       "                 coef    std err          z      P>|z|      [0.025      0.975]\n",
       "------------------------------------------------------------------------------\n",
       "ma.L1         -0.2760      0.105     -2.618      0.009      -0.483      -0.069\n",
       "ar.S.L12      -0.2074      0.112     -1.845      0.065      -0.428       0.013\n",
       "ar.S.L24       0.0613      0.127      0.481      0.630      -0.188       0.311\n",
       "sigma2        91.8783     15.454      5.945      0.000      61.589     122.168\n",
       "===================================================================================\n",
       "Ljung-Box (L1) (Q):                   0.00   Jarque-Bera (JB):                 2.16\n",
       "Prob(Q):                              0.98   Prob(JB):                         0.34\n",
       "Heteroskedasticity (H):               1.87   Skew:                             0.38\n",
       "Prob(H) (two-sided):                  0.11   Kurtosis:                         2.74\n",
       "===================================================================================\n",
       "\n",
       "Warnings:\n",
       "[1] Covariance matrix calculated using the outer product of gradients (complex-step).\n",
       "\"\"\""
      ]
     },
     "execution_count": 26,
     "metadata": {},
     "output_type": "execute_result"
    }
   ],
   "source": [
    "import statsmodels.api as sm\n",
    "ds= sm.tsa.statespace.SARIMAX(Train,order=(0,1,1),seasonal_order=(2,1,0,12))\n",
    "ds=ds.fit()\n",
    "ds.summary()"
   ]
  },
  {
   "cell_type": "markdown",
   "id": "a7fa43ff",
   "metadata": {},
   "source": [
    "- As there are seasonality is Present in The data, we will go for SARIMA Model as it will provide better model than ARIMA, because ARIMA don't treat seasonality error.\n",
    " \n",
    "**Best Model**: SARIMAX(0,1,1)(2,1,0)[12]"
   ]
  },
  {
   "cell_type": "markdown",
   "id": "bc4dc02f",
   "metadata": {},
   "source": [
    "- As in the data seasonality and trend both are present SARIMAX Model will be prefered and best model for the data."
   ]
  },
  {
   "cell_type": "code",
   "execution_count": 27,
   "id": "28ea5a47",
   "metadata": {},
   "outputs": [
    {
     "name": "stdout",
     "output_type": "stream",
     "text": [
      "1956-11-01    276.030181\n",
      "1956-12-01    314.226201\n",
      "1957-01-01    322.290904\n",
      "1957-02-01    315.305348\n",
      "1957-03-01    353.264079\n",
      "1957-04-01    351.121413\n",
      "1957-05-01    354.924065\n",
      "1957-06-01    409.562680\n",
      "1957-07-01    451.310803\n",
      "1957-08-01    440.953985\n",
      "1957-09-01    394.003212\n",
      "1957-10-01    346.793779\n",
      "1957-11-01    314.691686\n",
      "1957-12-01    354.388843\n",
      "1958-01-01    361.596207\n",
      "1958-02-01    354.730280\n",
      "1958-03-01    393.480178\n",
      "1958-04-01    390.584487\n",
      "1958-05-01    394.880680\n",
      "1958-06-01    450.476034\n",
      "1958-07-01    491.041163\n",
      "1958-08-01    481.724883\n",
      "1958-09-01    433.222117\n",
      "1958-10-01    384.966945\n",
      "1958-11-01    353.738054\n",
      "1958-12-01    392.952004\n",
      "1959-01-01    400.463744\n",
      "1959-02-01    393.573895\n",
      "1959-03-01    432.034576\n",
      "1959-04-01    429.408915\n",
      "1959-05-01    433.529351\n",
      "1959-06-01    488.842839\n",
      "1959-07-01    529.821776\n",
      "1959-08-01    520.145220\n",
      "1959-09-01    472.151243\n",
      "1959-10-01    424.222709\n",
      "1959-11-01    392.682008\n",
      "1959-12-01    432.088198\n",
      "1960-01-01    439.484255\n",
      "1960-02-01    432.606701\n",
      "1960-03-01    471.175865\n",
      "1960-04-01    468.448039\n",
      "1960-05-01    472.635181\n",
      "1960-06-01    528.065779\n",
      "1960-07-01    568.886373\n",
      "1960-08-01    559.348324\n",
      "1960-09-01    511.153685\n",
      "1960-10-01    463.093300\n",
      "1960-11-01    431.670797\n",
      "1960-12-01    471.007495\n",
      "Freq: MS, Name: SARIMA(0,1,1)(2,1,0)[12] Predictions, dtype: float64\n"
     ]
    }
   ],
   "source": [
    "start=len(Train)\n",
    "end=len(Train)+len(test)-1\n",
    "pred=ds.predict(start=start,end=end,typ='levels').rename('SARIMA(0,1,1)(2,1,0)[12] Predictions')\n",
    "print(pred)"
   ]
  },
  {
   "cell_type": "code",
   "execution_count": 28,
   "id": "a3025485",
   "metadata": {},
   "outputs": [
    {
     "data": {
      "text/plain": [
       "<AxesSubplot:xlabel='Month'>"
      ]
     },
     "execution_count": 28,
     "metadata": {},
     "output_type": "execute_result"
    },
    {
     "data": {
      "image/png": "[encoded data removed]",
      "text/plain": [
       "<Figure size 864x720 with 1 Axes>"
      ]
     },
     "metadata": {
      "needs_background": "light"
     },
     "output_type": "display_data"
    }
   ],
   "source": [
    "pred.plot(legend=True)\n",
    "test.plot(legend=True)"
   ]
  },
  {
   "cell_type": "code",
   "execution_count": 35,
   "id": "60dcf5f6",
   "metadata": {},
   "outputs": [
    {
     "name": "stdout",
     "output_type": "stream",
     "text": [
      "SARIMA(0,1,1)(2,1,0)[12] MSE Error: 773.9247226\n"
     ]
    }
   ],
   "source": [
    "from sklearn.metrics import mean_squared_error\n",
    "\n",
    "error = mean_squared_error(test, pred)\n",
    "print(f'SARIMA(0,1,1)(2,1,0)[12] MSE Error: {error:11.10}')"
   ]
  },
  {
   "cell_type": "code",
   "execution_count": 36,
   "id": "85d1afcf",
   "metadata": {},
   "outputs": [
    {
     "name": "stdout",
     "output_type": "stream",
     "text": [
      "SARIMA(0,1,1)(2,1,0)[12] RMSE Error: 27.81950256\n"
     ]
    }
   ],
   "source": [
    "from statsmodels.tools.eval_measures import rmse\n",
    "\n",
    "error = rmse(test, pred)\n",
    "print(f'SARIMA(0,1,1)(2,1,0)[12] RMSE Error: {error:11.10}')"
   ]
  },
  {
   "cell_type": "code",
   "execution_count": 37,
   "id": "eb114986",
   "metadata": {},
   "outputs": [
    {
     "name": "stderr",
     "output_type": "stream",
     "text": [
      "C:\\Users\\user\\Anaconda3\\lib\\site-packages\\statsmodels\\tsa\\base\\tsa_model.py:524: ValueWarning: No frequency information was provided, so inferred frequency MS will be used.\n",
      "  warnings.warn('No frequency information was'\n",
      "C:\\Users\\user\\Anaconda3\\lib\\site-packages\\statsmodels\\tsa\\base\\tsa_model.py:524: ValueWarning: No frequency information was provided, so inferred frequency MS will be used.\n",
      "  warnings.warn('No frequency information was'\n"
     ]
    }
   ],
   "source": [
    "model = sm.tsa.statespace.SARIMAX(airline_data['Thousands of Passengers'],order=(0,1,1),seasonal_order=(2,1,0,12))\n",
    "results = model.fit()\n",
    "forecast = results.predict(len(airline_data),len(airline_data)+48,typ='levels').rename('SARIMA(0,1,1)(2,1,0)[12] Forecast') #Prediction for 4years"
   ]
  },
  {
   "cell_type": "code",
   "execution_count": 38,
   "id": "7ea9bf36",
   "metadata": {},
   "outputs": [
    {
     "data": {
      "text/plain": [
       "[Text(0.5, 0, ''), Text(0, 0.5, 'Frequency')]"
      ]
     },
     "execution_count": 38,
     "metadata": {},
     "output_type": "execute_result"
    },
    {
     "data": {
      "image/png": "[encoded data removed]",
      "text/plain": [
       "<Figure size 864x432 with 1 Axes>"
      ]
     },
     "metadata": {
      "needs_background": "light"
     },
     "output_type": "display_data"
    }
   ],
   "source": [
    "# Plot predictions against known values (forecast for 4 years).\n",
    "title = 'Airline'\n",
    "ylabel='Frequency'\n",
    "xlabel=''\n",
    "\n",
    "ax = airline_data['Thousands of Passengers'].plot(legend=True,figsize=(12,6),title=title)\n",
    "forecast.plot(legend=True)\n",
    "ax.autoscale(axis='x',tight=True)\n",
    "ax.set(xlabel=xlabel, ylabel=ylabel)"
   ]
  },
  {
   "cell_type": "markdown",
   "id": "a9dd0449",
   "metadata": {},
   "source": [
    "Trend has increased in upcoming years as per the seasons."
   ]
  },
  {
   "cell_type": "markdown",
   "id": "9f002a56",
   "metadata": {},
   "source": [
    "https://analyticsindiamag.com/complete-guide-to-sarimax-in-python-for-time-series-modeling/#:~:text=In%20the%20SARIMAX%20models%20parameter%2C%20we%20need%20to,we%20are%20required%20to%20provide%20four%20numbers.%20\n",
    "\n",
    "https://neptune.ai/blog/arima-sarima-real-world-time-series-forecasting-guide"
   ]
  }
 ],
 "metadata": {
  "kernelspec": {
   "display_name": "Python 3",
   "language": "python",
   "name": "python3"
  },
  "language_info": {
   "codemirror_mode": {
    "name": "ipython",
    "version": 3
   },
   "file_extension": ".py",
   "mimetype": "text/x-python",
   "name": "python",
   "nbconvert_exporter": "python",
   "pygments_lexer": "ipython3",
   "version": "3.8.8"
  }
 },
 "nbformat": 4,
 "nbformat_minor": 5
}
